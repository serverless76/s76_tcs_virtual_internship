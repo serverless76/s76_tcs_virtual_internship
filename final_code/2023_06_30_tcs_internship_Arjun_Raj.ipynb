{
  "cells": [
    {
      "cell_type": "code",
      "execution_count": null,
      "metadata": {
        "id": "LSTfbEhBwuR-"
      },
      "outputs": [],
      "source": []
    },
    {
      "cell_type": "markdown",
      "source": [
        "## Pre-Preprocessing"
      ],
      "metadata": {
        "id": "sKMeUnzk84pO"
      }
    },
    {
      "cell_type": "code",
      "execution_count": null,
      "metadata": {
        "id": "KEmoub7HNkev"
      },
      "outputs": [],
      "source": [
        "import pandas as pd\n",
        "import numpy as np\n",
        "import os\n",
        "import pathlib\n",
        "import sys\n",
        "result_dict={}"
      ]
    },
    {
      "cell_type": "code",
      "execution_count": null,
      "metadata": {
        "id": "MiBoH9AUagrf"
      },
      "outputs": [],
      "source": [
        "import warnings\n",
        "# warnings.filterwarnings('ignore') ### see https://stackoverflow.com/a/9031848\n",
        "# warnings.filterwarnings('default')\n",
        "warnings.filterwarnings(action='once')"
      ]
    },
    {
      "cell_type": "code",
      "execution_count": null,
      "metadata": {
        "colab": {
          "base_uri": "https://localhost:8080/"
        },
        "id": "KnmXbP6twfL3",
        "outputId": "51ac03b9-ee6b-4237-c9e6-159d55f282bc"
      },
      "outputs": [
        {
          "output_type": "stream",
          "name": "stderr",
          "text": [
            "/usr/local/lib/python3.10/dist-packages/ipykernel/ipkernel.py:283: DeprecationWarning: `should_run_async` will not call `transform_cell` automatically in the future. Please pass the result to `transformed_cell` argument and any exception that happen during thetransform in `preprocessing_exc_tuple` in IPython 7.17 and above.\n",
            "  and should_run_async(code)\n"
          ]
        }
      ],
      "source": [
        "# from google.colab import drive\n",
        "# drive.mount('/content/drive')"
      ]
    },
    {
      "cell_type": "code",
      "execution_count": null,
      "metadata": {
        "colab": {
          "base_uri": "https://localhost:8080/",
          "height": 1000
        },
        "id": "yUmC2ue2N9zr",
        "outputId": "0be31064-e60c-4dc2-87e3-1276c5ff054f"
      },
      "outputs": [
        {
          "output_type": "stream",
          "name": "stderr",
          "text": [
            "<frozen importlib._bootstrap>:914: ImportWarning: APICoreClientInfoImportHook.find_spec() not found; falling back to find_module()\n",
            "<frozen importlib._bootstrap>:914: ImportWarning: _PyDriveImportHook.find_spec() not found; falling back to find_module()\n",
            "<frozen importlib._bootstrap>:914: ImportWarning: _OpenCVImportHook.find_spec() not found; falling back to find_module()\n",
            "<frozen importlib._bootstrap>:914: ImportWarning: _BokehImportHook.find_spec() not found; falling back to find_module()\n",
            "<frozen importlib._bootstrap>:914: ImportWarning: _AltairImportHook.find_spec() not found; falling back to find_module()\n",
            "<frozen importlib._bootstrap>:914: ImportWarning: APICoreClientInfoImportHook.find_spec() not found; falling back to find_module()\n",
            "<frozen importlib._bootstrap>:914: ImportWarning: _PyDriveImportHook.find_spec() not found; falling back to find_module()\n",
            "<frozen importlib._bootstrap>:914: ImportWarning: _OpenCVImportHook.find_spec() not found; falling back to find_module()\n",
            "<frozen importlib._bootstrap>:914: ImportWarning: _BokehImportHook.find_spec() not found; falling back to find_module()\n",
            "<frozen importlib._bootstrap>:914: ImportWarning: _AltairImportHook.find_spec() not found; falling back to find_module()\n",
            "<frozen importlib._bootstrap>:914: ImportWarning: APICoreClientInfoImportHook.find_spec() not found; falling back to find_module()\n",
            "<frozen importlib._bootstrap>:914: ImportWarning: _PyDriveImportHook.find_spec() not found; falling back to find_module()\n",
            "<frozen importlib._bootstrap>:914: ImportWarning: _OpenCVImportHook.find_spec() not found; falling back to find_module()\n",
            "<frozen importlib._bootstrap>:914: ImportWarning: _BokehImportHook.find_spec() not found; falling back to find_module()\n",
            "<frozen importlib._bootstrap>:914: ImportWarning: _AltairImportHook.find_spec() not found; falling back to find_module()\n"
          ]
        },
        {
          "output_type": "execute_result",
          "data": {
            "text/plain": [
              "                 tweet_id airline_sentiment  airline_sentiment_confidence  \\\n",
              "0      570306133677760513           neutral                        1.0000   \n",
              "1      570301130888122368          positive                        0.3486   \n",
              "2      570301083672813571           neutral                        0.6837   \n",
              "3      570301031407624196          negative                        1.0000   \n",
              "4      570300817074462722          negative                        1.0000   \n",
              "...                   ...               ...                           ...   \n",
              "14635  569587686496825344          positive                        0.3487   \n",
              "14636  569587371693355008          negative                        1.0000   \n",
              "14637  569587242672398336           neutral                        1.0000   \n",
              "14638  569587188687634433          negative                        1.0000   \n",
              "14639  569587140490866689           neutral                        0.6771   \n",
              "\n",
              "               negativereason  negativereason_confidence         airline  \\\n",
              "0                         NaN                        NaN  Virgin America   \n",
              "1                         NaN                     0.0000  Virgin America   \n",
              "2                         NaN                        NaN  Virgin America   \n",
              "3                  Bad Flight                     0.7033  Virgin America   \n",
              "4                  Can't Tell                     1.0000  Virgin America   \n",
              "...                       ...                        ...             ...   \n",
              "14635                     NaN                     0.0000        American   \n",
              "14636  Customer Service Issue                     1.0000        American   \n",
              "14637                     NaN                        NaN        American   \n",
              "14638  Customer Service Issue                     0.6659        American   \n",
              "14639                     NaN                     0.0000        American   \n",
              "\n",
              "      airline_sentiment_gold             name negativereason_gold  \\\n",
              "0                        NaN          cairdin                 NaN   \n",
              "1                        NaN         jnardino                 NaN   \n",
              "2                        NaN       yvonnalynn                 NaN   \n",
              "3                        NaN         jnardino                 NaN   \n",
              "4                        NaN         jnardino                 NaN   \n",
              "...                      ...              ...                 ...   \n",
              "14635                    NaN  KristenReenders                 NaN   \n",
              "14636                    NaN         itsropes                 NaN   \n",
              "14637                    NaN         sanyabun                 NaN   \n",
              "14638                    NaN       SraJackson                 NaN   \n",
              "14639                    NaN        daviddtwu                 NaN   \n",
              "\n",
              "       retweet_count                                               text  \\\n",
              "0                  0                @VirginAmerica What @dhepburn said.   \n",
              "1                  0  @VirginAmerica plus you've added commercials t...   \n",
              "2                  0  @VirginAmerica I didn't today... Must mean I n...   \n",
              "3                  0  @VirginAmerica it's really aggressive to blast...   \n",
              "4                  0  @VirginAmerica and it's a really big bad thing...   \n",
              "...              ...                                                ...   \n",
              "14635              0  @AmericanAir thank you we got on a different f...   \n",
              "14636              0  @AmericanAir leaving over 20 minutes Late Flig...   \n",
              "14637              0  @AmericanAir Please bring American Airlines to...   \n",
              "14638              0  @AmericanAir you have my money, you change my ...   \n",
              "14639              0  @AmericanAir we have 8 ppl so we need 2 know h...   \n",
              "\n",
              "      tweet_coord              tweet_created tweet_location  \\\n",
              "0             NaN  2015-02-24 11:35:52 -0800            NaN   \n",
              "1             NaN  2015-02-24 11:15:59 -0800            NaN   \n",
              "2             NaN  2015-02-24 11:15:48 -0800      Lets Play   \n",
              "3             NaN  2015-02-24 11:15:36 -0800            NaN   \n",
              "4             NaN  2015-02-24 11:14:45 -0800            NaN   \n",
              "...           ...                        ...            ...   \n",
              "14635         NaN  2015-02-22 12:01:01 -0800            NaN   \n",
              "14636         NaN  2015-02-22 11:59:46 -0800          Texas   \n",
              "14637         NaN  2015-02-22 11:59:15 -0800  Nigeria,lagos   \n",
              "14638         NaN  2015-02-22 11:59:02 -0800     New Jersey   \n",
              "14639         NaN  2015-02-22 11:58:51 -0800     dallas, TX   \n",
              "\n",
              "                    user_timezone  \n",
              "0      Eastern Time (US & Canada)  \n",
              "1      Pacific Time (US & Canada)  \n",
              "2      Central Time (US & Canada)  \n",
              "3      Pacific Time (US & Canada)  \n",
              "4      Pacific Time (US & Canada)  \n",
              "...                           ...  \n",
              "14635                         NaN  \n",
              "14636                         NaN  \n",
              "14637                         NaN  \n",
              "14638  Eastern Time (US & Canada)  \n",
              "14639                         NaN  \n",
              "\n",
              "[14640 rows x 15 columns]"
            ],
            "text/html": [
              "\n",
              "  <div id=\"df-1abb3cb1-4efe-43bc-b520-cac8d0bc4dc8\" class=\"colab-df-container\">\n",
              "    <div>\n",
              "<style scoped>\n",
              "    .dataframe tbody tr th:only-of-type {\n",
              "        vertical-align: middle;\n",
              "    }\n",
              "\n",
              "    .dataframe tbody tr th {\n",
              "        vertical-align: top;\n",
              "    }\n",
              "\n",
              "    .dataframe thead th {\n",
              "        text-align: right;\n",
              "    }\n",
              "</style>\n",
              "<table border=\"1\" class=\"dataframe\">\n",
              "  <thead>\n",
              "    <tr style=\"text-align: right;\">\n",
              "      <th></th>\n",
              "      <th>tweet_id</th>\n",
              "      <th>airline_sentiment</th>\n",
              "      <th>airline_sentiment_confidence</th>\n",
              "      <th>negativereason</th>\n",
              "      <th>negativereason_confidence</th>\n",
              "      <th>airline</th>\n",
              "      <th>airline_sentiment_gold</th>\n",
              "      <th>name</th>\n",
              "      <th>negativereason_gold</th>\n",
              "      <th>retweet_count</th>\n",
              "      <th>text</th>\n",
              "      <th>tweet_coord</th>\n",
              "      <th>tweet_created</th>\n",
              "      <th>tweet_location</th>\n",
              "      <th>user_timezone</th>\n",
              "    </tr>\n",
              "  </thead>\n",
              "  <tbody>\n",
              "    <tr>\n",
              "      <th>0</th>\n",
              "      <td>570306133677760513</td>\n",
              "      <td>neutral</td>\n",
              "      <td>1.0000</td>\n",
              "      <td>NaN</td>\n",
              "      <td>NaN</td>\n",
              "      <td>Virgin America</td>\n",
              "      <td>NaN</td>\n",
              "      <td>cairdin</td>\n",
              "      <td>NaN</td>\n",
              "      <td>0</td>\n",
              "      <td>@VirginAmerica What @dhepburn said.</td>\n",
              "      <td>NaN</td>\n",
              "      <td>2015-02-24 11:35:52 -0800</td>\n",
              "      <td>NaN</td>\n",
              "      <td>Eastern Time (US &amp; Canada)</td>\n",
              "    </tr>\n",
              "    <tr>\n",
              "      <th>1</th>\n",
              "      <td>570301130888122368</td>\n",
              "      <td>positive</td>\n",
              "      <td>0.3486</td>\n",
              "      <td>NaN</td>\n",
              "      <td>0.0000</td>\n",
              "      <td>Virgin America</td>\n",
              "      <td>NaN</td>\n",
              "      <td>jnardino</td>\n",
              "      <td>NaN</td>\n",
              "      <td>0</td>\n",
              "      <td>@VirginAmerica plus you've added commercials t...</td>\n",
              "      <td>NaN</td>\n",
              "      <td>2015-02-24 11:15:59 -0800</td>\n",
              "      <td>NaN</td>\n",
              "      <td>Pacific Time (US &amp; Canada)</td>\n",
              "    </tr>\n",
              "    <tr>\n",
              "      <th>2</th>\n",
              "      <td>570301083672813571</td>\n",
              "      <td>neutral</td>\n",
              "      <td>0.6837</td>\n",
              "      <td>NaN</td>\n",
              "      <td>NaN</td>\n",
              "      <td>Virgin America</td>\n",
              "      <td>NaN</td>\n",
              "      <td>yvonnalynn</td>\n",
              "      <td>NaN</td>\n",
              "      <td>0</td>\n",
              "      <td>@VirginAmerica I didn't today... Must mean I n...</td>\n",
              "      <td>NaN</td>\n",
              "      <td>2015-02-24 11:15:48 -0800</td>\n",
              "      <td>Lets Play</td>\n",
              "      <td>Central Time (US &amp; Canada)</td>\n",
              "    </tr>\n",
              "    <tr>\n",
              "      <th>3</th>\n",
              "      <td>570301031407624196</td>\n",
              "      <td>negative</td>\n",
              "      <td>1.0000</td>\n",
              "      <td>Bad Flight</td>\n",
              "      <td>0.7033</td>\n",
              "      <td>Virgin America</td>\n",
              "      <td>NaN</td>\n",
              "      <td>jnardino</td>\n",
              "      <td>NaN</td>\n",
              "      <td>0</td>\n",
              "      <td>@VirginAmerica it's really aggressive to blast...</td>\n",
              "      <td>NaN</td>\n",
              "      <td>2015-02-24 11:15:36 -0800</td>\n",
              "      <td>NaN</td>\n",
              "      <td>Pacific Time (US &amp; Canada)</td>\n",
              "    </tr>\n",
              "    <tr>\n",
              "      <th>4</th>\n",
              "      <td>570300817074462722</td>\n",
              "      <td>negative</td>\n",
              "      <td>1.0000</td>\n",
              "      <td>Can't Tell</td>\n",
              "      <td>1.0000</td>\n",
              "      <td>Virgin America</td>\n",
              "      <td>NaN</td>\n",
              "      <td>jnardino</td>\n",
              "      <td>NaN</td>\n",
              "      <td>0</td>\n",
              "      <td>@VirginAmerica and it's a really big bad thing...</td>\n",
              "      <td>NaN</td>\n",
              "      <td>2015-02-24 11:14:45 -0800</td>\n",
              "      <td>NaN</td>\n",
              "      <td>Pacific Time (US &amp; Canada)</td>\n",
              "    </tr>\n",
              "    <tr>\n",
              "      <th>...</th>\n",
              "      <td>...</td>\n",
              "      <td>...</td>\n",
              "      <td>...</td>\n",
              "      <td>...</td>\n",
              "      <td>...</td>\n",
              "      <td>...</td>\n",
              "      <td>...</td>\n",
              "      <td>...</td>\n",
              "      <td>...</td>\n",
              "      <td>...</td>\n",
              "      <td>...</td>\n",
              "      <td>...</td>\n",
              "      <td>...</td>\n",
              "      <td>...</td>\n",
              "      <td>...</td>\n",
              "    </tr>\n",
              "    <tr>\n",
              "      <th>14635</th>\n",
              "      <td>569587686496825344</td>\n",
              "      <td>positive</td>\n",
              "      <td>0.3487</td>\n",
              "      <td>NaN</td>\n",
              "      <td>0.0000</td>\n",
              "      <td>American</td>\n",
              "      <td>NaN</td>\n",
              "      <td>KristenReenders</td>\n",
              "      <td>NaN</td>\n",
              "      <td>0</td>\n",
              "      <td>@AmericanAir thank you we got on a different f...</td>\n",
              "      <td>NaN</td>\n",
              "      <td>2015-02-22 12:01:01 -0800</td>\n",
              "      <td>NaN</td>\n",
              "      <td>NaN</td>\n",
              "    </tr>\n",
              "    <tr>\n",
              "      <th>14636</th>\n",
              "      <td>569587371693355008</td>\n",
              "      <td>negative</td>\n",
              "      <td>1.0000</td>\n",
              "      <td>Customer Service Issue</td>\n",
              "      <td>1.0000</td>\n",
              "      <td>American</td>\n",
              "      <td>NaN</td>\n",
              "      <td>itsropes</td>\n",
              "      <td>NaN</td>\n",
              "      <td>0</td>\n",
              "      <td>@AmericanAir leaving over 20 minutes Late Flig...</td>\n",
              "      <td>NaN</td>\n",
              "      <td>2015-02-22 11:59:46 -0800</td>\n",
              "      <td>Texas</td>\n",
              "      <td>NaN</td>\n",
              "    </tr>\n",
              "    <tr>\n",
              "      <th>14637</th>\n",
              "      <td>569587242672398336</td>\n",
              "      <td>neutral</td>\n",
              "      <td>1.0000</td>\n",
              "      <td>NaN</td>\n",
              "      <td>NaN</td>\n",
              "      <td>American</td>\n",
              "      <td>NaN</td>\n",
              "      <td>sanyabun</td>\n",
              "      <td>NaN</td>\n",
              "      <td>0</td>\n",
              "      <td>@AmericanAir Please bring American Airlines to...</td>\n",
              "      <td>NaN</td>\n",
              "      <td>2015-02-22 11:59:15 -0800</td>\n",
              "      <td>Nigeria,lagos</td>\n",
              "      <td>NaN</td>\n",
              "    </tr>\n",
              "    <tr>\n",
              "      <th>14638</th>\n",
              "      <td>569587188687634433</td>\n",
              "      <td>negative</td>\n",
              "      <td>1.0000</td>\n",
              "      <td>Customer Service Issue</td>\n",
              "      <td>0.6659</td>\n",
              "      <td>American</td>\n",
              "      <td>NaN</td>\n",
              "      <td>SraJackson</td>\n",
              "      <td>NaN</td>\n",
              "      <td>0</td>\n",
              "      <td>@AmericanAir you have my money, you change my ...</td>\n",
              "      <td>NaN</td>\n",
              "      <td>2015-02-22 11:59:02 -0800</td>\n",
              "      <td>New Jersey</td>\n",
              "      <td>Eastern Time (US &amp; Canada)</td>\n",
              "    </tr>\n",
              "    <tr>\n",
              "      <th>14639</th>\n",
              "      <td>569587140490866689</td>\n",
              "      <td>neutral</td>\n",
              "      <td>0.6771</td>\n",
              "      <td>NaN</td>\n",
              "      <td>0.0000</td>\n",
              "      <td>American</td>\n",
              "      <td>NaN</td>\n",
              "      <td>daviddtwu</td>\n",
              "      <td>NaN</td>\n",
              "      <td>0</td>\n",
              "      <td>@AmericanAir we have 8 ppl so we need 2 know h...</td>\n",
              "      <td>NaN</td>\n",
              "      <td>2015-02-22 11:58:51 -0800</td>\n",
              "      <td>dallas, TX</td>\n",
              "      <td>NaN</td>\n",
              "    </tr>\n",
              "  </tbody>\n",
              "</table>\n",
              "<p>14640 rows × 15 columns</p>\n",
              "</div>\n",
              "    <div class=\"colab-df-buttons\">\n",
              "\n",
              "  <div class=\"colab-df-container\">\n",
              "    <button class=\"colab-df-convert\" onclick=\"convertToInteractive('df-1abb3cb1-4efe-43bc-b520-cac8d0bc4dc8')\"\n",
              "            title=\"Convert this dataframe to an interactive table.\"\n",
              "            style=\"display:none;\">\n",
              "\n",
              "  <svg xmlns=\"http://www.w3.org/2000/svg\" height=\"24px\" viewBox=\"0 -960 960 960\">\n",
              "    <path d=\"M120-120v-720h720v720H120Zm60-500h600v-160H180v160Zm220 220h160v-160H400v160Zm0 220h160v-160H400v160ZM180-400h160v-160H180v160Zm440 0h160v-160H620v160ZM180-180h160v-160H180v160Zm440 0h160v-160H620v160Z\"/>\n",
              "  </svg>\n",
              "    </button>\n",
              "\n",
              "  <style>\n",
              "    .colab-df-container {\n",
              "      display:flex;\n",
              "      gap: 12px;\n",
              "    }\n",
              "\n",
              "    .colab-df-convert {\n",
              "      background-color: #E8F0FE;\n",
              "      border: none;\n",
              "      border-radius: 50%;\n",
              "      cursor: pointer;\n",
              "      display: none;\n",
              "      fill: #1967D2;\n",
              "      height: 32px;\n",
              "      padding: 0 0 0 0;\n",
              "      width: 32px;\n",
              "    }\n",
              "\n",
              "    .colab-df-convert:hover {\n",
              "      background-color: #E2EBFA;\n",
              "      box-shadow: 0px 1px 2px rgba(60, 64, 67, 0.3), 0px 1px 3px 1px rgba(60, 64, 67, 0.15);\n",
              "      fill: #174EA6;\n",
              "    }\n",
              "\n",
              "    .colab-df-buttons div {\n",
              "      margin-bottom: 4px;\n",
              "    }\n",
              "\n",
              "    [theme=dark] .colab-df-convert {\n",
              "      background-color: #3B4455;\n",
              "      fill: #D2E3FC;\n",
              "    }\n",
              "\n",
              "    [theme=dark] .colab-df-convert:hover {\n",
              "      background-color: #434B5C;\n",
              "      box-shadow: 0px 1px 3px 1px rgba(0, 0, 0, 0.15);\n",
              "      filter: drop-shadow(0px 1px 2px rgba(0, 0, 0, 0.3));\n",
              "      fill: #FFFFFF;\n",
              "    }\n",
              "  </style>\n",
              "\n",
              "    <script>\n",
              "      const buttonEl =\n",
              "        document.querySelector('#df-1abb3cb1-4efe-43bc-b520-cac8d0bc4dc8 button.colab-df-convert');\n",
              "      buttonEl.style.display =\n",
              "        google.colab.kernel.accessAllowed ? 'block' : 'none';\n",
              "\n",
              "      async function convertToInteractive(key) {\n",
              "        const element = document.querySelector('#df-1abb3cb1-4efe-43bc-b520-cac8d0bc4dc8');\n",
              "        const dataTable =\n",
              "          await google.colab.kernel.invokeFunction('convertToInteractive',\n",
              "                                                    [key], {});\n",
              "        if (!dataTable) return;\n",
              "\n",
              "        const docLinkHtml = 'Like what you see? Visit the ' +\n",
              "          '<a target=\"_blank\" href=https://colab.research.google.com/notebooks/data_table.ipynb>data table notebook</a>'\n",
              "          + ' to learn more about interactive tables.';\n",
              "        element.innerHTML = '';\n",
              "        dataTable['output_type'] = 'display_data';\n",
              "        await google.colab.output.renderOutput(dataTable, element);\n",
              "        const docLink = document.createElement('div');\n",
              "        docLink.innerHTML = docLinkHtml;\n",
              "        element.appendChild(docLink);\n",
              "      }\n",
              "    </script>\n",
              "  </div>\n",
              "\n",
              "\n",
              "<div id=\"df-7818c104-9246-4e2b-b6d6-54db822b9dd9\">\n",
              "  <button class=\"colab-df-quickchart\" onclick=\"quickchart('df-7818c104-9246-4e2b-b6d6-54db822b9dd9')\"\n",
              "            title=\"Suggest charts.\"\n",
              "            style=\"display:none;\">\n",
              "\n",
              "<svg xmlns=\"http://www.w3.org/2000/svg\" height=\"24px\"viewBox=\"0 0 24 24\"\n",
              "     width=\"24px\">\n",
              "    <g>\n",
              "        <path d=\"M19 3H5c-1.1 0-2 .9-2 2v14c0 1.1.9 2 2 2h14c1.1 0 2-.9 2-2V5c0-1.1-.9-2-2-2zM9 17H7v-7h2v7zm4 0h-2V7h2v10zm4 0h-2v-4h2v4z\"/>\n",
              "    </g>\n",
              "</svg>\n",
              "  </button>\n",
              "\n",
              "<style>\n",
              "  .colab-df-quickchart {\n",
              "    background-color: #E8F0FE;\n",
              "    border: none;\n",
              "    border-radius: 50%;\n",
              "    cursor: pointer;\n",
              "    display: none;\n",
              "    fill: #1967D2;\n",
              "    height: 32px;\n",
              "    padding: 0 0 0 0;\n",
              "    width: 32px;\n",
              "  }\n",
              "\n",
              "  .colab-df-quickchart:hover {\n",
              "    background-color: #E2EBFA;\n",
              "    box-shadow: 0px 1px 2px rgba(60, 64, 67, 0.3), 0px 1px 3px 1px rgba(60, 64, 67, 0.15);\n",
              "    fill: #174EA6;\n",
              "  }\n",
              "\n",
              "  [theme=dark] .colab-df-quickchart {\n",
              "    background-color: #3B4455;\n",
              "    fill: #D2E3FC;\n",
              "  }\n",
              "\n",
              "  [theme=dark] .colab-df-quickchart:hover {\n",
              "    background-color: #434B5C;\n",
              "    box-shadow: 0px 1px 3px 1px rgba(0, 0, 0, 0.15);\n",
              "    filter: drop-shadow(0px 1px 2px rgba(0, 0, 0, 0.3));\n",
              "    fill: #FFFFFF;\n",
              "  }\n",
              "</style>\n",
              "\n",
              "  <script>\n",
              "    async function quickchart(key) {\n",
              "      const charts = await google.colab.kernel.invokeFunction(\n",
              "          'suggestCharts', [key], {});\n",
              "    }\n",
              "    (() => {\n",
              "      let quickchartButtonEl =\n",
              "        document.querySelector('#df-7818c104-9246-4e2b-b6d6-54db822b9dd9 button');\n",
              "      quickchartButtonEl.style.display =\n",
              "        google.colab.kernel.accessAllowed ? 'block' : 'none';\n",
              "    })();\n",
              "  </script>\n",
              "</div>\n",
              "    </div>\n",
              "  </div>\n"
            ]
          },
          "metadata": {},
          "execution_count": 4
        }
      ],
      "source": [
        "drive_project_folder_path='/content/drive/MyDrive/ml-ai files arjun'\n",
        "internship_folder_path=f'{drive_project_folder_path}/tcs_internship'\n",
        "\n",
        "tweet_emotion_dataworld_data_path=f'{drive_project_folder_path}/tcs_internship/text_emotion_dataworld_webinar.csv'\n",
        "airline_tweet_data_path=f'{drive_project_folder_path}/tcs_internship/Tweets_airline_kaggle.csv'\n",
        "\n",
        "datafile_path= airline_tweet_data_path\n",
        "# datafile_path=f'{drive_project_folder_path}/tweet_emotions.csv'\n",
        "# datafile_path=f'{drive_project_folder_path}/tweets.csv'\n",
        "\n",
        "\n",
        "df = pd.read_csv(datafile_path)\n",
        "old_df=pd.read_csv(f'{drive_project_folder_path}/tweets.csv')\n",
        "df\n"
      ]
    },
    {
      "cell_type": "markdown",
      "source": [
        "#### dataworld data specific eda"
      ],
      "metadata": {
        "id": "33jkjgzDiwZg"
      }
    },
    {
      "cell_type": "code",
      "execution_count": null,
      "metadata": {
        "id": "5Z5V16bv4vRV",
        "colab": {
          "base_uri": "https://localhost:8080/"
        },
        "outputId": "e4bb32f1-8f16-47ef-9065-d893ec62b102"
      },
      "outputs": [
        {
          "output_type": "stream",
          "name": "stderr",
          "text": [
            "/usr/local/lib/python3.10/dist-packages/ipykernel/ipkernel.py:283: DeprecationWarning: `should_run_async` will not call `transform_cell` automatically in the future. Please pass the result to `transformed_cell` argument and any exception that happen during thetransform in `preprocessing_exc_tuple` in IPython 7.17 and above.\n",
            "  and should_run_async(code)\n"
          ]
        }
      ],
      "source": [
        "## no need to attempt specialising the analysis with respect to the author's persona because the number of comments per author is meager compared to dataset size\n",
        "# df['author'].value_counts()\n",
        "# print(df['author'].value_counts().mean())\n",
        "if datafile_path==tweet_emotion_dataworld_data_path :\n",
        "    df['tweet_id'].nunique() ## tweet id is unique;\n",
        "    # df=df.set_index('tweet_id') ### ; it is better to use it as index\n",
        "    # df.to_markdown()\n",
        "\n",
        "    # def convert_emotion_to_sentiment(emotion:str):\n",
        "    #     NEGATIVE_EMOTIONS=['sadness','worry','hate','boredom','anger','empty']\n",
        "    #     POSITIVE_EMOTIONS=['happiness','love','surprise','fun','relief','enthusiasm']\n",
        "    #     if emotion in NEGATIVE_EMOTIONS:\n",
        "    #         return 'negative'\n",
        "    #     elif emotion in POSITIVE_EMOTIONS:\n",
        "    #         return 'positive'\n",
        "    #     elif emotion == 'neutral':\n",
        "    #         return 'neutral'\n",
        "\n",
        "    df=df.loc[~df['sentiment'].isin(['enthusiasm','anger','boredom','empty'])]\n",
        "\n",
        "    # df[target_col_name]=df[target_col_name].apply(convert_emotion_to_sentiment)\n",
        "    # num_targets=3\n",
        "    # df\n",
        "    ## data too big system crashes\n",
        "    # df=df.iloc[1:15000,:]\n",
        "    df.shape\n",
        "\n",
        "    # original_df=df.copy()"
      ]
    },
    {
      "cell_type": "code",
      "source": [],
      "metadata": {
        "id": "MAVTUFjB66vY"
      },
      "execution_count": null,
      "outputs": []
    },
    {
      "cell_type": "markdown",
      "source": [
        "#### dataworld data specific eda ends"
      ],
      "metadata": {
        "id": "C3_faf1Vi3zs"
      }
    },
    {
      "cell_type": "markdown",
      "source": [
        "#### airline data specific eda"
      ],
      "metadata": {
        "id": "zoGA5fxAi9bq"
      }
    },
    {
      "cell_type": "code",
      "source": [
        "if datafile_path==airline_tweet_data_path :\n",
        "    df['airline_sentiment_confidence'].hist()\n",
        "    df=df[df['airline_sentiment_confidence'] >= 0.9]\n",
        "    df.to_markdown()"
      ],
      "metadata": {
        "id": "TuqzsJ0Pe5AN",
        "colab": {
          "base_uri": "https://localhost:8080/",
          "height": 54
        },
        "outputId": "3c4e1408-ded2-418e-bc5a-b5120e2afc5b"
      },
      "execution_count": null,
      "outputs": [
        {
          "output_type": "display_data",
          "data": {
            "text/plain": [
              "<Figure size 640x480 with 1 Axes>"
            ],
            "image/png": "[encoded data removed]"
          },
          "metadata": {}
        }
      ]
    },
    {
      "cell_type": "markdown",
      "source": [
        "#### airline data specific eda ends"
      ],
      "metadata": {
        "id": "5j1NtaRojCaU"
      }
    },
    {
      "cell_type": "code",
      "execution_count": null,
      "metadata": {
        "id": "64EULWT_yHvE"
      },
      "outputs": [],
      "source": [
        "### data specific\n",
        "\n",
        "if datafile_path==tweet_emotion_dataworld_data_path :\n",
        "    text_col_name='content'\n",
        "    target_col_name='sentiment'\n",
        "\n",
        "if datafile_path==airline_tweet_data_path :\n",
        "    text_col_name='text'\n",
        "    target_col_name='airline_sentiment'\n"
      ]
    },
    {
      "cell_type": "code",
      "execution_count": null,
      "metadata": {
        "colab": {
          "base_uri": "https://localhost:8080/"
        },
        "id": "hOmHL9marYRR",
        "outputId": "021321cf-b1d0-4253-9f66-c46a6ca13b9d"
      },
      "outputs": [
        {
          "output_type": "stream",
          "name": "stdout",
          "text": [
            "<class 'pandas.core.frame.DataFrame'>\n",
            "Int64Index: 10458 entries, 0 to 14638\n",
            "Data columns (total 15 columns):\n",
            " #   Column                        Non-Null Count  Dtype  \n",
            "---  ------                        --------------  -----  \n",
            " 0   tweet_id                      10458 non-null  int64  \n",
            " 1   airline_sentiment             10458 non-null  object \n",
            " 2   airline_sentiment_confidence  10458 non-null  float64\n",
            " 3   negativereason                7391 non-null   object \n",
            " 4   negativereason_confidence     7395 non-null   float64\n",
            " 5   airline                       10458 non-null  object \n",
            " 6   airline_sentiment_gold        36 non-null     object \n",
            " 7   name                          10458 non-null  object \n",
            " 8   negativereason_gold           29 non-null     object \n",
            " 9   retweet_count                 10458 non-null  int64  \n",
            " 10  text                          10458 non-null  object \n",
            " 11  tweet_coord                   745 non-null    object \n",
            " 12  tweet_created                 10458 non-null  object \n",
            " 13  tweet_location                7006 non-null   object \n",
            " 14  user_timezone                 6959 non-null   object \n",
            "dtypes: float64(2), int64(2), object(11)\n",
            "memory usage: 1.3+ MB\n"
          ]
        }
      ],
      "source": [
        "# df.columns=['tweet_id','sentiment','author','content']\n",
        "df.info()"
      ]
    },
    {
      "cell_type": "code",
      "execution_count": null,
      "metadata": {
        "colab": {
          "base_uri": "https://localhost:8080/"
        },
        "id": "g6GeNO9LrbYU",
        "outputId": "0fbc06c0-ab62-4c27-a5f3-4a102af26e31"
      },
      "outputs": [
        {
          "output_type": "stream",
          "name": "stderr",
          "text": [
            "/usr/local/lib/python3.10/dist-packages/ipykernel/ipkernel.py:283: DeprecationWarning: `should_run_async` will not call `transform_cell` automatically in the future. Please pass the result to `transformed_cell` argument and any exception that happen during thetransform in `preprocessing_exc_tuple` in IPython 7.17 and above.\n",
            "  and should_run_async(code)\n"
          ]
        }
      ],
      "source": []
    },
    {
      "cell_type": "code",
      "execution_count": null,
      "metadata": {
        "colab": {
          "base_uri": "https://localhost:8080/"
        },
        "id": "_dmrpd7oOHuy",
        "outputId": "87912c4b-068d-4171-9596-f33a0820bbd2"
      },
      "outputs": [
        {
          "output_type": "execute_result",
          "data": {
            "text/plain": [
              "(10458, 15)"
            ]
          },
          "metadata": {},
          "execution_count": 9
        }
      ],
      "source": [
        "df.shape"
      ]
    },
    {
      "cell_type": "code",
      "execution_count": null,
      "metadata": {
        "colab": {
          "base_uri": "https://localhost:8080/"
        },
        "id": "o1fTTQf8VbZP",
        "outputId": "5dfeeda5-4fd3-4119-ae88-0950828207df"
      },
      "outputs": [
        {
          "output_type": "execute_result",
          "data": {
            "text/plain": [
              "3"
            ]
          },
          "metadata": {},
          "execution_count": 10
        }
      ],
      "source": [
        "num_targets=df[target_col_name].nunique()\n",
        "num_targets"
      ]
    },
    {
      "cell_type": "code",
      "execution_count": null,
      "metadata": {
        "colab": {
          "base_uri": "https://localhost:8080/"
        },
        "id": "2Ksyv55lWwTf",
        "outputId": "718ac817-deff-42ea-a1e8-f7917d6599ed"
      },
      "outputs": [
        {
          "output_type": "execute_result",
          "data": {
            "text/plain": [
              "negative    7391\n",
              "neutral     1550\n",
              "positive    1517\n",
              "Name: airline_sentiment, dtype: int64"
            ]
          },
          "metadata": {},
          "execution_count": 11
        }
      ],
      "source": [
        "df[target_col_name].value_counts()"
      ]
    },
    {
      "cell_type": "code",
      "source": [],
      "metadata": {
        "colab": {
          "base_uri": "https://localhost:8080/"
        },
        "id": "vZdoIwiUDs5f",
        "outputId": "f44956e5-79c1-4d15-f82a-d0e2983026bd"
      },
      "execution_count": null,
      "outputs": [
        {
          "output_type": "stream",
          "name": "stderr",
          "text": [
            "/usr/local/lib/python3.10/dist-packages/ipykernel/ipkernel.py:283: DeprecationWarning: `should_run_async` will not call `transform_cell` automatically in the future. Please pass the result to `transformed_cell` argument and any exception that happen during thetransform in `preprocessing_exc_tuple` in IPython 7.17 and above.\n",
            "  and should_run_async(code)\n"
          ]
        }
      ]
    },
    {
      "cell_type": "code",
      "execution_count": null,
      "metadata": {
        "id": "YjMwfa7XpSTI"
      },
      "outputs": [],
      "source": [
        "### data too big system crashes\n",
        "# df=df.iloc[1:15000,:]\n",
        "# df.shape\n",
        "\n",
        "# original_df=df.copy()"
      ]
    },
    {
      "cell_type": "code",
      "execution_count": null,
      "metadata": {
        "colab": {
          "base_uri": "https://localhost:8080/"
        },
        "id": "x7FzXEhKOJ-6",
        "outputId": "f57605a4-b4a1-4810-be51-2ab9111965b0"
      },
      "outputs": [
        {
          "output_type": "execute_result",
          "data": {
            "text/plain": [
              "Index(['tweet_id', 'airline_sentiment', 'airline_sentiment_confidence',\n",
              "       'negativereason', 'negativereason_confidence', 'airline',\n",
              "       'airline_sentiment_gold', 'name', 'negativereason_gold',\n",
              "       'retweet_count', 'text', 'tweet_coord', 'tweet_created',\n",
              "       'tweet_location', 'user_timezone'],\n",
              "      dtype='object')"
            ]
          },
          "metadata": {},
          "execution_count": 13
        }
      ],
      "source": [
        "df.columns"
      ]
    },
    {
      "cell_type": "code",
      "execution_count": null,
      "metadata": {
        "colab": {
          "base_uri": "https://localhost:8080/"
        },
        "id": "hGud23QzQAwt",
        "outputId": "253520b3-f2e3-4cec-a668-3b801b7c7e93"
      },
      "outputs": [
        {
          "output_type": "stream",
          "name": "stdout",
          "text": [
            "0\n"
          ]
        },
        {
          "output_type": "execute_result",
          "data": {
            "text/plain": [
              "0"
            ]
          },
          "metadata": {},
          "execution_count": 14
        }
      ],
      "source": [
        "### check for missing values\n",
        "print(df[target_col_name].isna().sum())\n",
        "df[text_col_name].isna().sum()\n"
      ]
    },
    {
      "cell_type": "code",
      "execution_count": null,
      "metadata": {
        "id": "xwqaU66_OUPG"
      },
      "outputs": [],
      "source": [
        "# df['sentiment'][1]"
      ]
    },
    {
      "cell_type": "code",
      "execution_count": null,
      "metadata": {
        "id": "W637aCZkObvI"
      },
      "outputs": [],
      "source": []
    },
    {
      "cell_type": "code",
      "source": [
        "## drop all unnecessary cols\n",
        "\n",
        "# df=df.drop('author',axis=1)\n",
        "# df=df.drop('tweet_id',axis=1)\n",
        "\n",
        "# all_cols_list=df.columns.tolist()\n",
        "# unnecessary_cols_list=[col for col in all_cols_list if col not in [text_col_name,target_col_name]]\n",
        "# df=df.drop(unnecessary_cols_list,axis=1)\n",
        "# ### middle section\n",
        "# df.iloc[148:168,:]"
      ],
      "metadata": {
        "id": "IF_uZxT4hT_X"
      },
      "execution_count": null,
      "outputs": []
    },
    {
      "cell_type": "code",
      "execution_count": null,
      "metadata": {
        "id": "4DzD0FDTLNpK"
      },
      "outputs": [],
      "source": [
        "def gen_preprocess_df_return_Xy(df=df,target_col_name=target_col_name,text_col_name=text_col_name):\n",
        "    num_targets=df[target_col_name].nunique()\n",
        "\n",
        "\n",
        "    ## drop all unnecessary cols\n",
        "    all_cols_list=df.columns.tolist()\n",
        "    unnecessary_cols_list=[col for col in all_cols_list if col not in [text_col_name,target_col_name]]\n",
        "    df=df.drop(unnecessary_cols_list,axis=1)\n",
        "\n",
        "    X=df.drop(target_col_name,axis=1)\n",
        "    y=df[target_col_name].copy() ###ak\n",
        "    return X,y\n",
        "\n",
        "\n",
        "X,y=gen_preprocess_df_return_Xy(df)\n",
        "\n",
        "# X=df.drop(target_col_name,axis=1)\n",
        "# y=df[target_col_name].copy() ###ak"
      ]
    },
    {
      "cell_type": "code",
      "execution_count": null,
      "metadata": {
        "colab": {
          "base_uri": "https://localhost:8080/"
        },
        "id": "H9bskE59CDYN",
        "outputId": "c3e9ec75-5a92-42df-86f8-8f9ce572329c"
      },
      "outputs": [
        {
          "output_type": "stream",
          "name": "stderr",
          "text": [
            "/usr/local/lib/python3.10/dist-packages/ipykernel/ipkernel.py:283: DeprecationWarning: `should_run_async` will not call `transform_cell` automatically in the future. Please pass the result to `transformed_cell` argument and any exception that happen during thetransform in `preprocessing_exc_tuple` in IPython 7.17 and above.\n",
            "  and should_run_async(code)\n"
          ]
        }
      ],
      "source": []
    },
    {
      "cell_type": "code",
      "execution_count": null,
      "metadata": {
        "colab": {
          "base_uri": "https://localhost:8080/"
        },
        "id": "swYV6TPjV-Mc",
        "outputId": "81feab57-62ca-4797-e5a7-205afb807604"
      },
      "outputs": [
        {
          "output_type": "stream",
          "name": "stderr",
          "text": [
            "<frozen importlib._bootstrap>:914: ImportWarning: APICoreClientInfoImportHook.find_spec() not found; falling back to find_module()\n",
            "<frozen importlib._bootstrap>:914: ImportWarning: _PyDriveImportHook.find_spec() not found; falling back to find_module()\n",
            "<frozen importlib._bootstrap>:914: ImportWarning: _OpenCVImportHook.find_spec() not found; falling back to find_module()\n",
            "<frozen importlib._bootstrap>:914: ImportWarning: _BokehImportHook.find_spec() not found; falling back to find_module()\n",
            "<frozen importlib._bootstrap>:914: ImportWarning: _AltairImportHook.find_spec() not found; falling back to find_module()\n",
            "<frozen importlib._bootstrap>:914: ImportWarning: APICoreClientInfoImportHook.find_spec() not found; falling back to find_module()\n",
            "<frozen importlib._bootstrap>:914: ImportWarning: _PyDriveImportHook.find_spec() not found; falling back to find_module()\n",
            "<frozen importlib._bootstrap>:914: ImportWarning: _OpenCVImportHook.find_spec() not found; falling back to find_module()\n",
            "<frozen importlib._bootstrap>:914: ImportWarning: _BokehImportHook.find_spec() not found; falling back to find_module()\n",
            "<frozen importlib._bootstrap>:914: ImportWarning: _AltairImportHook.find_spec() not found; falling back to find_module()\n",
            "<frozen importlib._bootstrap>:914: ImportWarning: APICoreClientInfoImportHook.find_spec() not found; falling back to find_module()\n",
            "<frozen importlib._bootstrap>:914: ImportWarning: _PyDriveImportHook.find_spec() not found; falling back to find_module()\n",
            "<frozen importlib._bootstrap>:914: ImportWarning: _OpenCVImportHook.find_spec() not found; falling back to find_module()\n",
            "<frozen importlib._bootstrap>:914: ImportWarning: _BokehImportHook.find_spec() not found; falling back to find_module()\n",
            "<frozen importlib._bootstrap>:914: ImportWarning: _AltairImportHook.find_spec() not found; falling back to find_module()\n",
            "<frozen importlib._bootstrap>:914: ImportWarning: APICoreClientInfoImportHook.find_spec() not found; falling back to find_module()\n",
            "<frozen importlib._bootstrap>:914: ImportWarning: _PyDriveImportHook.find_spec() not found; falling back to find_module()\n",
            "<frozen importlib._bootstrap>:914: ImportWarning: _OpenCVImportHook.find_spec() not found; falling back to find_module()\n",
            "<frozen importlib._bootstrap>:914: ImportWarning: _BokehImportHook.find_spec() not found; falling back to find_module()\n",
            "<frozen importlib._bootstrap>:914: ImportWarning: _AltairImportHook.find_spec() not found; falling back to find_module()\n"
          ]
        },
        {
          "output_type": "stream",
          "name": "stdout",
          "text": [
            "{'negative': 0, 'neutral': 1, 'positive': 2}\n"
          ]
        },
        {
          "output_type": "execute_result",
          "data": {
            "text/plain": [
              "0        1\n",
              "3        0\n",
              "4        0\n",
              "5        0\n",
              "9        2\n",
              "        ..\n",
              "14631    0\n",
              "14633    0\n",
              "14636    0\n",
              "14637    1\n",
              "14638    0\n",
              "Name: airline_sentiment, Length: 10458, dtype: object"
            ]
          },
          "metadata": {},
          "execution_count": 18
        }
      ],
      "source": [
        "### encode y\n",
        "from sklearn.preprocessing import LabelEncoder\n",
        "le=LabelEncoder()\n",
        "\n",
        "# y=y.values.reshape(-1,1)\n",
        "y_np=le.fit_transform(y)\n",
        "y[:]=y_np\n",
        "\n",
        "\n",
        "target_cat_name_to_encoded_dict={ str(class_name) :idx for idx, class_name in enumerate(le.classes_)}\n",
        "class_weight_dict={}\n",
        "print(target_cat_name_to_encoded_dict)\n",
        "for class_name,idx in target_cat_name_to_encoded_dict.items():\n",
        "    class_weight_dict.update({ int(idx): (1/ float(df[target_col_name].value_counts()[class_name])\n",
        "                                     )})\n",
        "y"
      ]
    },
    {
      "cell_type": "code",
      "execution_count": null,
      "metadata": {
        "colab": {
          "base_uri": "https://localhost:8080/"
        },
        "id": "UQyZBBbKtFjR",
        "outputId": "e11a31d3-637e-445d-f6ae-449381c1201c"
      },
      "outputs": [
        {
          "output_type": "stream",
          "name": "stderr",
          "text": [
            "/usr/local/lib/python3.10/dist-packages/ipykernel/ipkernel.py:283: DeprecationWarning: `should_run_async` will not call `transform_cell` automatically in the future. Please pass the result to `transformed_cell` argument and any exception that happen during thetransform in `preprocessing_exc_tuple` in IPython 7.17 and above.\n",
            "  and should_run_async(code)\n"
          ]
        }
      ],
      "source": [
        "\n"
      ]
    },
    {
      "cell_type": "code",
      "execution_count": null,
      "metadata": {
        "id": "ei3JFdj5LNpL",
        "colab": {
          "base_uri": "https://localhost:8080/"
        },
        "outputId": "e07aaced-edd8-41ee-df68-3de2015f6349"
      },
      "outputs": [
        {
          "output_type": "stream",
          "name": "stderr",
          "text": [
            "<frozen importlib._bootstrap>:914: ImportWarning: APICoreClientInfoImportHook.find_spec() not found; falling back to find_module()\n",
            "<frozen importlib._bootstrap>:914: ImportWarning: _PyDriveImportHook.find_spec() not found; falling back to find_module()\n",
            "<frozen importlib._bootstrap>:914: ImportWarning: _OpenCVImportHook.find_spec() not found; falling back to find_module()\n",
            "<frozen importlib._bootstrap>:914: ImportWarning: _BokehImportHook.find_spec() not found; falling back to find_module()\n",
            "<frozen importlib._bootstrap>:914: ImportWarning: _AltairImportHook.find_spec() not found; falling back to find_module()\n"
          ]
        }
      ],
      "source": [
        "from sklearn.model_selection import train_test_split\n",
        "\n",
        "X_train, X_test, y_train,y_test = train_test_split(X,y,test_size=0.2, random_state=1,stratify=y)"
      ]
    },
    {
      "cell_type": "code",
      "execution_count": null,
      "metadata": {
        "colab": {
          "base_uri": "https://localhost:8080/"
        },
        "id": "_2peNG1O9-4z",
        "outputId": "1f71fa64-6c77-4f09-aa33-69251d29d4fb"
      },
      "outputs": [
        {
          "output_type": "stream",
          "name": "stderr",
          "text": [
            "/usr/local/lib/python3.10/dist-packages/ipykernel/ipkernel.py:283: DeprecationWarning: `should_run_async` will not call `transform_cell` automatically in the future. Please pass the result to `transformed_cell` argument and any exception that happen during thetransform in `preprocessing_exc_tuple` in IPython 7.17 and above.\n",
            "  and should_run_async(code)\n"
          ]
        },
        {
          "output_type": "execute_result",
          "data": {
            "text/plain": [
              "(8366, 1)"
            ]
          },
          "metadata": {},
          "execution_count": 20
        }
      ],
      "source": [
        "X_train.shape"
      ]
    },
    {
      "cell_type": "markdown",
      "metadata": {
        "id": "H-axjUOr6rYK"
      },
      "source": [
        "## Pre-processing"
      ]
    },
    {
      "cell_type": "markdown",
      "source": [
        "### basic text preprocessing functions"
      ],
      "metadata": {
        "id": "-poKFOg-n0Qf"
      }
    },
    {
      "cell_type": "code",
      "execution_count": null,
      "metadata": {
        "id": "lSXyV0DN2SoW"
      },
      "outputs": [],
      "source": [
        "import re"
      ]
    },
    {
      "cell_type": "code",
      "source": [
        "from sklearn import metrics\n",
        "from matplotlib import pyplot as plt\n",
        "def get_conf_fscore(y_test,y_pred):\n",
        "    y_test_to_use=y_test\n",
        "    confusion_matrix= metrics.confusion_matrix(y_test_to_use,y_pred)\n",
        "    # display_labels=[0,1] ## (manual)\n",
        "    cm_display= metrics.ConfusionMatrixDisplay(confusion_matrix=confusion_matrix )\n",
        "    cm_display.plot()\n",
        "    plt.show()\n",
        "    try:\n",
        "        model_name=model_name\n",
        "    except Exception:\n",
        "        model_name=''\n",
        "    plt.savefig(f'{internship_folder_path}/conf_matrix_{model_name}_{datetime.now()}.png')\n",
        "\n",
        "\n",
        "    ### accuracy metrics\n",
        "    accuracy= metrics.accuracy_score(y_test_to_use,y_pred)\n",
        "    recall= metrics.recall_score(y_test_to_use,y_pred,average='macro')\n",
        "    # recall= metrics.recall_score(y_test_to_use,y_pred)\n",
        "    recall0= metrics.recall_score(y_test_to_use,y_pred,pos_label=0,average='macro')\n",
        "\n",
        "    precision= metrics.precision_score(y_test_to_use,y_pred,average='macro')\n",
        "    precision0= metrics.precision_score(y_test_to_use,y_pred,pos_label=0,average='macro')\n",
        "\n",
        "    f_score= 2*recall*precision/(recall+precision)\n",
        "\n",
        "    print('accuracy is ',accuracy, '\\n')\n",
        "    print('recall for class 1 is ',recall, '\\n')\n",
        "    print('precision for class 1 is ',precision, '\\n')\n",
        "    print('recall for class 0 is ',recall0, '\\n')\n",
        "    print('precision for class 0 is ',precision0, '\\n')\n",
        "\n",
        "    print('f_score is for class 1',f_score, '\\n')\n",
        "    return {'accuracy':accuracy,'recall_1':recall,'precision_1':precision,'fscore_1':f_score}"
      ],
      "metadata": {
        "id": "DJFWtpBDZjNm"
      },
      "execution_count": null,
      "outputs": []
    },
    {
      "cell_type": "code",
      "execution_count": null,
      "metadata": {
        "colab": {
          "base_uri": "https://localhost:8080/"
        },
        "id": "t811NvOorF2e",
        "outputId": "0663a7a6-21c5-46c2-fb94-3833634702fc"
      },
      "outputs": [
        {
          "output_type": "stream",
          "name": "stderr",
          "text": [
            "<frozen importlib._bootstrap>:914: ImportWarning: APICoreClientInfoImportHook.find_spec() not found; falling back to find_module()\n",
            "<frozen importlib._bootstrap>:914: ImportWarning: _PyDriveImportHook.find_spec() not found; falling back to find_module()\n",
            "<frozen importlib._bootstrap>:914: ImportWarning: _OpenCVImportHook.find_spec() not found; falling back to find_module()\n",
            "<frozen importlib._bootstrap>:914: ImportWarning: _BokehImportHook.find_spec() not found; falling back to find_module()\n",
            "<frozen importlib._bootstrap>:914: ImportWarning: _AltairImportHook.find_spec() not found; falling back to find_module()\n",
            "[nltk_data] Downloading package punkt to /root/nltk_data...\n",
            "[nltk_data]   Unzipping tokenizers/punkt.zip.\n",
            "[nltk_data] Downloading package stopwords to /root/nltk_data...\n",
            "[nltk_data]   Unzipping corpora/stopwords.zip.\n",
            "[nltk_data] Downloading package wordnet to /root/nltk_data...\n",
            "[nltk_data] Downloading package averaged_perceptron_tagger to\n",
            "[nltk_data]     /root/nltk_data...\n",
            "[nltk_data]   Unzipping taggers/averaged_perceptron_tagger.zip.\n",
            "[nltk_data] Downloading package words to /root/nltk_data...\n",
            "[nltk_data]   Unzipping corpora/words.zip.\n"
          ]
        },
        {
          "output_type": "execute_result",
          "data": {
            "text/plain": [
              "True"
            ]
          },
          "metadata": {},
          "execution_count": 22
        }
      ],
      "source": [
        "import nltk\n",
        "nltk.download('punkt')\n",
        "nltk.download('stopwords')\n",
        "nltk.download('wordnet')\n",
        "nltk.download('averaged_perceptron_tagger')\n",
        "nltk.download('words')"
      ]
    },
    {
      "cell_type": "code",
      "execution_count": null,
      "metadata": {
        "id": "hqhh9M9-wGuA"
      },
      "outputs": [],
      "source": [
        "# ! pip install autocorrect ### ! pip install pyspellchecker ## this library is better than the autocorrect library for spellchecking .. the latter gives incorrect results\n",
        "\n",
        "# # from spellchecker import SpellChecker\n",
        "# from autocorrect import Speller"
      ]
    },
    {
      "cell_type": "code",
      "execution_count": null,
      "metadata": {
        "id": "ExnvjLJ4ktfP",
        "colab": {
          "base_uri": "https://localhost:8080/"
        },
        "outputId": "3070eda2-9d60-4ebd-d40f-e04a01002612"
      },
      "outputs": [
        {
          "output_type": "stream",
          "name": "stderr",
          "text": [
            "/usr/local/lib/python3.10/dist-packages/google/rpc/__init__.py:20: DeprecationWarning: Deprecated call to `pkg_resources.declare_namespace('google.rpc')`.\n",
            "Implementing implicit namespace packages (as specified in PEP 420) is preferred to `pkg_resources.declare_namespace`. See https://setuptools.pypa.io/en/latest/references/keywords.html#keyword-namespace-packages\n",
            "  pkg_resources.declare_namespace(__name__)\n",
            "/usr/local/lib/python3.10/dist-packages/pkg_resources/__init__.py:2349: DeprecationWarning: Deprecated call to `pkg_resources.declare_namespace('google')`.\n",
            "Implementing implicit namespace packages (as specified in PEP 420) is preferred to `pkg_resources.declare_namespace`. See https://setuptools.pypa.io/en/latest/references/keywords.html#keyword-namespace-packages\n",
            "  declare_namespace(parent)\n",
            "<frozen importlib._bootstrap>:914: ImportWarning: APICoreClientInfoImportHook.find_spec() not found; falling back to find_module()\n",
            "<frozen importlib._bootstrap>:914: ImportWarning: _PyDriveImportHook.find_spec() not found; falling back to find_module()\n",
            "<frozen importlib._bootstrap>:914: ImportWarning: _OpenCVImportHook.find_spec() not found; falling back to find_module()\n",
            "<frozen importlib._bootstrap>:914: ImportWarning: _BokehImportHook.find_spec() not found; falling back to find_module()\n",
            "<frozen importlib._bootstrap>:914: ImportWarning: _AltairImportHook.find_spec() not found; falling back to find_module()\n",
            "<frozen importlib._bootstrap>:914: ImportWarning: APICoreClientInfoImportHook.find_spec() not found; falling back to find_module()\n",
            "<frozen importlib._bootstrap>:914: ImportWarning: _PyDriveImportHook.find_spec() not found; falling back to find_module()\n",
            "<frozen importlib._bootstrap>:914: ImportWarning: _OpenCVImportHook.find_spec() not found; falling back to find_module()\n",
            "<frozen importlib._bootstrap>:914: ImportWarning: _BokehImportHook.find_spec() not found; falling back to find_module()\n",
            "<frozen importlib._bootstrap>:914: ImportWarning: _AltairImportHook.find_spec() not found; falling back to find_module()\n",
            "<frozen importlib._bootstrap>:914: ImportWarning: APICoreClientInfoImportHook.find_spec() not found; falling back to find_module()\n",
            "<frozen importlib._bootstrap>:914: ImportWarning: _PyDriveImportHook.find_spec() not found; falling back to find_module()\n",
            "<frozen importlib._bootstrap>:914: ImportWarning: _OpenCVImportHook.find_spec() not found; falling back to find_module()\n",
            "<frozen importlib._bootstrap>:914: ImportWarning: _BokehImportHook.find_spec() not found; falling back to find_module()\n",
            "<frozen importlib._bootstrap>:914: ImportWarning: _AltairImportHook.find_spec() not found; falling back to find_module()\n",
            "<frozen importlib._bootstrap>:671: ImportWarning: APICoreClientInfoImportHook.exec_module() not found; falling back to load_module()\n"
          ]
        }
      ],
      "source": [
        "from sklearn.base import BaseEstimator, TransformerMixin\n",
        "from sklearn.pipeline import FeatureUnion, Pipeline\n",
        "from sklearn.compose import ColumnTransformer\n",
        "from gensim.utils import simple_preprocess\n",
        "from sklearn.feature_extraction.text import TfidfVectorizer\n",
        "from sklearn.feature_extraction.text import CountVectorizer\n",
        "from nltk.tokenize import word_tokenize\n",
        "from nltk.tokenize import sent_tokenize\n",
        "from sklearn.preprocessing import StandardScaler\n",
        "from nltk.tokenize.toktok import ToktokTokenizer\n",
        "\n",
        "class DummyTransformer(BaseEstimator,TransformerMixin):\n",
        "\n",
        "    '''\n",
        "    dummy class to inherit from to avoid typing the fit method for everything\n",
        "    '''\n",
        "    def __init__(self):\n",
        "        return None\n",
        "    def fit(self,X=None,y=None):\n",
        "        return self\n",
        "    def transform(self,X=None):\n",
        "        return X\n",
        "    def set_output(self, transform='default'):\n",
        "        return None"
      ]
    },
    {
      "cell_type": "code",
      "execution_count": null,
      "metadata": {
        "colab": {
          "base_uri": "https://localhost:8080/"
        },
        "id": "cPQM6lw30uQJ",
        "outputId": "2b736e77-de57-4302-dc30-1c7edf9c0ab8"
      },
      "outputs": [
        {
          "output_type": "stream",
          "name": "stderr",
          "text": [
            "/usr/local/lib/python3.10/dist-packages/ipykernel/ipkernel.py:283: DeprecationWarning: `should_run_async` will not call `transform_cell` automatically in the future. Please pass the result to `transformed_cell` argument and any exception that happen during thetransform in `preprocessing_exc_tuple` in IPython 7.17 and above.\n",
            "  and should_run_async(code)\n"
          ]
        },
        {
          "output_type": "stream",
          "name": "stdout",
          "text": [
            "Collecting pyspellchecker\n",
            "  Downloading pyspellchecker-0.7.2-py3-none-any.whl (3.4 MB)\n",
            "\u001b[?25l     \u001b[90m━━━━━━━━━━━━━━━━━━━━━━━━━━━━━━━━━━━━━━━━\u001b[0m \u001b[32m0.0/3.4 MB\u001b[0m \u001b[31m?\u001b[0m eta \u001b[36m-:--:--\u001b[0m\r\u001b[2K     \u001b[91m━\u001b[0m\u001b[91m╸\u001b[0m\u001b[90m━━━━━━━━━━━━━━━━━━━━━━━━━━━━━━━━━━━━━━\u001b[0m \u001b[32m0.1/3.4 MB\u001b[0m \u001b[31m4.1 MB/s\u001b[0m eta \u001b[36m0:00:01\u001b[0m\r\u001b[2K     \u001b[91m━━━━━━━━━━━━━━━━\u001b[0m\u001b[91m╸\u001b[0m\u001b[90m━━━━━━━━━━━━━━━━━━━━━━━\u001b[0m \u001b[32m1.4/3.4 MB\u001b[0m \u001b[31m20.8 MB/s\u001b[0m eta \u001b[36m0:00:01\u001b[0m\r\u001b[2K     \u001b[91m━━━━━━━━━━━━━━━━━━━━━━━━━━━━━━━━━━━━━━━\u001b[0m\u001b[91m╸\u001b[0m \u001b[32m3.4/3.4 MB\u001b[0m \u001b[31m36.5 MB/s\u001b[0m eta \u001b[36m0:00:01\u001b[0m\r\u001b[2K     \u001b[90m━━━━━━━━━━━━━━━━━━━━━━━━━━━━━━━━━━━━━━━━\u001b[0m \u001b[32m3.4/3.4 MB\u001b[0m \u001b[31m31.2 MB/s\u001b[0m eta \u001b[36m0:00:00\u001b[0m\n",
            "\u001b[?25hInstalling collected packages: pyspellchecker\n",
            "Successfully installed pyspellchecker-0.7.2\n"
          ]
        },
        {
          "output_type": "stream",
          "name": "stderr",
          "text": [
            "/usr/local/lib/python3.10/dist-packages/google/colab/_pip.py:85: ResourceWarning: unclosed file <_io.TextIOWrapper name='/usr/local/lib/python3.10/dist-packages/pyspellchecker-0.7.2.dist-info/top_level.txt' mode='r' encoding='UTF-8'>\n",
            "  for line in open(toplevel):\n",
            "ResourceWarning: Enable tracemalloc to get the object allocation traceback\n"
          ]
        }
      ],
      "source": [
        "! pip install pyspellchecker ## this library is better than the autocorrect library for spellchecking .. the latter gives incorrect results\n",
        "from spellchecker import SpellChecker"
      ]
    },
    {
      "cell_type": "code",
      "execution_count": null,
      "metadata": {
        "id": "HJqHT-V0yty6"
      },
      "outputs": [],
      "source": [
        "## debug\n",
        "# Speller()('snob')\n",
        "# spellch=SpellChecker()\n",
        "# spellch.unknown(['iirc','stewardess','stewerdess'])"
      ]
    },
    {
      "cell_type": "code",
      "execution_count": null,
      "metadata": {
        "id": "phtRzysz6w8h"
      },
      "outputs": [],
      "source": [
        "# remove rows that start with @something ; because these could be replies to previous comments therefore may lack context\n",
        "## don't remove the entire row (these rows still seem to contain sensible info) instead only replace the firstword with the pharse \"jflaksjdfalkdsjflek\"..\n",
        "## replace @specificsomeonesname in the beginning tweets with the @firsthashtag ; since the specific person is probably not important\n",
        "class HashtagReplacer(DummyTransformer):\n",
        "    reply_tweet_count=0\n",
        "    def replacement_callable_firsthastag(self,match_obj):\n",
        "        if datafile_path == airline_tweet_data_path:\n",
        "            return ''\n",
        "\n",
        "        if match_obj is None:\n",
        "            return 'firsthashtag '\n",
        "        else:\n",
        "            self.reply_tweet_count += 1\n",
        "            return 'firsthashtag '\n",
        "\n",
        "    def replacement_callable_notfirsthastag(self,match_obj):\n",
        "\n",
        "        return ''\n",
        "        # if match_obj is None:\n",
        "        #     return 'somehashtag '\n",
        "        # hashtagtext= match_obj.group(1)\n",
        "        # misspelled_word = SpellChecker().unknown([hashtagtext]) ## from https://www.kaggle.com/code/sudalairajkumar/getting-started-with-text-preprocessing\n",
        "        # if misspelled_word :\n",
        "        #     # return 'somehashtag '\n",
        "        #     return ''\n",
        "        # else:\n",
        "        #     # return hashtagtext + ' '\n",
        "        #     return ''\n",
        "\n",
        "\n",
        "\n",
        "\n",
        "    def replace_first_hashtag(self,text:str):\n",
        "        '''\n",
        "         replace the hashtags that are form the first word of the document with the pharse \"firsthashtag\"..\n",
        "        '''\n",
        "        return re.sub(r'^\\@[^\\s]+? ',self.replacement_callable_firsthastag,text)\n",
        "\n",
        "    def replace_all_hashtags(self,text:str):\n",
        "        \"\"\"hashtags that are the first hashtag might be the person to which a reply tweet is being made\n",
        "         but subsequent hashtag needn't be ; so it might be better to treat these cases separately\n",
        "\n",
        "        \"\"\"\n",
        "        return re.sub(r'\\@([^\\s]+?) ',self.replacement_callable_notfirsthastag,text)\n",
        "\n",
        "\n",
        "\n",
        "    def transform(self,X):\n",
        "        text_col_series=X\n",
        "        text_col_series=text_col_series.apply(self.remove_first_hashtag).apply(self.replace_all_hashtags)\n",
        "\n",
        "        return text_col_series\n"
      ]
    },
    {
      "cell_type": "code",
      "execution_count": null,
      "metadata": {
        "id": "MQTpQLnmiS0Z"
      },
      "outputs": [],
      "source": []
    },
    {
      "cell_type": "code",
      "execution_count": null,
      "metadata": {
        "colab": {
          "base_uri": "https://localhost:8080/"
        },
        "id": "9oIfknlBiM1h",
        "outputId": "ea8db77d-8291-4750-c3ac-4eca7ff48c9e"
      },
      "outputs": [
        {
          "output_type": "stream",
          "name": "stdout",
          "text": [
            "Collecting emoji\n",
            "  Downloading emoji-2.8.0-py2.py3-none-any.whl (358 kB)\n",
            "\u001b[2K     \u001b[90m━━━━━━━━━━━━━━━━━━━━━━━━━━━━━━━━━━━━━━━\u001b[0m \u001b[32m358.9/358.9 kB\u001b[0m \u001b[31m2.4 MB/s\u001b[0m eta \u001b[36m0:00:00\u001b[0m\n",
            "\u001b[?25hInstalling collected packages: emoji\n",
            "Successfully installed emoji-2.8.0\n"
          ]
        },
        {
          "output_type": "stream",
          "name": "stderr",
          "text": [
            "/usr/local/lib/python3.10/dist-packages/google/colab/_pip.py:85: ResourceWarning: unclosed file <_io.TextIOWrapper name='/usr/local/lib/python3.10/dist-packages/emoji-2.8.0.dist-info/top_level.txt' mode='r' encoding='UTF-8'>\n",
            "  for line in open(toplevel):\n",
            "ResourceWarning: Enable tracemalloc to get the object allocation traceback\n"
          ]
        }
      ],
      "source": [
        "! pip install emoji"
      ]
    },
    {
      "cell_type": "markdown",
      "metadata": {
        "id": "E6HfWsHNrPor"
      },
      "source": [
        "##### start of abbreviations"
      ]
    },
    {
      "cell_type": "code",
      "execution_count": null,
      "metadata": {
        "id": "QwKdyqxdqThq"
      },
      "outputs": [],
      "source": [
        "## from https://www.kaggle.com/code/nmaguette/up-to-date-list-of-slangs-for-text-preprocessing\n",
        "abbreviations = {\n",
        "    \"$\" : \" dollar \",\n",
        "    \"€\" : \" euro \",\n",
        "    \"4ao\" : \"for adults only\",\n",
        "    \"a.m\" : \"am\",\n",
        "    \"am\" : \"am\",\n",
        "    \"a3\" : \"anytime anywhere anyplace\",\n",
        "    \"aamof\" : \"as a matter of fact\",\n",
        "    \"acct\" : \"account\",\n",
        "    \"adih\" : \"another day in hell\",\n",
        "    \"afaic\" : \"as far as i am concerned\",\n",
        "    \"afaict\" : \"as far as i can tell\",\n",
        "    \"afaik\" : \"as far as i know\",\n",
        "    \"afair\" : \"as far as i remember\",\n",
        "    \"afk\" : \"away from keyboard\",\n",
        "    \"app\" : \"application\",\n",
        "    \"approx\" : \"approximately\",\n",
        "    \"apps\" : \"applications\",\n",
        "    \"asap\" : \"as soon as possible\",\n",
        "    \"asl\" : \"age, sex, location\",\n",
        "    \"atk\" : \"at the keyboard\",\n",
        "    \"ave.\" : \"avenue\",\n",
        "    \"aymm\" : \"are you my mother\",\n",
        "    \"ayor\" : \"at your own risk\",\n",
        "    \"b&b\" : \"bed and breakfast\",\n",
        "    \"b+b\" : \"bed and breakfast\",\n",
        "    \"b.c\" : \"before christ\",\n",
        "    \"b2b\" : \"business to business\",\n",
        "    \"b2c\" : \"business to customer\",\n",
        "    \"b4\" : \"before\",\n",
        "    \"b4n\" : \"bye for now\",\n",
        "    \"b@u\" : \"back at you\",\n",
        "    \"bae\" : \"before anyone else\",\n",
        "    \"bak\" : \"back at keyboard\",\n",
        "    \"bbbg\" : \"bye bye be good\",\n",
        "    \"bbc\" : \"british broadcasting corporation\",\n",
        "    \"bbias\" : \"be back in a second\",\n",
        "    \"bbl\" : \"be back later\",\n",
        "    \"bbs\" : \"be back soon\",\n",
        "    \"be4\" : \"before\",\n",
        "    \"bff\" : \"best friends forever\",\n",
        "    \"bfn\" : \"bye for now\",\n",
        "    \"blvd\" : \"boulevard\",\n",
        "    \"bout\" : \"about\",\n",
        "    \"brb\" : \"be right back\",\n",
        "    \"bros\" : \"brothers\",\n",
        "    \"brt\" : \"be right there\",\n",
        "    \"bsaaw\" : \"big smile and a wink\",\n",
        "    \"btw\" : \"by the way\",\n",
        "    \"bwl\" : \"bursting with laughter\",\n",
        "    \"c/o\" : \"care of\",\n",
        "    \"cet\" : \"central european time\",\n",
        "    \"cf\" : \"compare\",\n",
        "    \"cia\" : \"central intelligence agency\",\n",
        "    \"csl\" : \"can not stop laughing\",\n",
        "    \"cu\" : \"see you\",\n",
        "    \"cul8r\" : \"see you later\",\n",
        "    \"cv\" : \"curriculum vitae\",\n",
        "    \"cwot\" : \"complete waste of time\",\n",
        "    \"cya\" : \"see you\",\n",
        "    \"cyt\" : \"see you tomorrow\",\n",
        "    \"dae\" : \"does anyone else\",\n",
        "    \"dbmib\" : \"do not bother me i am busy\",\n",
        "    \"diy\" : \"do it yourself\",\n",
        "    \"dm\" : \"direct message\",\n",
        "    \"dwh\" : \"during work hours\",\n",
        "    \"e123\" : \"easy as one two three\",\n",
        "    \"eet\" : \"eastern european time\",\n",
        "    \"eg\" : \"example\",\n",
        "    \"embm\" : \"early morning business meeting\",\n",
        "    \"encl\" : \"enclosed\",\n",
        "    \"encl.\" : \"enclosed\",\n",
        "    \"etc\" : \"and so on\",\n",
        "    \"faq\" : \"frequently asked questions\",\n",
        "    \"fawc\" : \"for anyone who cares\",\n",
        "    \"fb\" : \"facebook\",\n",
        "    \"fc\" : \"fingers crossed\",\n",
        "    \"fig\" : \"figure\",\n",
        "    \"fimh\" : \"forever in my heart\",\n",
        "    \"ft.\" : \"feet\",\n",
        "    \"ft\" : \"featuring\",\n",
        "    \"ftl\" : \"for the loss\",\n",
        "    \"ftw\" : \"for the win\",\n",
        "    \"fwiw\" : \"for what it is worth\",\n",
        "    \"fyi\" : \"for your information\",\n",
        "    \"g9\" : \"genius\",\n",
        "    \"gahoy\" : \"get a hold of yourself\",\n",
        "    \"gal\" : \"get a life\",\n",
        "    \"gcse\" : \"general certificate of secondary education\",\n",
        "    \"gfn\" : \"gone for now\",\n",
        "    \"gg\" : \"good game\",\n",
        "    \"gl\" : \"good luck\",\n",
        "    \"glhf\" : \"good luck have fun\",\n",
        "    \"gmt\" : \"greenwich mean time\",\n",
        "    \"gmta\" : \"great minds think alike\",\n",
        "    \"gn\" : \"good night\",\n",
        "    \"g.o.a.t\" : \"greatest of all time\",\n",
        "    \"goat\" : \"greatest of all time\",\n",
        "    \"goi\" : \"get over it\",\n",
        "    \"gps\" : \"global positioning system\",\n",
        "    \"gr8\" : \"great\",\n",
        "    \"gratz\" : \"congratulations\",\n",
        "    \"gyal\" : \"girl\",\n",
        "    \"h&c\" : \"hot and cold\",\n",
        "    \"hp\" : \"horsepower\",\n",
        "    \"hr\" : \"hour\",\n",
        "    \"hrh\" : \"his royal highness\",\n",
        "    \"ht\" : \"height\",\n",
        "    \"ibrb\" : \"i will be right back\",\n",
        "    \"ic\" : \"i see\",\n",
        "    \"icq\" : \"i seek you\",\n",
        "    \"icymi\" : \"in case you missed it\",\n",
        "    \"idc\" : \"i do not care\",\n",
        "    \"idgadf\" : \"i do not give a damn fuck\",\n",
        "    \"idgaf\" : \"i do not give a fuck\",\n",
        "    \"idk\" : \"i do not know\",\n",
        "    \"ie\" : \"that is\",\n",
        "    \"i.e\" : \"that is\",\n",
        "    \"ifyp\" : \"i feel your pain\",\n",
        "    \"IG\" : \"instagram\",\n",
        "    \"iirc\" : \"if i remember correctly\",\n",
        "    \"ilu\" : \"i love you\",\n",
        "    \"ily\" : \"i love you\",\n",
        "    \"imho\" : \"in my humble opinion\",\n",
        "    \"imo\" : \"in my opinion\",\n",
        "    \"imu\" : \"i miss you\",\n",
        "    \"iow\" : \"in other words\",\n",
        "    \"irl\" : \"in real life\",\n",
        "    \"j4f\" : \"just for fun\",\n",
        "    \"jic\" : \"just in case\",\n",
        "    \"jk\" : \"just kidding\",\n",
        "    \"jsyk\" : \"just so you know\",\n",
        "    \"l8r\" : \"later\",\n",
        "    \"lb\" : \"pound\",\n",
        "    \"lbs\" : \"pounds\",\n",
        "    \"ldr\" : \"long distance relationship\",\n",
        "    \"lmao\" : \"laugh my ass off\",\n",
        "    \"lmfao\" : \"laugh my fucking ass off\",\n",
        "    \"lol\" : \"laughing out loud\",\n",
        "    \"ltd\" : \"limited\",\n",
        "    \"ltns\" : \"long time no see\",\n",
        "    \"m8\" : \"mate\",\n",
        "    \"mf\" : \"motherfucker\",\n",
        "    \"mfs\" : \"motherfuckers\",\n",
        "    \"mfw\" : \"my face when\",\n",
        "    \"mofo\" : \"motherfucker\",\n",
        "    \"mph\" : \"miles per hour\",\n",
        "    \"mr\" : \"mister\",\n",
        "    \"mrw\" : \"my reaction when\",\n",
        "    \"ms\" : \"miss\",\n",
        "    \"mte\" : \"my thoughts exactly\",\n",
        "    \"nagi\" : \"not a good idea\",\n",
        "    \"nbc\" : \"national broadcasting company\",\n",
        "    \"nbd\" : \"not big deal\",\n",
        "    \"nfs\" : \"not for sale\",\n",
        "    \"ngl\" : \"not going to lie\",\n",
        "    \"nhs\" : \"national health service\",\n",
        "    \"nrn\" : \"no reply necessary\",\n",
        "    \"nsfl\" : \"not safe for life\",\n",
        "    \"nsfw\" : \"not safe for work\",\n",
        "    \"nth\" : \"nice to have\",\n",
        "    \"nvr\" : \"never\",\n",
        "    \"nyc\" : \"new york city\",\n",
        "    \"oc\" : \"original content\",\n",
        "    \"og\" : \"original\",\n",
        "    \"ohp\" : \"overhead projector\",\n",
        "    \"oic\" : \"oh i see\",\n",
        "    \"omdb\" : \"over my dead body\",\n",
        "    \"omg\" : \"oh my god\",\n",
        "    \"omw\" : \"on my way\",\n",
        "    \"p.a\" : \"per annum\",\n",
        "    \"p.m\" : \"pm\",\n",
        "    # \"pm\" : \"prime minister\",\n",
        "    \"poc\" : \"people of color\",\n",
        "    \"pov\" : \"point of view\",\n",
        "    \"pp\" : \"pages\",\n",
        "    \"ppl\" : \"people\",\n",
        "    \"prw\" : \"parents are watching\",\n",
        "    \"ps\" : \"postscript\",\n",
        "    \"pt\" : \"point\",\n",
        "    \"ptb\" : \"please text back\",\n",
        "    \"pto\" : \"please turn over\",\n",
        "    \"qpsa\" : \"what happens\", #\"que pasa\",\n",
        "    \"ratchet\" : \"rude\",\n",
        "    \"rbtl\" : \"read between the lines\",\n",
        "    \"rlrt\" : \"real life retweet\",\n",
        "    \"rofl\" : \"rolling on the floor laughing\",\n",
        "    \"roflol\" : \"rolling on the floor laughing out loud\",\n",
        "    \"rotflmao\" : \"rolling on the floor laughing my ass off\",\n",
        "    \"rt\" : \"retweet\",\n",
        "    \"ruok\" : \"are you ok\",\n",
        "    \"sfw\" : \"safe for work\",\n",
        "    \"sk8\" : \"skate\",\n",
        "    \"smh\" : \"shake my head\",\n",
        "    \"sq\" : \"square\",\n",
        "    \"srsly\" : \"seriously\",\n",
        "    \"ssdd\" : \"same stuff different day\",\n",
        "    \"tbh\" : \"to be honest\",\n",
        "    \"tbs\" : \"tablespooful\",\n",
        "    \"tbsp\" : \"tablespooful\",\n",
        "    \"tfw\" : \"that feeling when\",\n",
        "    \"thks\" : \"thank you\",\n",
        "    \"tho\" : \"though\",\n",
        "    \"thx\" : \"thank you\",\n",
        "    \"tia\" : \"thanks in advance\",\n",
        "    \"til\" : \"today i learned\",\n",
        "    \"tl;dr\" : \"too long i did not read\",\n",
        "    \"tldr\" : \"too long i did not read\",\n",
        "    \"tmb\" : \"tweet me back\",\n",
        "    \"tntl\" : \"trying not to laugh\",\n",
        "    \"ttyl\" : \"talk to you later\",\n",
        "    \"ty\": \"thank you\",\n",
        "    \"u\" : \"you\",\n",
        "    \"u2\" : \"you too\",\n",
        "    \"u4e\" : \"yours for ever\",\n",
        "    \"utc\" : \"coordinated universal time\",\n",
        "    \"w/\" : \"with\",\n",
        "    \"w/o\" : \"without\",\n",
        "    \"w8\" : \"wait\",\n",
        "    \"wassup\" : \"what is up\",\n",
        "    \"wb\" : \"welcome back\",\n",
        "    \"wtf\" : \"what the fuck\",\n",
        "    \"wtg\" : \"way to go\",\n",
        "    \"wtpa\" : \"where the party at\",\n",
        "    \"wuf\" : \"where are you from\",\n",
        "    \"wuzup\" : \"what is up\",\n",
        "    \"wywh\" : \"wish you were here\",\n",
        "    \"yd\" : \"yard\",\n",
        "    \"ygtr\" : \"you got that right\",\n",
        "    \"ynk\" : \"you never know\",\n",
        "    \"zzz\" : \"sleeping\"\n",
        "}\n",
        "\n",
        "sms_abbreviations_list=list(abbreviations.keys())\n",
        "# sms_abbreviations_list"
      ]
    },
    {
      "cell_type": "code",
      "execution_count": null,
      "metadata": {
        "id": "M9sCqKOxDMwu"
      },
      "outputs": [],
      "source": []
    },
    {
      "cell_type": "code",
      "execution_count": null,
      "metadata": {
        "colab": {
          "base_uri": "https://localhost:8080/"
        },
        "id": "Py6v459xv2ZX",
        "outputId": "4ee894f5-2103-4aa1-90cb-9a52b571a3cf"
      },
      "outputs": [
        {
          "output_type": "stream",
          "name": "stderr",
          "text": [
            "<>:3: DeprecationWarning: invalid escape sequence '\\)'\n",
            "<>:5: DeprecationWarning: invalid escape sequence '\\]'\n",
            "<>:13: DeprecationWarning: invalid escape sequence '\\}'\n",
            "<>:17: DeprecationWarning: invalid escape sequence '\\^'\n",
            "<>:30: DeprecationWarning: invalid escape sequence '\\('\n",
            "<>:37: DeprecationWarning: invalid escape sequence '\\['\n",
            "<>:39: DeprecationWarning: invalid escape sequence '\\|'\n",
            "<>:41: DeprecationWarning: invalid escape sequence '\\{'\n",
            "<>:62: DeprecationWarning: invalid escape sequence '\\*'\n",
            "<>:163: DeprecationWarning: invalid escape sequence '\\.'\n"
          ]
        }
      ],
      "source": [
        "# Thanks : https://github.com/NeelShah18/emot/blob/master/emot/emo_unicode.py\n",
        "EMOTICONS = {\n",
        "    u\":‑\\)\":\"Happy face smiley\",\n",
        "    u\":\\)\":\"Happy face smiley\",\n",
        "    u\":-\\]\":\"Happy face smiley\",\n",
        "    u\":\\]\":\"Happy face or smiley\",\n",
        "    u\":-3\":\"Happy face smiley\",\n",
        "    u\":3\":\"Happy face smiley\",\n",
        "    u\":->\":\"Happy face smiley\",\n",
        "    u\":>\":\"Happy face smiley\",\n",
        "    u\"8-\\)\":\"Happy face smiley\",\n",
        "    u\":o\\)\":\"Happy face smiley\",\n",
        "    u\":-\\}\":\"Happy face smiley\",\n",
        "    u\":\\}\":\"Happy face smiley\",\n",
        "    u\":-\\)\":\"Happy face smiley\",\n",
        "    u\":c\\)\":\"Happy face smiley\",\n",
        "    u\":\\^\\)\":\"Happy face smiley\",\n",
        "    u\"=\\]\":\"Happy face smiley\",\n",
        "    u\"=\\)\":\"Happy face smiley\",\n",
        "    u\":‑D\":\"Laughing, big grin or laugh with glasses\",\n",
        "    u\":D\":\"Laughing, big grin or laugh with glasses\",\n",
        "    u\"8‑D\":\"Laughing, big grin or laugh with glasses\",\n",
        "    u\"8D\":\"Laughing, big grin or laugh with glasses\",\n",
        "    u\"X‑D\":\"Laughing, big grin or laugh with glasses\",\n",
        "    u\"XD\":\"Laughing, big grin or laugh with glasses\",\n",
        "    u\"=D\":\"Laughing, big grin or laugh with glasses\",\n",
        "    u\"=3\":\"Laughing, big grin or laugh with glasses\",\n",
        "    u\"B\\^D\":\"Laughing, big grin or laugh with glasses\",\n",
        "    u\":-\\)\\)\":\"Very happy\",\n",
        "    u\":‑\\(\":\"Frown, sad, angry or pouting\",\n",
        "    u\":-\\(\":\"Frown, sad, angry or pouting\",\n",
        "    u\":\\(\":\"Frown, sad, angry or pouting\",\n",
        "    u\":‑c\":\"Frown, sad, angry or pouting\",\n",
        "    u\":c\":\"Frown, sad, angry or pouting\",\n",
        "    u\":‑<\":\"Frown, sad, angry or pouting\",\n",
        "    u\":<\":\"Frown, sad, angry or pouting\",\n",
        "    u\":‑\\[\":\"Frown, sad, angry or pouting\",\n",
        "    u\":\\[\":\"Frown, sad, angry or pouting\",\n",
        "    u\":-\\|\\|\":\"Frown, sad, angry or pouting\",\n",
        "    u\">:\\[\":\"Frown, sad, angry or pouting\",\n",
        "    u\":\\{\":\"Frown, sad, angry or pouting\",\n",
        "    u\":@\":\"Frown, sad, angry or pouting\",\n",
        "    u\">:\\(\":\"Frown, sad, angry or pouting\",\n",
        "    u\":'‑\\(\":\"Crying\",\n",
        "    u\":'\\(\":\"Crying\",\n",
        "    u\":'‑\\)\":\"Tears of happiness\",\n",
        "    u\":'\\)\":\"Tears of happiness\",\n",
        "    u\"D‑':\":\"Horror\",\n",
        "    u\"D:<\":\"Disgust\",\n",
        "    u\"D:\":\"Sadness\",\n",
        "    u\"D8\":\"Great dismay\",\n",
        "    u\"D;\":\"Great dismay\",\n",
        "    u\"D=\":\"Great dismay\",\n",
        "    u\"DX\":\"Great dismay\",\n",
        "    u\":‑O\":\"Surprise\",\n",
        "    u\":O\":\"Surprise\",\n",
        "    u\":‑o\":\"Surprise\",\n",
        "    u\":o\":\"Surprise\",\n",
        "    u\":-0\":\"Shock\",\n",
        "    u\"8‑0\":\"Yawn\",\n",
        "    u\">:O\":\"Yawn\",\n",
        "    u\":-\\*\":\"Kiss\",\n",
        "    u\":\\*\":\"Kiss\",\n",
        "    u\":X\":\"Kiss\",\n",
        "    u\";‑\\)\":\"Wink or smirk\",\n",
        "    u\";\\)\":\"Wink or smirk\",\n",
        "    u\"\\*-\\)\":\"Wink or smirk\",\n",
        "    u\"\\*\\)\":\"Wink or smirk\",\n",
        "    u\";‑\\]\":\"Wink or smirk\",\n",
        "    u\";\\]\":\"Wink or smirk\",\n",
        "    u\";\\^\\)\":\"Wink or smirk\",\n",
        "    u\":‑,\":\"Wink or smirk\",\n",
        "    u\";D\":\"Wink or smirk\",\n",
        "    u\":‑P\":\"Tongue sticking out, cheeky, playful or blowing a raspberry\",\n",
        "    u\":P\":\"Tongue sticking out, cheeky, playful or blowing a raspberry\",\n",
        "    ':p':\"Tongue sticking out, cheeky, playful or blowing a raspberry\",\n",
        "    u\"X‑P\":\"Tongue sticking out, cheeky, playful or blowing a raspberry\",\n",
        "    u\"XP\":\"Tongue sticking out, cheeky, playful or blowing a raspberry\",\n",
        "    u\":‑Þ\":\"Tongue sticking out, cheeky, playful or blowing a raspberry\",\n",
        "    u\":Þ\":\"Tongue sticking out, cheeky, playful or blowing a raspberry\",\n",
        "    u\":b\":\"Tongue sticking out, cheeky, playful or blowing a raspberry\",\n",
        "    u\"d:\":\"Tongue sticking out, cheeky, playful or blowing a raspberry\",\n",
        "    u\"=p\":\"Tongue sticking out, cheeky, playful or blowing a raspberry\",\n",
        "    u\">:P\":\"Tongue sticking out, cheeky, playful or blowing a raspberry\",\n",
        "    u\":‑/\":\"Skeptical, annoyed, undecided, uneasy or hesitant\",\n",
        "    u\":/\":\"Skeptical, annoyed, undecided, uneasy or hesitant\",\n",
        "    u\":-[.]\":\"Skeptical, annoyed, undecided, uneasy or hesitant\",\n",
        "    u\">:[(\\\\\\)]\":\"Skeptical, annoyed, undecided, uneasy or hesitant\",\n",
        "    u\">:/\":\"Skeptical, annoyed, undecided, uneasy or hesitant\",\n",
        "    u\":[(\\\\\\)]\":\"Skeptical, annoyed, undecided, uneasy or hesitant\",\n",
        "    u\"=/\":\"Skeptical, annoyed, undecided, uneasy or hesitant\",\n",
        "    u\"=[(\\\\\\)]\":\"Skeptical, annoyed, undecided, uneasy or hesitant\",\n",
        "    u\":L\":\"Skeptical, annoyed, undecided, uneasy or hesitant\",\n",
        "    u\"=L\":\"Skeptical, annoyed, undecided, uneasy or hesitant\",\n",
        "    u\":S\":\"Skeptical, annoyed, undecided, uneasy or hesitant\",\n",
        "    u\":‑\\|\":\"Straight face\",\n",
        "    u\":\\|\":\"Straight face\",\n",
        "    u\":$\":\"Embarrassed or blushing\",\n",
        "    u\":‑x\":\"Sealed lips or wearing braces or tongue-tied\",\n",
        "    u\":x\":\"Sealed lips or wearing braces or tongue-tied\",\n",
        "    u\":‑#\":\"Sealed lips or wearing braces or tongue-tied\",\n",
        "    u\":#\":\"Sealed lips or wearing braces or tongue-tied\",\n",
        "    u\":‑&\":\"Sealed lips or wearing braces or tongue-tied\",\n",
        "    u\":&\":\"Sealed lips or wearing braces or tongue-tied\",\n",
        "    u\"O:‑\\)\":\"Angel, saint or innocent\",\n",
        "    u\"O:\\)\":\"Angel, saint or innocent\",\n",
        "    u\"0:‑3\":\"Angel, saint or innocent\",\n",
        "    u\"0:3\":\"Angel, saint or innocent\",\n",
        "    u\"0:‑\\)\":\"Angel, saint or innocent\",\n",
        "    u\"0:\\)\":\"Angel, saint or innocent\",\n",
        "    u\":‑b\":\"Tongue sticking out, cheeky, playful or blowing a raspberry\",\n",
        "    u\"0;\\^\\)\":\"Angel, saint or innocent\",\n",
        "    u\">:‑\\)\":\"Evil or devilish\",\n",
        "    u\">:\\)\":\"Evil or devilish\",\n",
        "    u\"\\}:‑\\)\":\"Evil or devilish\",\n",
        "    u\"\\}:\\)\":\"Evil or devilish\",\n",
        "    u\"3:‑\\)\":\"Evil or devilish\",\n",
        "    u\"3:\\)\":\"Evil or devilish\",\n",
        "    u\">;\\)\":\"Evil or devilish\",\n",
        "    u\"\\|;‑\\)\":\"Cool\",\n",
        "    u\"\\|‑O\":\"Bored\",\n",
        "    u\":‑J\":\"Tongue-in-cheek\",\n",
        "    u\"#‑\\)\":\"Party all night\",\n",
        "    u\"%‑\\)\":\"Drunk or confused\",\n",
        "    u\"%\\)\":\"Drunk or confused\",\n",
        "    u\":-###..\":\"Being sick\",\n",
        "    u\":###..\":\"Being sick\",\n",
        "    u\"<:‑\\|\":\"Dump\",\n",
        "    u\"\\(>_<\\)\":\"Troubled\",\n",
        "    u\"\\(>_<\\)>\":\"Troubled\",\n",
        "    u\"\\(';'\\)\":\"Baby\",\n",
        "    u\"\\(\\^\\^>``\":\"Nervous or Embarrassed or Troubled or Shy or Sweat drop\",\n",
        "    u\"\\(\\^_\\^;\\)\":\"Nervous or Embarrassed or Troubled or Shy or Sweat drop\",\n",
        "    u\"\\(-_-;\\)\":\"Nervous or Embarrassed or Troubled or Shy or Sweat drop\",\n",
        "    u\"\\(~_~;\\) \\(・\\.・;\\)\":\"Nervous or Embarrassed or Troubled or Shy or Sweat drop\",\n",
        "    u\"\\(-_-\\)zzz\":\"Sleeping\",\n",
        "    u\"\\(\\^_-\\)\":\"Wink\",\n",
        "    u\"\\(\\(\\+_\\+\\)\\)\":\"Confused\",\n",
        "    u\"\\(\\+o\\+\\)\":\"Confused\",\n",
        "    u\"\\(o\\|o\\)\":\"Ultraman\",\n",
        "    u\"\\^_\\^\":\"Joyful\",\n",
        "    u\"\\(\\^_\\^\\)/\":\"Joyful\",\n",
        "    u\"\\(\\^O\\^\\)／\":\"Joyful\",\n",
        "    u\"\\(\\^o\\^\\)／\":\"Joyful\",\n",
        "    u\"\\(__\\)\":\"Kowtow as a sign of respect, or dogeza for apology\",\n",
        "    u\"_\\(\\._\\.\\)_\":\"Kowtow as a sign of respect, or dogeza for apology\",\n",
        "    u\"<\\(_ _\\)>\":\"Kowtow as a sign of respect, or dogeza for apology\",\n",
        "    u\"<m\\(__\\)m>\":\"Kowtow as a sign of respect, or dogeza for apology\",\n",
        "    u\"m\\(__\\)m\":\"Kowtow as a sign of respect, or dogeza for apology\",\n",
        "    u\"m\\(_ _\\)m\":\"Kowtow as a sign of respect, or dogeza for apology\",\n",
        "    u\"\\('_'\\)\":\"Sad or Crying\",\n",
        "    u\"\\(/_;\\)\":\"Sad or Crying\",\n",
        "    u\"\\(T_T\\) \\(;_;\\)\":\"Sad or Crying\",\n",
        "    u\"\\(;_;\":\"Sad of Crying\",\n",
        "    u\"\\(;_:\\)\":\"Sad or Crying\",\n",
        "    u\"\\(;O;\\)\":\"Sad or Crying\",\n",
        "    u\"\\(:_;\\)\":\"Sad or Crying\",\n",
        "    u\"\\(ToT\\)\":\"Sad or Crying\",\n",
        "    u\";_;\":\"Sad or Crying\",\n",
        "    u\";-;\":\"Sad or Crying\",\n",
        "    u\";n;\":\"Sad or Crying\",\n",
        "    u\";;\":\"Sad or Crying\",\n",
        "    u\"Q\\.Q\":\"Sad or Crying\",\n",
        "    u\"T\\.T\":\"Sad or Crying\",\n",
        "    u\"QQ\":\"Sad or Crying\",\n",
        "    u\"Q_Q\":\"Sad or Crying\",\n",
        "    u\"\\(-\\.-\\)\":\"Shame\",\n",
        "    u\"\\(-_-\\)\":\"Shame\",\n",
        "    u\"\\(一一\\)\":\"Shame\",\n",
        "    u\"\\(；一_一\\)\":\"Shame\",\n",
        "    u\"\\(=_=\\)\":\"Tired\",\n",
        "    u\"\\(=\\^\\·\\^=\\)\":\"cat\",\n",
        "    u\"\\(=\\^\\·\\·\\^=\\)\":\"cat\",\n",
        "    u\"=_\\^=\t\":\"cat\",\n",
        "    u\"\\(\\.\\.\\)\":\"Looking down\",\n",
        "    u\"\\(\\._\\.\\)\":\"Looking down\",\n",
        "    u\"\\^m\\^\":\"Giggling with hand covering mouth\",\n",
        "    u\"\\(\\・\\・?\":\"Confusion\",\n",
        "    u\"\\(?_?\\)\":\"Confusion\",\n",
        "    u\">\\^_\\^<\":\"Normal Laugh\",\n",
        "    u\"<\\^!\\^>\":\"Normal Laugh\",\n",
        "    u\"\\^/\\^\":\"Normal Laugh\",\n",
        "    u\"\\（\\*\\^_\\^\\*）\" :\"Normal Laugh\",\n",
        "    u\"\\(\\^<\\^\\) \\(\\^\\.\\^\\)\":\"Normal Laugh\",\n",
        "    u\"\\(^\\^\\)\":\"Normal Laugh\",\n",
        "    u\"\\(\\^\\.\\^\\)\":\"Normal Laugh\",\n",
        "    u\"\\(\\^_\\^\\.\\)\":\"Normal Laugh\",\n",
        "    u\"\\(\\^_\\^\\)\":\"Normal Laugh\",\n",
        "    u\"\\(\\^\\^\\)\":\"Normal Laugh\",\n",
        "    u\"\\(\\^J\\^\\)\":\"Normal Laugh\",\n",
        "    u\"\\(\\*\\^\\.\\^\\*\\)\":\"Normal Laugh\",\n",
        "    u\"\\(\\^—\\^\\）\":\"Normal Laugh\",\n",
        "    u\"\\(#\\^\\.\\^#\\)\":\"Normal Laugh\",\n",
        "    u\"\\（\\^—\\^\\）\":\"Waving\",\n",
        "    u\"\\(;_;\\)/~~~\":\"Waving\",\n",
        "    u\"\\(\\^\\.\\^\\)/~~~\":\"Waving\",\n",
        "    u\"\\(-_-\\)/~~~ \\($\\·\\·\\)/~~~\":\"Waving\",\n",
        "    u\"\\(T_T\\)/~~~\":\"Waving\",\n",
        "    u\"\\(ToT\\)/~~~\":\"Waving\",\n",
        "    u\"\\(\\*\\^0\\^\\*\\)\":\"Excited\",\n",
        "    u\"\\(\\*_\\*\\)\":\"Amazed\",\n",
        "    u\"\\(\\*_\\*;\":\"Amazed\",\n",
        "    u\"\\(\\+_\\+\\) \\(@_@\\)\":\"Amazed\",\n",
        "    u\"\\(\\*\\^\\^\\)v\":\"Laughing,Cheerful\",\n",
        "    u\"\\(\\^_\\^\\)v\":\"Laughing,Cheerful\",\n",
        "    u\"\\(\\(d[-_-]b\\)\\)\":\"Headphones,Listening to music\",\n",
        "    u'\\(-\"-\\)':\"Worried\",\n",
        "    u\"\\(ーー;\\)\":\"Worried\",\n",
        "    u\"\\(\\^0_0\\^\\)\":\"Eyeglasses\",\n",
        "    u\"\\(\\＾ｖ\\＾\\)\":\"Happy\",\n",
        "    u\"\\(\\＾ｕ\\＾\\)\":\"Happy\",\n",
        "    u\"\\(\\^\\)o\\(\\^\\)\":\"Happy\",\n",
        "    u\"\\(\\^O\\^\\)\":\"Happy\",\n",
        "    u\"\\(\\^o\\^\\)\":\"Happy\",\n",
        "    u\"\\)\\^o\\^\\(\":\"Happy\",\n",
        "    u\":O o_O\":\"Surprised\",\n",
        "    u\"o_0\":\"Surprised\",\n",
        "    u\"o\\.O\":\"Surpised\",\n",
        "    u\"\\(o\\.o\\)\":\"Surprised\",\n",
        "    u\"oO\":\"Surprised\",\n",
        "    u\"\\(\\*￣m￣\\)\":\"Dissatisfied\",\n",
        "    u\"\\(‘A`\\)\":\"Snubbed or Deflated\"\n",
        "}\n",
        "\n",
        "# EMOTICONS={(re.sub(\"\\\\\" , '',key), value) for key, value in EMOTICONS.items()}\n",
        "# EMOTICONS={key.replace('\\\\',''): value for key, value in EMOTICONS.items()}\n"
      ]
    },
    {
      "cell_type": "code",
      "execution_count": null,
      "metadata": {
        "id": "oDVfeN6TKYOl"
      },
      "outputs": [],
      "source": [
        "# EMOTICONS={key.replace('\\\\',''): re.search(r'.*?(,|or)',value)[0] for key, value in EMOTICONS.items()}\n",
        "EMOTICONS_mod={}\n",
        "for key, value in EMOTICONS.items():\n",
        "    key=key.replace('\\\\','')\n",
        "    try:\n",
        "        value=re.search(r'(.*?)(,| or )',value)[1]\n",
        "    except Exception :\n",
        "        value=value\n",
        "    EMOTICONS_mod.update({key:value})\n",
        "EMOTICONS=EMOTICONS_mod\n",
        "# EMOTICONS"
      ]
    },
    {
      "cell_type": "markdown",
      "metadata": {
        "id": "f9scCHCnrJvt"
      },
      "source": [
        "##### end of abbreviations"
      ]
    },
    {
      "cell_type": "code",
      "source": [
        "# %time replace_letter_repeated_three_times('helloooo you hooo whatt you alll dooin')"
      ],
      "metadata": {
        "id": "7DTeK_2q9XiD"
      },
      "execution_count": null,
      "outputs": []
    },
    {
      "cell_type": "code",
      "execution_count": null,
      "metadata": {
        "id": "bvgU_zqwLNpM"
      },
      "outputs": [],
      "source": [
        "\n",
        "\n",
        "\n",
        "def remove_urls(doc,use_spacy=True,punc_set=None):\n",
        "    if use_spacy==True:\n",
        "        text=''.join([token.text +token.whitespace_ for token in doc if token.like_url==False and token.like_email==False])\n",
        "\n",
        "    else:\n",
        "        pattern=r'https?\\S+(\\S+|www)\\S+'\n",
        "        text=doc\n",
        "        text=re.sub(pattern,'',text)\n",
        "    return text\n",
        "\n",
        "\n",
        "from textblob import TextBlob\n",
        "from textblob import Word\n",
        "def replace_repeated_characters(text, is_lower=True, method=None):\n",
        "    # pattern=re.compile(r'([^\\W\\d_])\\1{2,}')\n",
        "    # text= re.sub(pattern,'\\1\\1',text)\n",
        "\n",
        "    ## remove letters repeated 3 or more times by 2 occurrances\n",
        "    ### add spelling check; source https://stackoverflow.com/questions/69465843/remove-repeating-characters-from-sentence-but-retain-the-words-meaning\n",
        "    rx = re.compile(r'([^\\W\\d_])\\1{2,}')\n",
        "    text=re.sub(r'[^\\W\\d_]+', lambda x: Word(rx.sub(r'\\1\\1', x.group())).correct() if rx.search(x.group()) else x.group(), text)\n",
        "\n",
        "    text=re.sub(r'([^A-Za-z])\\1+',r'\\1', text) ## replace special characters other than letters repeated more than 1 time by 1 occurrance\n",
        "    return text\n",
        "\n",
        "\n",
        "\n",
        "def convert_emojis_emoticons_to_text(text,method=None):\n",
        "    import emoji\n",
        "    if method=='bert':\n",
        "\n",
        "        text=emoji.demojize(text, delimiters=(\". \", \" .\")).replace('_',' ')\n",
        "    else:\n",
        "        text=emoji.demojize(text, delimiters=(\"\", \"emoji\")).replace('_','')\n",
        "    word_list=[]\n",
        "    for word in text.split(' '):\n",
        "        if word in EMOTICONS.keys():\n",
        "            # word_list.append(EMOTICONS[word].replace(' ',''))\n",
        "            if method=='bert':\n",
        "                pass\n",
        "                match_obj=re.search(r'^([a-zA-Z\\s]+?)( or|\\,)',EMOTICONS[word])\n",
        "                word_list.append('. ' + match_obj.group(1) + '.')\n",
        "                # word_list.append(re.sub('[^a-zA-Z]','',EMOTICONS[word])+'emoticon')\n",
        "            else:\n",
        "                word_list.append(re.sub('[^a-zA-Z]','',EMOTICONS[word])+'emoticon')\n",
        "        else:\n",
        "            word_list.append(word)\n",
        "    text=' '.join(word_list)\n",
        "\n",
        "    return text\n",
        "\n",
        "\n",
        "\n",
        "\n",
        "from bs4 import BeautifulSoup\n",
        "#Removing the html strips\n",
        "def strip_html(text):\n",
        "    soup = BeautifulSoup(text, \"html.parser\")\n",
        "    return soup.get_text()\n",
        "\n",
        "#Removing the square brackets\n",
        "def remove_between_square_brackets(text):\n",
        "    return re.sub('\\[[^]]*\\]', '', text)\n",
        "\n",
        "\n",
        "\n",
        "\n",
        "\n",
        "#Removing the noisy text\n",
        "def denoise_text(text):\n",
        "    text = strip_html(text)\n",
        "    text = remove_between_square_brackets(text)\n",
        "    return text\n",
        "\n",
        "\n",
        "\n",
        "#Define function for removing special characters\n",
        "def remove_special_characters(text, remove_digits=True,punc_set=None):\n",
        "\n",
        "    text = re.sub(r\"[^A-Za-z0-9^,!\\?.\\/'+-=]\", \" \", text)\n",
        "    text = re.sub(r\"what's\", \"what is \", text)\n",
        "    text = re.sub(r\"\\'s\", \" \", text)\n",
        "    text = re.sub(r\"\\'ve\", \" have \", text)\n",
        "    text = re.sub(r\"can't\", \"cannot \", text)\n",
        "    text = re.sub(r\"n't\", \" not \", text)\n",
        "    text = re.sub(r\"i'm\", \"i am \", text)\n",
        "    text = re.sub(r\"\\'re\", \" are \", text)\n",
        "    text = re.sub(r\"\\'d\", \" would \", text)\n",
        "    text = re.sub(r\"\\'ll\", \" will \", text)\n",
        "    text = re.sub(r\",\", \" \", text)\n",
        "    text = re.sub(r\"\\.\", \" \", text)\n",
        "    text = re.sub(r\"!\", \" ! \", text)\n",
        "    text = re.sub(r\"\\?\", \" ? \", text)\n",
        "    text = re.sub(r\"\\^^\", \"\", text)\n",
        "    text = re.sub(r\"\\/\", \" \", text)\n",
        "    text = re.sub(r\"\\^\", \" ^ \", text)\n",
        "    text = re.sub(r\"\\+\", \" + \", text)\n",
        "    text = re.sub(r\"\\-\", \" - \", text)\n",
        "    text = re.sub(r\"\\=\", \" = \", text)\n",
        "    text = re.sub(r\"'\", \" \", text)\n",
        "    text = re.sub(r\"(\\d+)(k)\", r\"\\g<1>000\", text)\n",
        "    text = re.sub(r\":\", \" : \", text)\n",
        "    text = re.sub(r\" e g \", \" eg \", text)\n",
        "    text = re.sub(r\" b g \", \" bg \", text)\n",
        "    text = re.sub(r\" u s \", \" america \", text)\n",
        "    text = re.sub(r\"\\0s\", \"0\", text)\n",
        "    text = re.sub(r\" 9 11 \", \"911\", text)\n",
        "    text = re.sub(r\"e - mail\", \"email\", text)\n",
        "    text = re.sub(r\"j k\", \"jk\", text)\n",
        "    text = re.sub(r\"\\s{2,}\", \" \", text)\n",
        "    pattern=r'[^a-zA-Z0-9\\s\\?\\!]'\n",
        "    text=re.sub(pattern,'',text)\n",
        "    return text\n",
        "\n",
        "def lemmatize_text(text):\n",
        "    lem=nltk.stem.wordnet.WordNetLemmatizer()\n",
        "    text= ' '.join([lem.lemmatize(word) for word in word_tokenize(text)])\n",
        "    return text\n",
        "\n",
        "#removing the stopwords\n",
        "\n",
        "def remove_stopwords(text, is_lower_case=False,whitelist=None):\n",
        "    tokenizer1=ToktokTokenizer()\n",
        "    stopword_list=nltk.corpus.stopwords.words('english')\n",
        "    tokens = tokenizer1.tokenize(text)\n",
        "    tokens = [token.strip() for token in tokens]\n",
        "\n",
        "    if whitelist is None:\n",
        "        whitelist=['but','again','once','out','very','own','nor','above','because','over','what','why','when','where','how','who','not','now','under','after','further','more']\n",
        "    else:\n",
        "        whitelist = whitelist+ ['but','again','once','out','very','own','nor','above','because','over','what','why','when','where','how','who','not','now','under','after','further','more']\n",
        "\n",
        "\n",
        "    if is_lower_case:\n",
        "        filtered_tokens = [token for token in tokens if ((token not in stopword_list) or (token in whitelist))]\n",
        "    else:\n",
        "        filtered_tokens = [token for token in tokens if ((token.lower() not in stopword_list) or (token in whitelist))]\n",
        "    filtered_text = ' '.join(filtered_tokens)\n",
        "    return filtered_text\n",
        "\n"
      ]
    },
    {
      "cell_type": "code",
      "execution_count": null,
      "metadata": {
        "id": "nWiB5W8ll4mD",
        "colab": {
          "base_uri": "https://localhost:8080/"
        },
        "outputId": "9ccea6ab-6fd9-48f4-a75d-2393f10663fa"
      },
      "outputs": [
        {
          "output_type": "stream",
          "name": "stderr",
          "text": [
            "[nltk_data] Downloading package words to /root/nltk_data...\n",
            "[nltk_data]   Package words is already up-to-date!\n"
          ]
        }
      ],
      "source": [
        "\n",
        "\n",
        "## takes too much execution time\n",
        "nltk.download('words')\n",
        "from nltk.corpus import words\n",
        "word_set=set(words.words())\n",
        "def replace_abbreviations(text:str,word_set=word_set,punc_set=None,method=None):\n",
        "    new_text=''\n",
        "    if punc_set==None:\n",
        "        punc_set=[]\n",
        "\n",
        "    for word in word_tokenize(text):\n",
        "        if word not in sms_abbreviations_list :\n",
        "            if word in punc_set:\n",
        "                new_text=new_text+f'{word}'\n",
        "            else:\n",
        "                new_text=new_text+f' {word}'\n",
        "\n",
        "\n",
        "        else:\n",
        "            if method=='bert':\n",
        "                word= abbreviations[word]\n",
        "                new_text=new_text+f'. {word}.'\n",
        "            else:\n",
        "                word= re.sub('[^A-Za-z]','',abbreviations[word])\n",
        "                new_text=new_text+f' {word}'\n",
        "    return new_text\n",
        "\n",
        "def remove_numbers(text:str):\n",
        "    ''' removed numbers [[2023-07-18]]-1047-03\n",
        "    except 109 which could convey something like \"10/10 stars\" etc.\n",
        "     which may convey positive sentiment\n",
        "    use remove numbers after remove_abbreviations because abbr may have numbers\n",
        "    '''\n",
        "    pattern=r'[0-9]'\n",
        "    text=re.sub(pattern,'',text)\n",
        "    return text\n",
        "\n",
        "\n",
        "def fix_spelling_mistakes_replace_abbr(text:str,word_set=word_set,punc_set=None,method=None):\n",
        "    new_text=''\n",
        "    if punc_set==None:\n",
        "        punc_set=set()\n",
        "    for word in word_tokenize(text):\n",
        "        if word not in sms_abbreviations_list :\n",
        "            if word not in word_set:\n",
        "                if word not in punc_set:\n",
        "                # print(word)\n",
        "                    corr=SpellChecker().correction(word)\n",
        "                    new_text=new_text+f' {corr if corr else word }'\n",
        "                else:\n",
        "                    new_text=new_text+f' {word}'\n",
        "            else:\n",
        "                new_text=new_text+f' {word}'\n",
        "        else:\n",
        "            # if len(word) <= 2:\n",
        "            if method=='bert':\n",
        "                word= abbreviations[word]\n",
        "                new_text=new_text+f'. {word}.'\n",
        "            else:\n",
        "                word= re.sub('[^A-Za-z]','',abbreviations[word])\n",
        "                new_text=new_text+f' {word}'\n",
        "\n",
        "    return new_text\n",
        "\n",
        "\n"
      ]
    },
    {
      "cell_type": "code",
      "execution_count": null,
      "metadata": {
        "id": "F1XHM2cXQxdD"
      },
      "outputs": [],
      "source": []
    },
    {
      "cell_type": "code",
      "execution_count": null,
      "metadata": {
        "id": "oM3oE_vkQxiS"
      },
      "outputs": [],
      "source": []
    },
    {
      "cell_type": "code",
      "execution_count": null,
      "metadata": {
        "id": "6-KBTC87OmV7",
        "colab": {
          "base_uri": "https://localhost:8080/"
        },
        "outputId": "79022a95-97ed-4364-a797-1e690ac4d701"
      },
      "outputs": [
        {
          "output_type": "stream",
          "name": "stderr",
          "text": [
            "<>:115: DeprecationWarning: invalid escape sequence '\\s'\n"
          ]
        }
      ],
      "source": [
        "use_spacy=False\n",
        "if use_spacy:\n",
        "    import spacy\n",
        "    nlp=spacy.load('en_core_web_sm' , disable=['tok2vec', 'tagger', 'parser', 'attribute_ruler', 'lemmatizer', 'ner'])\n",
        "def do_basic_text_preprocessing(text:str,method='default',use_spacy=use_spacy,word_set=None,punc_set=None):\n",
        "    all_args=locals()\n",
        "    del all_args['text']\n",
        "    # print(type(all_args),' ' , all_args)\n",
        "\n",
        "\n",
        "    preprocessed_text=text\n",
        "    # preprocessed_text=convert_str_to_tf_constant(preprocessed_text)\n",
        "    preprocessed_text=convert_emojis_emoticons_to_text(preprocessed_text)\n",
        "    preprocessed_text=preprocessed_text.lower()\n",
        "    if use_spacy:\n",
        "\n",
        "        doc=nlp(preprocessed_text)\n",
        "        preprocessed_text=remove_urls(doc,punc_set=None)\n",
        "\n",
        "    preprocessed_text=denoise_text(preprocessed_text)\n",
        "    preprocessed_text=HashtagReplacer().replace_first_hashtag(preprocessed_text)\n",
        "    preprocessed_text=HashtagReplacer().replace_all_hashtags(preprocessed_text)\n",
        "    preprocessed_text=replace_repeated_characters(preprocessed_text,method=None)\n",
        "\n",
        "    preprocessed_text=remove_special_characters(preprocessed_text,punc_set=punc_set)\n",
        "    preprocessed_text= replace_abbreviations(preprocessed_text, word_set=word_set,punc_set=punc_set,method=None)\n",
        "\n",
        "\n",
        "    # preprocessed_text= fix_spelling_mistakes(preprocessed_text)\n",
        "    if not (method.lower() == 'allow_stopwords'):\n",
        "        if method.lower() == 'rnn':\n",
        "            RNN_WHITELIST=['you', 'me','i','my','him','her','not','he','she']\n",
        "            preprocessed_text=remove_stopwords(preprocessed_text,whitelist=RNN_WHITELIST)\n",
        "        else:\n",
        "            preprocessed_text=remove_stopwords(preprocessed_text)\n",
        "    preprocessed_text=lemmatize_text(preprocessed_text)\n",
        "\n",
        "\n",
        "    return preprocessed_text\n",
        "\n",
        "\n",
        "\n",
        "\n",
        "\n",
        "\n",
        "# def old_do_basic_text_preprocessing(text:str,method='default',use_spacy=False):\n",
        "\n",
        "#     if use_spacy:\n",
        "#         nlp=spacy.load('en_core_web_sm')\n",
        "#         doc=nlp(text)\n",
        "\n",
        "\n",
        "\n",
        "#     preprocessed_text=text\n",
        "#     preprocessed_text=convert_emojis_emoticons_to_text(preprocessed_text)\n",
        "\n",
        "#     preprocessed_text=preprocessed_text.lower()\n",
        "\n",
        "\n",
        "#     preprocessed_text=denoise_text(preprocessed_text)\n",
        "#     preprocessed_text=HashtagReplacer().replace_first_hashtag(preprocessed_text)\n",
        "#     preprocessed_text=HashtagReplacer().replace_all_hashtags(preprocessed_text)\n",
        "\n",
        "\n",
        "#     preprocessed_text=remove_special_characters(preprocessed_text)\n",
        "#     preprocessed_text= replace_abbreviations(preprocessed_text)\n",
        "\n",
        "\n",
        "#     preprocessed_text=remove_numbers(preprocessed_text)\n",
        "\n",
        "\n",
        "#     # preprocessed_text= fix_spelling_mistakes(preprocessed_text)\n",
        "#     if not (method.lower() == 'allow_stopwords'):\n",
        "#         if method.lower() == 'rnn':\n",
        "#             RNN_WHITELIST=['you', 'me','i','my','him','her','not','he','she']\n",
        "#             preprocessed_text=remove_stopwords(preprocessed_text,whitelist=RNN_WHITELIST)\n",
        "#         else:\n",
        "#             preprocessed_text=remove_stopwords(preprocessed_text)\n",
        "#     preprocessed_text=lemmatize_text(preprocessed_text)\n",
        "\n",
        "\n",
        "#     return preprocessed_text\n",
        "\n",
        "class TextPreprocessor(DummyTransformer):\n",
        "\n",
        "    def __init__(self,*args,**kwargs):\n",
        "        self.args=args\n",
        "        self.kwargs=kwargs\n",
        "        nltk.download('words')\n",
        "        from nltk.corpus import words\n",
        "        word_set=set(words.words())\n",
        "        self.kwargs.update({'word_set':word_set})\n",
        "\n",
        "    def fit(self, X=None,y=None):\n",
        "        pass\n",
        "        return self\n",
        "\n",
        "    def transform(self,X:pd.DataFrame):\n",
        "#         preprocessed_X_np_array=X.apply(do_basic_text_preprocessing).values\n",
        "        # preprocessed_X_nparr=X[text_col_name].apply(lambda x:do_basic_text_preprocessing(x)).values\n",
        "        preprocessed_X_df=X[text_col_name].apply(lambda x:do_basic_text_preprocessing(x,*self.args,**self.kwargs))\n",
        "        return preprocessed_X_df\n",
        "\n",
        "class GensimTokenizer(DummyTransformer):\n",
        "    def transform(self, X):\n",
        "        X=pd.DataFrame(X)\n",
        "        # print(X.info())\n",
        "        # print(X)\n",
        "        X_tokenized=X[text_col_name].apply(lambda x:simple_preprocess(x))\n",
        "        # X_tokenized=X.apply(word_tokenize,axis=0) ## requires downloading punkt\n",
        "        # print(X_tokenized)\n",
        "        return X_tokenized\n",
        "\n",
        "\n",
        "def get_nan_when_regex_does_not_match(x,pattern='^\\s+$'):\n",
        "    if re.search(pattern,x) == None:\n",
        "        return np.nan\n",
        "    else:\n",
        "        return 1\n",
        "\n",
        "\n",
        "\n",
        "\n",
        "from nltk.tokenize.toktok import ToktokTokenizer\n",
        "from nltk.tokenize import word_tokenize\n",
        "\n",
        "class Tokenizer(DummyTransformer):\n",
        "    def transform(self, X):\n",
        "        X=pd.DataFrame(X)\n",
        "        # print(X.info())\n",
        "        # print(X)\n",
        "        # print('has NaN?   ',X.isna().sum())\n",
        "        # temp_df=X[text_col_name].apply(lambda x:get_nan_when_regex_does_not_match(x,'^\\s*$'))\n",
        "        # print('has empty string ?  ',len(temp_df)-int(temp_df.isna().sum()))\n",
        "        # print(X.info())\n",
        "        # print('this is X[content] ',X[text_col_name])\n",
        "        # X_tokenized=X[text_col_name].apply(lambda x:ToktokTokenizer.tokenize(x))\n",
        "        X_tokenized=X[text_col_name].apply(lambda x:word_tokenize(x))\n",
        "        # X_tokenized=X.apply(word_tokenize,axis=0) ## requires downloading punkt\n",
        "        # print(X_tokenized)\n",
        "        return X_tokenized\n",
        "\n",
        "class SparseToDenseArr(DummyTransformer):\n",
        "    def transform(self,X=None):\n",
        "        try:\n",
        "            dense_arr=X.toarray()\n",
        "        except AttributeError:\n",
        "            dense_arr=X.values\n",
        "\n",
        "        return dense_arr\n",
        "\n",
        "class MetaFeatureEngineer(DummyTransformer):\n",
        "    def transform(self, X=None,y=None):\n",
        "        return None\n",
        "\n"
      ]
    },
    {
      "cell_type": "code",
      "execution_count": null,
      "metadata": {
        "id": "dfcxRxnURq0c",
        "colab": {
          "base_uri": "https://localhost:8080/",
          "height": 37
        },
        "outputId": "1496cbdf-752c-432c-fa4b-55929feb25e0"
      },
      "outputs": [
        {
          "output_type": "execute_result",
          "data": {
            "text/plain": [
              "'helo name baha er what ? !'"
            ],
            "application/vnd.google.colaboratory.intrinsic+json": {
              "type": "string"
            }
          },
          "metadata": {},
          "execution_count": 36
        }
      ],
      "source": [
        "### debug\n",
        "text='helo my name is baha er.... , what ??!!!'\n",
        "do_basic_text_preprocessing(text)"
      ]
    },
    {
      "cell_type": "markdown",
      "source": [
        "### end of basic text preprocessing functions"
      ],
      "metadata": {
        "id": "Tozxcwcen_we"
      }
    },
    {
      "cell_type": "markdown",
      "source": [
        "#### basic word vector methods"
      ],
      "metadata": {
        "id": "BZpgaFDsXgqN"
      }
    },
    {
      "cell_type": "code",
      "execution_count": null,
      "metadata": {
        "id": "SQaan08ARoyN"
      },
      "outputs": [],
      "source": [
        "\n",
        "# tfidf_meta_union_inst=FeatureUnion([('tfidf',TfidfVectorizer(ngram_range=(1,2))),('metafeature',MetaFeatureEngineer())])\n",
        "\n",
        "## the following line is token_pattern is wrong probably -[[2023-07-20]]-1234-32\n",
        "# tfidf_meta_union_inst=FeatureUnion([('tfidf',TfidfVectorizer(ngram_range=(1,2), max_df=0.4, min_df=7 ,token_pattern=r\"[\\s\\b]([a-zA-Z\\!\\?]+)[\\s\\b]\") ),('metafeature',MetaFeatureEngineer())])\n",
        "\n",
        "tfidf_meta_union_inst=FeatureUnion([('tfidf',TfidfVectorizer(ngram_range=(1,2), max_df=0.4, min_df=7 ,token_pattern=r\"[a-zA-Z\\!\\?]+\") ),('metafeature',MetaFeatureEngineer())])\n",
        "\n",
        "\n",
        "\n",
        "# tfidf_pipeline=Pipeline([('textpreprocessor',TextPreprocessor()),('main',tfidf_meta_union_inst),('sparsetodense',SparseToDenseArr())])\n",
        "# tfidf_pipeline=Pipeline([('textpreprocessor',TextPreprocessor()),('main',tfidf_meta_union_inst),('std_scaler',StandardScaler())])\n",
        "## not using sparse causes oom crash\n",
        "# tfidf_pipeline=Pipeline([('textpreprocessor',TextPreprocessor()),('main',tfidf_meta_union_inst),('sparsetodense',SparseToDenseArr()),('std_scaler',StandardScaler())])\n",
        "\n",
        "# tfidf_pipeline=Pipeline([('main',tfidf_meta_union_inst),('std_scaler',StandardScaler(with_mean=False))])\n",
        "## [[2023-07-18]]-1521-33 not using std scaler with tfidf\n",
        "tfidf_pipeline=Pipeline([('main',tfidf_meta_union_inst)])\n",
        "\n",
        "\n",
        "# tfidf_pipeline=ColumnTransformer(transformers=[('tfidf',tfidf_pipeline,[text_col_name])],verbose_feature_names_out=False)\n",
        "\n",
        "\n",
        "### using 2 gram plus converting to dense is probably causing the oom ram crashes [[2023-07-11]]-1916-27\n",
        "# bow_pipeline=Pipeline([('textpreprocessor',TextPreprocessor()),('count',CountVectorizer(ngram_range=(1,2))),('sparsetodense',SparseToDenseArr()),('std_scaler',StandardScaler())])\n",
        "### so [[2023-07-11]]-1916-34 use ###ak with_mean=False as suggested in https://scikit-learn.org/stable/modules/generated/sklearn.preprocessing.StandardScaler.html\n",
        "bow_pipeline=Pipeline([('count',CountVectorizer(ngram_range=(1,2),max_df=0.8,min_df=0.005)),('std_scaler',StandardScaler(with_mean=False))])\n",
        "\n",
        "# bow_pipeline=Pipeline([('tfidf',TfidfVectorizer(ngram_range=(1,2), max_df=0.4, min_df=7 ,token_pattern=r\"[\\s\\b]([a-zA-Z\\!\\?]+)[\\s\\b]\") )])\n",
        "\n",
        "\n",
        "# bow_pipeline=Pipeline([('textpreprocessor',TextPreprocessor()),('count',CountVectorizer(ngram_range=(1,2))),('std_scaler',StandardScaler(with_mean=False))])\n",
        "\n",
        "# bow_pipeline=ColumnTransformer(transformers=[('bow',bow_pipeline,[text_col_name])],verbose_feature_names_out=False)\n",
        "\n"
      ]
    },
    {
      "cell_type": "code",
      "execution_count": null,
      "metadata": {
        "id": "l5QeS7fn_z0N"
      },
      "outputs": [],
      "source": [
        "### word2vec\n",
        "from gensim.models import Word2Vec\n",
        "from gensim.models import KeyedVectors\n",
        "\n",
        "class CustomWord2VecTransformer(DummyTransformer):\n",
        "    def __init__(self,**kwargs):\n",
        "        self.input_args=kwargs\n",
        "        self.count=0\n",
        "\n",
        "    def fit(self,X,y=None):\n",
        "        self.w2v_model=Word2Vec(X,**self.input_args)\n",
        "\n",
        "        return self\n",
        "\n",
        "\n",
        "    def get_mean_embedding_for_doc(self,doc_tokens):\n",
        "        self.count += 1\n",
        "        model=self.w2v_model\n",
        "        embeddings=[]\n",
        "        for tok in doc_tokens:\n",
        "            if tok in model.wv.index_to_key:\n",
        "                embeddings.append(model.wv.get_vector(tok))\n",
        "        mean_embedding=np.mean(embeddings,axis=0)\n",
        "\n",
        "        return mean_embedding\n",
        "\n",
        "    def transform(self, X): ## successfully troubleshooted; troubleshot transform function\n",
        "\n",
        "        X_transformed=X.apply(lambda x:self.get_mean_embedding_for_doc(x))\n",
        "\n",
        "        self.nan_index=X_transformed.index[X_transformed.isna()]\n",
        "        X_transformed=X_transformed.dropna()\n",
        "        X_transformed=pd.DataFrame(X_transformed.values.tolist()) ## still float not iterable error\n",
        "\n",
        "        return X_transformed\n",
        "\n",
        "\n",
        "\n",
        "class GoogleWord2VecTransformer(DummyTransformer):\n",
        "    def __init__(self,*args,**kwargs):\n",
        "        self.w2vmodel=KeyedVectors.load_word2vec_format(*args,**kwargs)\n",
        "\n",
        "        self.input_args=kwargs\n",
        "\n",
        "\n",
        "    def fit(self,X,y=None):\n",
        "\n",
        "        return self\n",
        "\n",
        "    def get_mean_embedding_for_doc(self,doc_tokens):\n",
        "        model=self.w2vmodel\n",
        "        embeddings=[]\n",
        "        for tok in doc_tokens:\n",
        "            if tok in model:\n",
        "                embeddings.append(model[tok])\n",
        "        return np.mean(embeddings,axis=0)\n",
        "\n",
        "\n",
        "    # def transform(self, X): ### old\n",
        "    #     X_transformed=X.apply(lambda x:self.get_mean_embedding_for_doc(x))\n",
        "\n",
        "\n",
        "    #     X_transformed=pd.DataFrame(X_transformed.tolist())\n",
        "    #     return X_transformed\n",
        "\n",
        "    def transform(self, X): ## successfully troubleshooted; troubleshot transform function\n",
        "        # print('before  ',X.shape)\n",
        "\n",
        "        X_transformed=X.apply(lambda x:self.get_mean_embedding_for_doc(x))\n",
        "\n",
        "        self.nan_index=X_transformed.index[X_transformed.isna()]\n",
        "        # print(self.nan_index)\n",
        "        X_transformed=X_transformed.dropna()\n",
        "        X_transformed=pd.DataFrame(X_transformed.values.tolist()) ## still float not iterable error\n",
        "\n",
        "        return X_transformed\n",
        "\n",
        "\n"
      ]
    },
    {
      "cell_type": "code",
      "source": [],
      "metadata": {
        "colab": {
          "base_uri": "https://localhost:8080/",
          "height": 38
        },
        "id": "kwqvhFwOYGFc",
        "outputId": "3cb1cf03-6467-4740-9167-6742350617aa"
      },
      "execution_count": null,
      "outputs": [
        {
          "output_type": "execute_result",
          "data": {
            "text/plain": [
              "'/content/drive/MyDrive/ml-ai files arjun/google_trans_inst.pkl'"
            ],
            "application/vnd.google.colaboratory.intrinsic+json": {
              "type": "string"
            }
          },
          "metadata": {},
          "execution_count": 45
        }
      ]
    },
    {
      "cell_type": "code",
      "execution_count": null,
      "metadata": {
        "id": "GUsKjP5M5mlm"
      },
      "outputs": [],
      "source": [
        "\n",
        "# # google_meta_union_inst=FeatureUnion([\n",
        "# #     ('google',GoogleWord2VecTransformer(\"/content/drive/MyDrive/ml-ai files arjun/GoogleNews-vectors-negative300.bin\",binary=True)),\n",
        "# #     ('metafeature',MetaFeatureEngineer())])\n",
        "# # import pickle\n",
        "# # dbfile = open(f'{drive_project_folder_path}/google_meta_union_inst.pkl', 'wb')\n",
        "# # pickle.dump(google_meta_union_inst, dbfile)\n",
        "# # dbfile.close()\n",
        "saved_google_news_word2vectransformer_path=str(pathlib.Path(f'{drive_project_folder_path}/google_trans_inst.pkl'))\n",
        "\n",
        "try :\n",
        "    google_trans_inst\n",
        "    google_trans_inst_exists_bool=True\n",
        "except NameError:\n",
        "    google_trans_inst_exists_bool=False\n",
        "\n",
        "if google_trans_inst_exists_bool == True:\n",
        "    pass\n",
        "elif os.path.exists(saved_google_news_word2vectransformer_path) :\n",
        "\n",
        "    # ## load saved thing from pickle\n",
        "    import pickle\n",
        "    dbfile = open(saved_google_news_word2vectransformer_path, 'rb')\n",
        "    google_trans_inst=pickle.load( dbfile)\n",
        "    dbfile.close()\n",
        "else:\n",
        "### load the binary data from drive and instantiate the transformer\n",
        "    google_trans_inst=GoogleWord2VecTransformer(f\"{drive_project_folder_path}/GoogleNews-vectors-negative300.bin\",binary=True)\n",
        "    # pickle it to save time from next run on\n",
        "    dbfile = open(saved_google_news_word2vectransformer_path, 'wb')\n",
        "    pickle.dump(google_trans_inst, dbfile)\n",
        "    dbfile.close()\n",
        "\n",
        "google_pipeline=Pipeline([('tokenizer',Tokenizer()),('main',google_trans_inst)])"
      ]
    },
    {
      "cell_type": "code",
      "execution_count": null,
      "metadata": {
        "id": "gFTefq2vw2c6"
      },
      "outputs": [],
      "source": [
        "\n"
      ]
    },
    {
      "cell_type": "code",
      "execution_count": null,
      "metadata": {
        "id": "m_4Hv6hZ6T-r"
      },
      "outputs": [],
      "source": [
        "# from google.colab import drive\n",
        "# drive.mount('/content/drive')"
      ]
    },
    {
      "cell_type": "code",
      "execution_count": null,
      "metadata": {
        "id": "53abysqYbRlT"
      },
      "outputs": [],
      "source": [
        "\n",
        "# google_pipeline=Pipeline([('tokenizer',Tokenizer()),('main',google_meta_union_inst)])\n",
        "\n",
        "# cbow_custom_w2v_pipeline=Pipeline([('textpreprocessor',TextPreprocessor()),('tokenizer',Tokenizer()),('main',CustomWord2VecTransformer(vector_size = 300, window = 6 , min_count = 3, sg = 0))])\n",
        "cbow_custom_w2v_pipeline=Pipeline([('tokenizer',Tokenizer()),('main',CustomWord2VecTransformer(vector_size = 300, window = 6 , min_count = 3, sg = 0))])\n",
        "\n",
        "skgram_w2v_pipeline=cbow_custom_w2v_pipeline.set_params(main=CustomWord2VecTransformer(vector_size = 300, window = 6 , min_count = 3, sg = 1))\n",
        "\n",
        "# cbow_custom_w2v_pipeline=Pipeline([('textpreprocessor',TextPreprocessor()),('tokenizer',NonGensimTokenizer()),('main',CustomWord2VecTransformer(vector_size = 300, window = 6 , min_count = 3, sg = 0))])\n",
        "# skgram_w2v_pipeline=cbow_custom_w2v_pipeline.set_params(main=CustomWord2VecTransformer(vector_size = 300, window = 6 , min_count = 3, sg = 1))\n",
        "\n",
        "\n",
        "\n",
        "\n"
      ]
    },
    {
      "cell_type": "code",
      "execution_count": null,
      "metadata": {
        "id": "bKVCmwW5_ZNi"
      },
      "outputs": [],
      "source": [
        "# prepro_pipe=Pipeline([('textpreprocessor',TextPreprocessor()),('tokenizer',Tokenizer())])\n",
        "\n",
        "# X_trans=prepro_pipe.fit_transform(X_train)\n",
        "# X_trans.shape\n"
      ]
    },
    {
      "cell_type": "code",
      "execution_count": null,
      "metadata": {
        "id": "jHwHNF9nAXIF"
      },
      "outputs": [],
      "source": [
        "# cus=CustomWord2VecTransformer(vector_size = 300, window = 6 , min_count = 3, sg = 0)\n",
        "# x_cus=cus.fit_transform(X_trans)"
      ]
    },
    {
      "cell_type": "code",
      "source": [],
      "metadata": {
        "id": "i18C7P2IkC9c"
      },
      "execution_count": null,
      "outputs": []
    },
    {
      "cell_type": "markdown",
      "source": [
        "#### end of basic word vector methods"
      ],
      "metadata": {
        "id": "tT0sKfMXXx3e"
      }
    },
    {
      "cell_type": "markdown",
      "source": [
        "## End of Pre-processing"
      ],
      "metadata": {
        "id": "uKeFDHoSkG_W"
      }
    },
    {
      "cell_type": "markdown",
      "source": [
        "#### bert attempt"
      ],
      "metadata": {
        "id": "v8bKlsaPdtwY"
      }
    },
    {
      "cell_type": "code",
      "source": [
        "!pip install tensorflow-text\n",
        "import tensorflow as tf\n",
        "import tensorflow_hub as hub\n",
        "import tensorflow_text as text"
      ],
      "metadata": {
        "id": "m1-xYe49dx3H",
        "colab": {
          "base_uri": "https://localhost:8080/"
        },
        "outputId": "c70b87d0-cf2f-4de2-9085-7b5648a2bd9b"
      },
      "execution_count": null,
      "outputs": [
        {
          "output_type": "stream",
          "name": "stdout",
          "text": [
            "Collecting tensorflow-text\n",
            "  Downloading tensorflow_text-2.13.0-cp310-cp310-manylinux_2_17_x86_64.manylinux2014_x86_64.whl (6.5 MB)\n",
            "\u001b[2K     \u001b[90m━━━━━━━━━━━━━━━━━━━━━━━━━━━━━━━━━━━━━━━━\u001b[0m \u001b[32m6.5/6.5 MB\u001b[0m \u001b[31m35.6 MB/s\u001b[0m eta \u001b[36m0:00:00\u001b[0m\n",
            "\u001b[?25hRequirement already satisfied: tensorflow-hub>=0.8.0 in /usr/local/lib/python3.10/dist-packages (from tensorflow-text) (0.14.0)\n",
            "Collecting tensorflow<2.14,>=2.13.0 (from tensorflow-text)\n",
            "  Downloading tensorflow-2.13.0-cp310-cp310-manylinux_2_17_x86_64.manylinux2014_x86_64.whl (524.1 MB)\n",
            "\u001b[2K     \u001b[90m━━━━━━━━━━━━━━━━━━━━━━━━━━━━━━━━━━━━━━━\u001b[0m \u001b[32m524.1/524.1 MB\u001b[0m \u001b[31m2.8 MB/s\u001b[0m eta \u001b[36m0:00:00\u001b[0m\n",
            "\u001b[?25hRequirement already satisfied: absl-py>=1.0.0 in /usr/local/lib/python3.10/dist-packages (from tensorflow<2.14,>=2.13.0->tensorflow-text) (1.4.0)\n",
            "Requirement already satisfied: astunparse>=1.6.0 in /usr/local/lib/python3.10/dist-packages (from tensorflow<2.14,>=2.13.0->tensorflow-text) (1.6.3)\n",
            "Requirement already satisfied: flatbuffers>=23.1.21 in /usr/local/lib/python3.10/dist-packages (from tensorflow<2.14,>=2.13.0->tensorflow-text) (23.5.26)\n",
            "Requirement already satisfied: gast<=0.4.0,>=0.2.1 in /usr/local/lib/python3.10/dist-packages (from tensorflow<2.14,>=2.13.0->tensorflow-text) (0.4.0)\n",
            "Requirement already satisfied: google-pasta>=0.1.1 in /usr/local/lib/python3.10/dist-packages (from tensorflow<2.14,>=2.13.0->tensorflow-text) (0.2.0)\n",
            "Requirement already satisfied: grpcio<2.0,>=1.24.3 in /usr/local/lib/python3.10/dist-packages (from tensorflow<2.14,>=2.13.0->tensorflow-text) (1.57.0)\n",
            "Requirement already satisfied: h5py>=2.9.0 in /usr/local/lib/python3.10/dist-packages (from tensorflow<2.14,>=2.13.0->tensorflow-text) (3.9.0)\n",
            "Collecting keras<2.14,>=2.13.1 (from tensorflow<2.14,>=2.13.0->tensorflow-text)\n",
            "  Downloading keras-2.13.1-py3-none-any.whl (1.7 MB)\n",
            "\u001b[2K     \u001b[90m━━━━━━━━━━━━━━━━━━━━━━━━━━━━━━━━━━━━━━━━\u001b[0m \u001b[32m1.7/1.7 MB\u001b[0m \u001b[31m99.9 MB/s\u001b[0m eta \u001b[36m0:00:00\u001b[0m\n",
            "\u001b[?25hRequirement already satisfied: libclang>=13.0.0 in /usr/local/lib/python3.10/dist-packages (from tensorflow<2.14,>=2.13.0->tensorflow-text) (16.0.6)\n",
            "Requirement already satisfied: numpy<=1.24.3,>=1.22 in /usr/local/lib/python3.10/dist-packages (from tensorflow<2.14,>=2.13.0->tensorflow-text) (1.23.5)\n",
            "Requirement already satisfied: opt-einsum>=2.3.2 in /usr/local/lib/python3.10/dist-packages (from tensorflow<2.14,>=2.13.0->tensorflow-text) (3.3.0)\n",
            "Requirement already satisfied: packaging in /usr/local/lib/python3.10/dist-packages (from tensorflow<2.14,>=2.13.0->tensorflow-text) (23.1)\n",
            "Requirement already satisfied: protobuf!=4.21.0,!=4.21.1,!=4.21.2,!=4.21.3,!=4.21.4,!=4.21.5,<5.0.0dev,>=3.20.3 in /usr/local/lib/python3.10/dist-packages (from tensorflow<2.14,>=2.13.0->tensorflow-text) (3.20.3)\n",
            "Requirement already satisfied: setuptools in /usr/local/lib/python3.10/dist-packages (from tensorflow<2.14,>=2.13.0->tensorflow-text) (67.7.2)\n",
            "Requirement already satisfied: six>=1.12.0 in /usr/local/lib/python3.10/dist-packages (from tensorflow<2.14,>=2.13.0->tensorflow-text) (1.16.0)\n",
            "Collecting tensorboard<2.14,>=2.13 (from tensorflow<2.14,>=2.13.0->tensorflow-text)\n",
            "  Downloading tensorboard-2.13.0-py3-none-any.whl (5.6 MB)\n",
            "\u001b[2K     \u001b[90m━━━━━━━━━━━━━━━━━━━━━━━━━━━━━━━━━━━━━━━━\u001b[0m \u001b[32m5.6/5.6 MB\u001b[0m \u001b[31m108.2 MB/s\u001b[0m eta \u001b[36m0:00:00\u001b[0m\n",
            "\u001b[?25hCollecting tensorflow-estimator<2.14,>=2.13.0 (from tensorflow<2.14,>=2.13.0->tensorflow-text)\n",
            "  Downloading tensorflow_estimator-2.13.0-py2.py3-none-any.whl (440 kB)\n",
            "\u001b[2K     \u001b[90m━━━━━━━━━━━━━━━━━━━━━━━━━━━━━━━━━━━━━━\u001b[0m \u001b[32m440.8/440.8 kB\u001b[0m \u001b[31m46.6 MB/s\u001b[0m eta \u001b[36m0:00:00\u001b[0m\n",
            "\u001b[?25hRequirement already satisfied: termcolor>=1.1.0 in /usr/local/lib/python3.10/dist-packages (from tensorflow<2.14,>=2.13.0->tensorflow-text) (2.3.0)\n",
            "Collecting typing-extensions<4.6.0,>=3.6.6 (from tensorflow<2.14,>=2.13.0->tensorflow-text)\n",
            "  Downloading typing_extensions-4.5.0-py3-none-any.whl (27 kB)\n",
            "Requirement already satisfied: wrapt>=1.11.0 in /usr/local/lib/python3.10/dist-packages (from tensorflow<2.14,>=2.13.0->tensorflow-text) (1.14.1)\n",
            "Requirement already satisfied: tensorflow-io-gcs-filesystem>=0.23.1 in /usr/local/lib/python3.10/dist-packages (from tensorflow<2.14,>=2.13.0->tensorflow-text) (0.33.0)\n",
            "Requirement already satisfied: wheel<1.0,>=0.23.0 in /usr/local/lib/python3.10/dist-packages (from astunparse>=1.6.0->tensorflow<2.14,>=2.13.0->tensorflow-text) (0.41.2)\n",
            "Requirement already satisfied: google-auth<3,>=1.6.3 in /usr/local/lib/python3.10/dist-packages (from tensorboard<2.14,>=2.13->tensorflow<2.14,>=2.13.0->tensorflow-text) (2.17.3)\n",
            "Requirement already satisfied: google-auth-oauthlib<1.1,>=0.5 in /usr/local/lib/python3.10/dist-packages (from tensorboard<2.14,>=2.13->tensorflow<2.14,>=2.13.0->tensorflow-text) (1.0.0)\n",
            "Requirement already satisfied: markdown>=2.6.8 in /usr/local/lib/python3.10/dist-packages (from tensorboard<2.14,>=2.13->tensorflow<2.14,>=2.13.0->tensorflow-text) (3.4.4)\n",
            "Requirement already satisfied: requests<3,>=2.21.0 in /usr/local/lib/python3.10/dist-packages (from tensorboard<2.14,>=2.13->tensorflow<2.14,>=2.13.0->tensorflow-text) (2.31.0)\n",
            "Requirement already satisfied: tensorboard-data-server<0.8.0,>=0.7.0 in /usr/local/lib/python3.10/dist-packages (from tensorboard<2.14,>=2.13->tensorflow<2.14,>=2.13.0->tensorflow-text) (0.7.1)\n",
            "Requirement already satisfied: werkzeug>=1.0.1 in /usr/local/lib/python3.10/dist-packages (from tensorboard<2.14,>=2.13->tensorflow<2.14,>=2.13.0->tensorflow-text) (2.3.7)\n",
            "Requirement already satisfied: cachetools<6.0,>=2.0.0 in /usr/local/lib/python3.10/dist-packages (from google-auth<3,>=1.6.3->tensorboard<2.14,>=2.13->tensorflow<2.14,>=2.13.0->tensorflow-text) (5.3.1)\n",
            "Requirement already satisfied: pyasn1-modules>=0.2.1 in /usr/local/lib/python3.10/dist-packages (from google-auth<3,>=1.6.3->tensorboard<2.14,>=2.13->tensorflow<2.14,>=2.13.0->tensorflow-text) (0.3.0)\n",
            "Requirement already satisfied: rsa<5,>=3.1.4 in /usr/local/lib/python3.10/dist-packages (from google-auth<3,>=1.6.3->tensorboard<2.14,>=2.13->tensorflow<2.14,>=2.13.0->tensorflow-text) (4.9)\n",
            "Requirement already satisfied: requests-oauthlib>=0.7.0 in /usr/local/lib/python3.10/dist-packages (from google-auth-oauthlib<1.1,>=0.5->tensorboard<2.14,>=2.13->tensorflow<2.14,>=2.13.0->tensorflow-text) (1.3.1)\n",
            "Requirement already satisfied: charset-normalizer<4,>=2 in /usr/local/lib/python3.10/dist-packages (from requests<3,>=2.21.0->tensorboard<2.14,>=2.13->tensorflow<2.14,>=2.13.0->tensorflow-text) (3.2.0)\n",
            "Requirement already satisfied: idna<4,>=2.5 in /usr/local/lib/python3.10/dist-packages (from requests<3,>=2.21.0->tensorboard<2.14,>=2.13->tensorflow<2.14,>=2.13.0->tensorflow-text) (3.4)\n",
            "Requirement already satisfied: urllib3<3,>=1.21.1 in /usr/local/lib/python3.10/dist-packages (from requests<3,>=2.21.0->tensorboard<2.14,>=2.13->tensorflow<2.14,>=2.13.0->tensorflow-text) (2.0.4)\n",
            "Requirement already satisfied: certifi>=2017.4.17 in /usr/local/lib/python3.10/dist-packages (from requests<3,>=2.21.0->tensorboard<2.14,>=2.13->tensorflow<2.14,>=2.13.0->tensorflow-text) (2023.7.22)\n",
            "Requirement already satisfied: MarkupSafe>=2.1.1 in /usr/local/lib/python3.10/dist-packages (from werkzeug>=1.0.1->tensorboard<2.14,>=2.13->tensorflow<2.14,>=2.13.0->tensorflow-text) (2.1.3)\n",
            "Requirement already satisfied: pyasn1<0.6.0,>=0.4.6 in /usr/local/lib/python3.10/dist-packages (from pyasn1-modules>=0.2.1->google-auth<3,>=1.6.3->tensorboard<2.14,>=2.13->tensorflow<2.14,>=2.13.0->tensorflow-text) (0.5.0)\n",
            "Requirement already satisfied: oauthlib>=3.0.0 in /usr/local/lib/python3.10/dist-packages (from requests-oauthlib>=0.7.0->google-auth-oauthlib<1.1,>=0.5->tensorboard<2.14,>=2.13->tensorflow<2.14,>=2.13.0->tensorflow-text) (3.2.2)\n",
            "Installing collected packages: typing-extensions, tensorflow-estimator, keras, tensorboard, tensorflow, tensorflow-text\n",
            "  Attempting uninstall: typing-extensions\n",
            "    Found existing installation: typing_extensions 4.7.1\n",
            "    Uninstalling typing_extensions-4.7.1:\n",
            "      Successfully uninstalled typing_extensions-4.7.1\n",
            "  Attempting uninstall: tensorflow-estimator\n",
            "    Found existing installation: tensorflow-estimator 2.12.0\n",
            "    Uninstalling tensorflow-estimator-2.12.0:\n",
            "      Successfully uninstalled tensorflow-estimator-2.12.0\n",
            "  Attempting uninstall: keras\n",
            "    Found existing installation: keras 2.12.0\n",
            "    Uninstalling keras-2.12.0:\n",
            "      Successfully uninstalled keras-2.12.0\n",
            "  Attempting uninstall: tensorboard\n",
            "    Found existing installation: tensorboard 2.12.3\n",
            "    Uninstalling tensorboard-2.12.3:\n",
            "      Successfully uninstalled tensorboard-2.12.3\n",
            "  Attempting uninstall: tensorflow\n",
            "    Found existing installation: tensorflow 2.12.0\n",
            "    Uninstalling tensorflow-2.12.0:\n",
            "      Successfully uninstalled tensorflow-2.12.0\n",
            "\u001b[31mERROR: pip's dependency resolver does not currently take into account all the packages that are installed. This behaviour is the source of the following dependency conflicts.\n",
            "pydantic 2.2.1 requires typing-extensions>=4.6.1, but you have typing-extensions 4.5.0 which is incompatible.\n",
            "pydantic-core 2.6.1 requires typing-extensions!=4.7.0,>=4.6.0, but you have typing-extensions 4.5.0 which is incompatible.\u001b[0m\u001b[31m\n",
            "\u001b[0mSuccessfully installed keras-2.13.1 tensorboard-2.13.0 tensorflow-2.13.0 tensorflow-estimator-2.13.0 tensorflow-text-2.13.0 typing-extensions-4.5.0\n"
          ]
        },
        {
          "output_type": "stream",
          "name": "stderr",
          "text": [
            "/usr/local/lib/python3.10/dist-packages/google/colab/_pip.py:85: ResourceWarning: unclosed file <_io.TextIOWrapper name='/usr/local/lib/python3.10/dist-packages/keras-2.13.1.dist-info/top_level.txt' mode='r' encoding='UTF-8'>\n",
            "  for line in open(toplevel):\n",
            "ResourceWarning: Enable tracemalloc to get the object allocation traceback\n",
            "/usr/local/lib/python3.10/dist-packages/google/colab/_pip.py:85: ResourceWarning: unclosed file <_io.TextIOWrapper name='/usr/local/lib/python3.10/dist-packages/tensorboard-2.13.0.dist-info/top_level.txt' mode='r' encoding='UTF-8'>\n",
            "  for line in open(toplevel):\n",
            "ResourceWarning: Enable tracemalloc to get the object allocation traceback\n",
            "/usr/local/lib/python3.10/dist-packages/google/colab/_pip.py:85: ResourceWarning: unclosed file <_io.TextIOWrapper name='/usr/local/lib/python3.10/dist-packages/tensorflow-2.13.0.dist-info/top_level.txt' mode='r' encoding='UTF-8'>\n",
            "  for line in open(toplevel):\n",
            "ResourceWarning: Enable tracemalloc to get the object allocation traceback\n",
            "/usr/local/lib/python3.10/dist-packages/google/colab/_pip.py:85: ResourceWarning: unclosed file <_io.TextIOWrapper name='/usr/local/lib/python3.10/dist-packages/tensorflow_estimator-2.13.0.dist-info/top_level.txt' mode='r' encoding='UTF-8'>\n",
            "  for line in open(toplevel):\n",
            "ResourceWarning: Enable tracemalloc to get the object allocation traceback\n",
            "/usr/local/lib/python3.10/dist-packages/google/colab/_pip.py:85: ResourceWarning: unclosed file <_io.TextIOWrapper name='/usr/local/lib/python3.10/dist-packages/tensorflow_text-2.13.0.dist-info/top_level.txt' mode='r' encoding='UTF-8'>\n",
            "  for line in open(toplevel):\n",
            "ResourceWarning: Enable tracemalloc to get the object allocation traceback\n"
          ]
        }
      ]
    },
    {
      "cell_type": "code",
      "source": [
        "# print('\\\\')"
      ],
      "metadata": {
        "id": "3KSsTuExBANj"
      },
      "execution_count": null,
      "outputs": []
    },
    {
      "cell_type": "code",
      "source": [
        "# ## debug\n",
        "# import spacy\n",
        "# nlp=spacy.load('en_core_web_sm' , disable=['tok2vec', 'tagger', 'parser', 'attribute_ruler', 'lemmatizer', 'ner'])\n",
        "# # nlp=spacy.load('en_core_web_sm' )\n",
        "\n",
        "# doc=nlp('says, https://spacy.io/usage/processing-pipelines#disabling you can remove parts of the pipeline without loading it. Default en_core_web_sm models has the following pipes')\n",
        "\n",
        "# for token in doc:\n",
        "#     if token.like_url:\n",
        "#         print(token)\n",
        "# nlp.pipe_names"
      ],
      "metadata": {
        "id": "A1Zc54g54zuK"
      },
      "execution_count": null,
      "outputs": []
    },
    {
      "cell_type": "code",
      "source": [
        "def convert_str_to_tf_constant(text:str):\n",
        "    return tf.constant([text])\n",
        "\n",
        "\n",
        "def bert_remove_special_characters(text,punc_set=None):\n",
        "    punc_str=''\n",
        "    if punc_set==None:\n",
        "        punc_set=[]\n",
        "    for punc in punc_set:\n",
        "        punc_str=punc_str+ '\\\\' + punc\n",
        "    pattern=f'[^a-zA-Z0-9{punc_str}]'\n",
        "    text=re.sub(pattern,' ',text)\n",
        "    text=re.sub(r'\\s{2,}',' ',text)\n",
        "    return text\n",
        "\n",
        "\n",
        "use_spacy=False\n",
        "if use_spacy:\n",
        "    import spacy\n",
        "    nlp=spacy.load('en_core_web_sm' , disable=['tok2vec', 'tagger', 'parser', 'attribute_ruler', 'lemmatizer', 'ner'])\n",
        "def bert_basic_text_preprocessing(text:str,method='default',use_spacy=use_spacy,word_set=None,punc_set=('!',\"?\",'.',',','\"',\"'\",'$','£','/','(',')','-' )):\n",
        "    all_args=locals()\n",
        "    del all_args['text']\n",
        "    # print(type(all_args),' ' , all_args)\n",
        "\n",
        "\n",
        "    preprocessed_text=text\n",
        "    # preprocessed_text=convert_str_to_tf_constant(preprocessed_text)\n",
        "    preprocessed_text=convert_emojis_emoticons_to_text(preprocessed_text)\n",
        "\n",
        "    preprocessed_text=preprocessed_text.lower()\n",
        "    if use_spacy:\n",
        "\n",
        "        doc=nlp(preprocessed_text)\n",
        "        preprocessed_text=remove_urls(doc,punc_set=None,use_spacy=use_spacy)\n",
        "    else :\n",
        "        preprocessed_text=remove_urls(preprocessed_text,use_spacy=use_spacy,punc_set=None)\n",
        "\n",
        "    preprocessed_text=denoise_text(preprocessed_text)\n",
        "    preprocessed_text=HashtagReplacer().replace_first_hashtag(preprocessed_text)\n",
        "    preprocessed_text=HashtagReplacer().replace_all_hashtags(preprocessed_text)\n",
        "    preprocessed_text=replace_repeated_characters(preprocessed_text,method='bert')\n",
        "\n",
        "    preprocessed_text=bert_remove_special_characters(preprocessed_text,punc_set=punc_set)\n",
        "    preprocessed_text= replace_abbreviations(preprocessed_text, word_set=word_set,punc_set=punc_set,method='bert')\n",
        "\n",
        "    # preprocessed_text= fix_spelling_mistakes_replace_abbr(preprocessed_text,method='bert')\n",
        "\n",
        "    # preprocessed_text=remove_special_characters(preprocessed_text)\n",
        "\n",
        "\n",
        "\n",
        "\n",
        "    # preprocessed_text=remove_numbers(preprocessed_text)\n",
        "\n",
        "\n",
        "    # # preprocessed_text= fix_spelling_mistakes(preprocessed_text)\n",
        "    # if not (method.lower() == 'allow_stopwords'):\n",
        "    #     if method.lower() == 'rnn':\n",
        "    #         RNN_WHITELIST=['you', 'me','i','my','him','her','not','he','she']\n",
        "    #         preprocessed_text=remove_stopwords(preprocessed_text,whitelist=RNN_WHITELIST)\n",
        "    #     else:\n",
        "    #         preprocessed_text=remove_stopwords(preprocessed_text)\n",
        "    # preprocessed_text=lemmatize_text(preprocessed_text)\n",
        "\n",
        "\n",
        "    return preprocessed_text\n",
        "\n",
        "class BertBasicTextPreprocessor(DummyTransformer):\n",
        "\n",
        "    def __init__(self,*args,**kwargs):\n",
        "        self.kwargs={}\n",
        "        self.args=[]\n",
        "\n",
        "        nltk.download('words')\n",
        "        from nltk.corpus import words\n",
        "        word_set=set(words.words())\n",
        "        self.kwargs.update({'word_set':word_set})\n",
        "\n",
        "        self.bert_punc_set=['!',\"?\",'.',',','\"',\"'\",'$','£','/','(',')','-' ]##( ) -\n",
        "        self.kwargs.update({'punc_set':self.bert_punc_set})\n",
        "        self.kwargs.update({'use_spacy':True})\n",
        "\n",
        "        self.args= self.args + list(args)\n",
        "        self.kwargs.update(kwargs)\n",
        "\n",
        "\n",
        "\n",
        "    def fit(self, X=None,y=None):\n",
        "        pass\n",
        "        return self\n",
        "\n",
        "    def transform(self,X:pd.DataFrame):\n",
        "#         preprocessed_X_np_array=X.apply(do_basic_text_preprocessing).values\n",
        "        # preprocessed_X_nparr=X[text_col_name].apply(lambda x:do_basic_text_preprocessing(x)).values\n",
        "        preprocessed_X_df=X[text_col_name].apply(lambda x:bert_basic_text_preprocessing(x,*self.args,**self.kwargs))\n",
        "        return preprocessed_X_df\n",
        "\n"
      ],
      "metadata": {
        "id": "3n3Lq1D3mtIE"
      },
      "execution_count": null,
      "outputs": []
    },
    {
      "cell_type": "code",
      "source": [
        "### debug\n",
        "'''\n",
        "having a great time in kc  http://twitpic.com/4w3fi                          |\n",
        "| 23992 | im seeing the hannah montana movie again today                               |\n",
        "| 21957 | Yooooooo!? What up mates?!                                                   |\n",
        "| 22027 | @joolzgirl oh no! u must get 1!!!lol mum still isnt convinced, and we have 3 |\n",
        "| 15150 | had a really weird night last night and misses her friends\n",
        "'''\n",
        "text='Yooooooo!???   What up matess?!!!'\n",
        "text='@joolzgirl oh no! u must get 1!!!lol mum still isnt convinced, and we have 3'\n",
        "bert_basic_text_preprocessing(text)\n",
        "# replace_repeated_characters(text)\n",
        "# re.sub(r'([^A-Za-z])\\1+',r'\\1', text)\n",
        "# re.sub(r'(\\W)\\1{1,}',r'\\1', text)"
      ],
      "metadata": {
        "id": "tF4FKZHIRj40",
        "colab": {
          "base_uri": "https://localhost:8080/",
          "height": 37
        },
        "outputId": "461e81d1-cee9-43f3-c8fd-ea2ca26d9530"
      },
      "execution_count": null,
      "outputs": [
        {
          "output_type": "execute_result",
          "data": {
            "text/plain": [
              "' oh no!. you. must get 1!. laughing out loud. mum still isnt convinced, and we have 3'"
            ],
            "application/vnd.google.colaboratory.intrinsic+json": {
              "type": "string"
            }
          },
          "metadata": {},
          "execution_count": 41
        }
      ]
    },
    {
      "cell_type": "code",
      "source": [
        "## whether to load x_train from saved file\n",
        "if False:\n",
        "    import pickle\n",
        "    dbfile = open(f'{drive_project_folder_path}/{re.search(r\"/[^/]+$\",datafile_path).group(0)}_x_train_bert.pkl', 'wb')\n",
        "\n",
        "    pickle.dump(X_train_to_use, dbfile)\n",
        "    dbfile.close()\n",
        "\n",
        "\n",
        "\n",
        "\n",
        "    dbfile = open(f'{drive_project_folder_path}/{re.search(r\"/[^/]+$\",datafile_path).group(0)}_x_test_bert.pkl', 'wb')\n",
        "\n",
        "    pickle.dump(X_test_to_use, dbfile)\n",
        "    dbfile.close()\n",
        "\n",
        "else:\n",
        "    pipe=BertBasicTextPreprocessor(use_spacy= use_spacy)\n",
        "    X_train_transformed=pipe.fit_transform(X_train)\n",
        "    X_test_transformed=pipe.transform(X_test)\n",
        "    X_train_to_use=X_train_transformed\n",
        "    X_test_to_use=X_test_transformed\n",
        "\n",
        "\n",
        "y_train_to_use=y_train\n",
        "y_test_to_use=y_test"
      ],
      "metadata": {
        "id": "u60E_QSZpTnl",
        "colab": {
          "base_uri": "https://localhost:8080/"
        },
        "outputId": "c47db786-7c18-4bd9-e3d3-f0e4661a1374"
      },
      "execution_count": null,
      "outputs": [
        {
          "output_type": "stream",
          "name": "stderr",
          "text": [
            "[nltk_data] Downloading package words to /root/nltk_data...\n",
            "[nltk_data]   Package words is already up-to-date!\n",
            "<ipython-input-33-c7d2d33f62ba>:58: MarkupResemblesLocatorWarning: The input looks more like a filename than markup. You may want to open this file and pass the filehandle into Beautiful Soup.\n",
            "  soup = BeautifulSoup(text, \"html.parser\")\n",
            "/usr/local/lib/python3.10/dist-packages/textblob/_text.py:1331: ResourceWarning: unclosed file <_io.TextIOWrapper name='/usr/local/lib/python3.10/dist-packages/textblob/en/en-spelling.txt' mode='r' encoding='utf-8'>\n",
            "  for x in _read(self._path):\n",
            "ResourceWarning: Enable tracemalloc to get the object allocation traceback\n"
          ]
        }
      ]
    },
    {
      "cell_type": "code",
      "source": [
        "\n"
      ],
      "metadata": {
        "id": "NJ_ZzY12zT4x"
      },
      "execution_count": null,
      "outputs": []
    },
    {
      "cell_type": "code",
      "source": [],
      "metadata": {
        "id": "8iXsurKmlqOh"
      },
      "execution_count": null,
      "outputs": []
    },
    {
      "cell_type": "code",
      "source": [
        "##  imblearn\n",
        "from imblearn.pipeline import Pipeline\n",
        "from imblearn.over_sampling import SMOTENC, RandomOverSampler\n",
        "over= RandomOverSampler(random_state=1)\n",
        "X_train_resampled, y_train_resampled= over.fit_resample(X_train_to_use.values.reshape(-1,1),y_train_to_use.astype('category'))\n",
        "X_train_to_use=X_train_resampled\n",
        "y_train_to_use=y_train_resampled"
      ],
      "metadata": {
        "id": "s0Miv1L8FUh0"
      },
      "execution_count": null,
      "outputs": []
    },
    {
      "cell_type": "code",
      "source": [
        "# import imblearn\n",
        "# from imblearn import FunctionSampler\n",
        "\n",
        "# def fixXy(X,y):\n",
        "#     return X.values.reshape(-1,1),y.astype('int')\n",
        "\n",
        "# fixXyTransformer=FunctionSampler(func=fixXy)\n",
        "\n",
        "# def ohe_y(X,y):\n",
        "#     y_train_to_use_ohe=y.astype(int).values.flatten()\n",
        "\n",
        "#     y_train_to_use_ohe=tf.keras.utils.to_categorical(y_train_to_use_ohe,num_targets)\n",
        "#     return X, y_train_to_use_ohe\n",
        "# OheYTransformer=FunctionSampler(func=ohe_y)\n",
        "\n",
        "# def convert_X_to_tfconstant(X,y):\n",
        "#     Xt=tf.constant(X.tolist())\n",
        "#     return Xt, y\n",
        "\n",
        "# TfconstXTransformer=FunctionSampler(func=convert_X_to_tfconstant)\n",
        "# TrainResampler=imblearn.pipeline.make_pipeline(RandomOverSampler(random_state=1),OheYTransformer,TfconstXTransformer)\n",
        "# TestResampler=imblearn.pipeline.make_pipeline(OheYTransformer,TfconstXTransformer)\n",
        "\n",
        "# X_train_to_use, y_train_to_use=TrainResampler.fit_resample(X_train_transformed.values.reshape(-1,1),y_train.astype('category'))\n",
        "# X_test_to_use, y_test_to_use=TestResampler.fit_resample(X_test_transformed.values.reshape(-1,1),y_test.astype('category'))\n",
        "\n",
        "\n"
      ],
      "metadata": {
        "id": "E-TFCv2nIXFZ",
        "colab": {
          "base_uri": "https://localhost:8080/"
        },
        "outputId": "d1448da7-3d1b-482d-d72a-e13a49a7f57a"
      },
      "execution_count": null,
      "outputs": [
        {
          "output_type": "stream",
          "name": "stderr",
          "text": [
            "/usr/local/lib/python3.10/dist-packages/ipykernel/ipkernel.py:283: DeprecationWarning: `should_run_async` will not call `transform_cell` automatically in the future. Please pass the result to `transformed_cell` argument and any exception that happen during thetransform in `preprocessing_exc_tuple` in IPython 7.17 and above.\n",
            "  and should_run_async(code)\n"
          ]
        }
      ]
    },
    {
      "cell_type": "code",
      "source": [
        "tf.__version__\n"
      ],
      "metadata": {
        "colab": {
          "base_uri": "https://localhost:8080/",
          "height": 37
        },
        "id": "gWbB9OXom7G_",
        "outputId": "b52806db-d4e8-463b-c2a6-04981f0d2f70"
      },
      "execution_count": null,
      "outputs": [
        {
          "output_type": "execute_result",
          "data": {
            "text/plain": [
              "'2.13.0'"
            ],
            "application/vnd.google.colaboratory.intrinsic+json": {
              "type": "string"
            }
          },
          "metadata": {},
          "execution_count": 45
        }
      ]
    },
    {
      "cell_type": "code",
      "source": [
        "### define model containing bert\n",
        "text_input = tf.keras.layers.Input(shape=(), dtype=tf.string)\n",
        "preprocessor = hub.KerasLayer(\n",
        "    \"https://tfhub.dev/tensorflow/bert_en_uncased_preprocess/3\")\n",
        "encoder_inputs = preprocessor(text_input)\n",
        "# encoder_inputs.trainable=False\n",
        "encoder = hub.KerasLayer(\n",
        "    \"https://tfhub.dev/tensorflow/bert_en_uncased_L-12_H-768_A-12/4\",\n",
        "    trainable=True)\n",
        "outputs = encoder(encoder_inputs)\n",
        "pooled_output = outputs[\"pooled_output\"]      # [batch_size, 768].\n",
        "sequence_output = outputs[\"sequence_output\"]  # [batch_size, seq_length, 768].\n"
      ],
      "metadata": {
        "id": "vpHSizhqdyRJ",
        "colab": {
          "base_uri": "https://localhost:8080/"
        },
        "outputId": "a37f0ee1-1968-428f-f3b5-8a8c06903734"
      },
      "execution_count": null,
      "outputs": [
        {
          "output_type": "stream",
          "name": "stderr",
          "text": [
            "<frozen importlib._bootstrap>:914: ImportWarning: APICoreClientInfoImportHook.find_spec() not found; falling back to find_module()\n",
            "<frozen importlib._bootstrap>:914: ImportWarning: _PyDriveImportHook.find_spec() not found; falling back to find_module()\n",
            "<frozen importlib._bootstrap>:914: ImportWarning: _OpenCVImportHook.find_spec() not found; falling back to find_module()\n",
            "<frozen importlib._bootstrap>:914: ImportWarning: _BokehImportHook.find_spec() not found; falling back to find_module()\n",
            "<frozen importlib._bootstrap>:914: ImportWarning: _AltairImportHook.find_spec() not found; falling back to find_module()\n"
          ]
        }
      ]
    },
    {
      "cell_type": "code",
      "source": [
        "embedding_model = tf.keras.Model(text_input, sequence_output)\n",
        "sentences = tf.constant([\"'hey laksdjf yellow lool hello my guys ... how you doing??!'\"])\n",
        "# print(embedding_model(sentences))\n",
        "print(embedding_model(sentences).shape)\n"
      ],
      "metadata": {
        "id": "N2Sxv8DhdyX1",
        "colab": {
          "base_uri": "https://localhost:8080/"
        },
        "outputId": "78f689c2-638f-4aa8-d7a1-d74eb1949092"
      },
      "execution_count": null,
      "outputs": [
        {
          "output_type": "stream",
          "name": "stdout",
          "text": [
            "(1, 128, 768)\n"
          ]
        }
      ]
    },
    {
      "cell_type": "code",
      "source": [
        "from tensorflow.keras.models import Sequential\n",
        "from tensorflow.keras.layers import LSTM, Dense, Dropout, Embedding,Flatten ,Bidirectional ,Conv1D,MaxPooling1D, GlobalMaxPooling1D,SpatialDropout1D\n",
        "\n",
        "from tensorflow.keras import regularizers\n",
        "from tensorflow.keras import optimizers\n"
      ],
      "metadata": {
        "id": "KMECFshUkJTS"
      },
      "execution_count": null,
      "outputs": []
    },
    {
      "cell_type": "code",
      "source": [
        "if False:\n",
        "    trainable_bert_layer_bool=False\n",
        "    model_name=f'bert only last dense; trainable {trainable_bert_layer_bool}'\n",
        "    pass\n",
        "    x=pooled_output\n",
        "    x=Dense(num_targets, activation = \"softmax\")(x)\n",
        "\n",
        "    model=tf.keras.Model(text_input, x)\n",
        "\n",
        "    for layer in model.layers[1:3]:\n",
        "        print(layer.name)\n",
        "        layer.trainable=trainable_bert_layer_bool\n",
        "\n",
        "    model.summary()\n",
        "\n",
        "\n",
        "\n"
      ],
      "metadata": {
        "id": "G4GLGB9WaeX0"
      },
      "execution_count": null,
      "outputs": []
    },
    {
      "cell_type": "code",
      "source": [
        "\n",
        "if False:\n",
        "    trainable_bert_layer_bool=False\n",
        "    model_name=f'bert multi dense; bert_layer_trainable- {trainable_bert_layer_bool}'\n",
        "\n",
        "    x=pooled_output\n",
        "    ### Conv1D and using pooled output\n",
        "    # x=Conv1D(64, kernel_size = 3, padding =\"same\", activation = \"relu\", strides = 1,input_shape=(None,768))(x)\n",
        "\n",
        "    x=Dense(64, activation='relu')(x)\n",
        "    x=Dense(32, activation='relu')(x)\n",
        "    x=Dense(num_targets, activation = \"softmax\")(x)\n",
        "    model=tf.keras.Model(text_input, x)\n",
        "\n",
        "    for layer in model.layers[1:3]:\n",
        "        print(layer.name)\n",
        "        layer.trainable=trainable_bert_layer_bool\n",
        "\n",
        "    print(model.summary)\n"
      ],
      "metadata": {
        "id": "qnFMaGoRf341"
      },
      "execution_count": null,
      "outputs": []
    },
    {
      "cell_type": "code",
      "source": [],
      "metadata": {
        "id": "b8n00dD197wz"
      },
      "execution_count": null,
      "outputs": []
    },
    {
      "cell_type": "code",
      "source": [
        "### using bert sequence_output and LSTM\n",
        "if True:\n",
        "    trainable_bert_layer_bool=False\n",
        "    model_name=f'bert lstm 2023-08-25; bert_layer_trainable={trainable_bert_layer_bool}'\n",
        "\n",
        "    x=sequence_output\n",
        "    # x=Bidirectional(LSTM(50, dropout = 0.1, kernel_regularizer=regularizers.L1L2(l1=0.01,l2=0.01) ))(x)\n",
        "    x=Bidirectional(LSTM(50))(x)\n",
        "\n",
        "    x=Dropout(0.5)(x)\n",
        "    # x=Conv1D(64, kernel_size = 3, padding =\"same\", activation = \"relu\", strides = 1,input_shape=(None,768))(x)\n",
        "    x=Dense(64, activation='relu')(x)\n",
        "    x=Dropout(0.5)(x)\n",
        "    x=Dense(32, activation='relu')(x)\n",
        "    x=Dropout(0.2)(x)\n",
        "    x=Dense(num_targets, activation = \"softmax\")(x)\n",
        "    model=tf.keras.Model(text_input, x)\n",
        "    # model.layers['keras_layer_4'].trainable=False\n",
        "    # model.layers['keras_layer_5'].trainable=False\n",
        "    model.summary()\n",
        "    for layer in model.layers[1:3]:\n",
        "        print(layer.name)\n",
        "        layer.trainable=trainable_bert_layer_bool\n"
      ],
      "metadata": {
        "id": "OB-PM3Nqf8u8",
        "colab": {
          "base_uri": "https://localhost:8080/"
        },
        "outputId": "85e393f4-dc9b-4122-a8c8-43c4519e1f0d"
      },
      "execution_count": null,
      "outputs": [
        {
          "output_type": "stream",
          "name": "stdout",
          "text": [
            "Model: \"model_1\"\n",
            "__________________________________________________________________________________________________\n",
            " Layer (type)                Output Shape                 Param #   Connected to                  \n",
            "==================================================================================================\n",
            " input_1 (InputLayer)        [(None,)]                    0         []                            \n",
            "                                                                                                  \n",
            " keras_layer (KerasLayer)    {'input_type_ids': (None,    0         ['input_1[0][0]']             \n",
            "                             128),                                                                \n",
            "                              'input_word_ids': (None,                                            \n",
            "                             128),                                                                \n",
            "                              'input_mask': (None, 128)                                           \n",
            "                             }                                                                    \n",
            "                                                                                                  \n",
            " keras_layer_1 (KerasLayer)  {'pooled_output': (None, 7   1094822   ['keras_layer[0][0]',         \n",
            "                             68),                         41         'keras_layer[0][1]',         \n",
            "                              'encoder_outputs': [(None              'keras_layer[0][2]']         \n",
            "                             , 128, 768),                                                         \n",
            "                              (None, 128, 768),                                                   \n",
            "                              (None, 128, 768),                                                   \n",
            "                              (None, 128, 768),                                                   \n",
            "                              (None, 128, 768),                                                   \n",
            "                              (None, 128, 768),                                                   \n",
            "                              (None, 128, 768),                                                   \n",
            "                              (None, 128, 768),                                                   \n",
            "                              (None, 128, 768),                                                   \n",
            "                              (None, 128, 768),                                                   \n",
            "                              (None, 128, 768),                                                   \n",
            "                              (None, 128, 768)],                                                  \n",
            "                              'sequence_output': (None,                                           \n",
            "                              128, 768),                                                          \n",
            "                              'default': (None, 768)}                                             \n",
            "                                                                                                  \n",
            " bidirectional (Bidirection  (None, 100)                  327600    ['keras_layer_1[0][14]']      \n",
            " al)                                                                                              \n",
            "                                                                                                  \n",
            " dropout (Dropout)           (None, 100)                  0         ['bidirectional[0][0]']       \n",
            "                                                                                                  \n",
            " dense (Dense)               (None, 64)                   6464      ['dropout[0][0]']             \n",
            "                                                                                                  \n",
            " dropout_1 (Dropout)         (None, 64)                   0         ['dense[0][0]']               \n",
            "                                                                                                  \n",
            " dense_1 (Dense)             (None, 32)                   2080      ['dropout_1[0][0]']           \n",
            "                                                                                                  \n",
            " dropout_2 (Dropout)         (None, 32)                   0         ['dense_1[0][0]']             \n",
            "                                                                                                  \n",
            " dense_2 (Dense)             (None, 3)                    99        ['dropout_2[0][0]']           \n",
            "                                                                                                  \n",
            "==================================================================================================\n",
            "Total params: 109818484 (418.92 MB)\n",
            "Trainable params: 109818483 (418.92 MB)\n",
            "Non-trainable params: 1 (1.00 Byte)\n",
            "__________________________________________________________________________________________________\n",
            "keras_layer\n",
            "keras_layer_1\n"
          ]
        }
      ]
    },
    {
      "cell_type": "code",
      "source": [
        "# print(y_train_to_use_ohe.shape)\n"
      ],
      "metadata": {
        "id": "VfcnSWFhe4F6"
      },
      "execution_count": null,
      "outputs": []
    },
    {
      "cell_type": "code",
      "source": [
        "# print(y_train_resampled.shape)\n"
      ],
      "metadata": {
        "id": "1qIhLtqT0q0S"
      },
      "execution_count": null,
      "outputs": []
    },
    {
      "cell_type": "code",
      "source": [
        "## bert\n",
        "\n",
        "if isinstance(y_train_resampled,pd.DataFrame) or isinstance(y_train_resampled,pd.Series):\n",
        "    # y_train_to_use_ohe=y_train_to_use.astype(int).values.flatten()\n",
        "    y_train_to_use_ohe=y_train_resampled.astype(int).values.flatten()\n",
        "\n",
        "else:\n",
        "    # y_train_to_use_ohe=y_train_to_use.astype(int).flatten()\n",
        "    y_train_to_use_ohe=y_train_resampled.astype(int).flatten()\n",
        "\n",
        "\n",
        "y_train_to_use=tf.keras.utils.to_categorical(y_train_to_use_ohe,num_targets)\n",
        "y_test_to_use_ohe=keras.utils.to_categorical(y_test_to_use.astype(int).values.flatten(),num_targets)\n",
        "\n",
        "model.compile(loss = \"categorical_crossentropy\", optimizer = optimizers.Adam(), metrics = ['accuracy'])\n",
        "\n",
        "\n",
        "# ### slow learning rate\n",
        "# model.compile(loss = \"categorical_crossentropy\", optimizer = optimizers.Adam(learning_rate=0.0005), metrics = ['accuracy'])\n",
        "\n",
        "\n"
      ],
      "metadata": {
        "id": "4jWdAjzQqUbY"
      },
      "execution_count": null,
      "outputs": []
    },
    {
      "cell_type": "code",
      "source": [
        "\n",
        "print(y_train_resampled.shape)\n",
        "print(y_train_resampled.astype(int).values.flatten().shape)\n",
        "print(tf.keras.utils.to_categorical(y_train_resampled.astype(int).values.flatten(),num_targets).shape)\n",
        "\n",
        "y_train_to_use_ohe.shape\n"
      ],
      "metadata": {
        "colab": {
          "base_uri": "https://localhost:8080/"
        },
        "id": "c8cQChAr943q",
        "outputId": "0aa379b0-78e2-4845-9912-91ecfc177466"
      },
      "execution_count": null,
      "outputs": [
        {
          "output_type": "stream",
          "name": "stdout",
          "text": [
            "(17736,)\n",
            "(17736,)\n",
            "(17736, 3)\n"
          ]
        },
        {
          "output_type": "execute_result",
          "data": {
            "text/plain": [
              "(17736,)"
            ]
          },
          "metadata": {},
          "execution_count": 83
        }
      ]
    },
    {
      "cell_type": "code",
      "source": [
        "# y_train_to_use.shape"
      ],
      "metadata": {
        "id": "_x7S8JUg1f-M"
      },
      "execution_count": null,
      "outputs": []
    },
    {
      "cell_type": "code",
      "source": [
        "import tensorflow.keras as keras\n",
        "# model_name='bert lstm'\n",
        "with open(f'{internship_folder_path}/{model_name}_info.txt','w') as f:\n",
        "    f.write(f'''\n",
        "[[2023-08-26]]-1613-35\n",
        "after training for 20 epochs ; 10^-4 learning rate and trainable true\n",
        "        bert according to  instructions https://tfhub.dev/tensorflow/bert_en_uncased_L-12_H-768_A-12/4\n",
        "        did enough text preprocessing as well\n",
        "        data: airline tweets\n",
        "\n",
        "\n",
        "    ''')\n",
        "    old_stdout= sys.stdout\n",
        "    sys.stdout = f\n",
        "    model.summary()\n",
        "    sys.stdout= old_stdout\n",
        "\n",
        "reduce_lr_plateau=keras.callbacks.ReduceLROnPlateau(min_lr=10**(-7),patience=15)\n",
        "csvlogger_callback=keras.callbacks.CSVLogger(\n",
        "    filename=f'{internship_folder_path}/{model_name}_CSV_epochs_stats.csv',\n",
        "    append=True\n",
        "    )\n",
        "\n",
        "keras.utils.plot_model(model, to_file=f'{internship_folder_path}/{model_name}_layers_img.png', show_shapes=True)\n",
        "\n",
        "\n"
      ],
      "metadata": {
        "id": "-BLyFXUVdye1",
        "colab": {
          "base_uri": "https://localhost:8080/",
          "height": 355
        },
        "outputId": "04e968b3-abce-46b3-a895-b497a6bcca83"
      },
      "execution_count": null,
      "outputs": [
        {
          "output_type": "execute_result",
          "data": {
            "image/png": "[encoded data removed]",
            "text/plain": [
              "<IPython.core.display.Image object>"
            ]
          },
          "metadata": {},
          "execution_count": 102
        }
      ]
    },
    {
      "cell_type": "code",
      "source": [
        "X_train_to_use_tf=tf.constant(X_train_to_use.tolist())\n",
        "### X_train_to_use=X_train_to_use_tf\n",
        "\n"
      ],
      "metadata": {
        "id": "8EBXlsXo0b6J"
      },
      "execution_count": null,
      "outputs": []
    },
    {
      "cell_type": "code",
      "source": [
        "X_test_to_use_tf=tf.constant(X_test_to_use.tolist())\n",
        "#### X_test_to_use=X_test_to_use_tf"
      ],
      "metadata": {
        "id": "H0QT3I4Xhth4"
      },
      "execution_count": null,
      "outputs": []
    },
    {
      "cell_type": "code",
      "source": [
        "X_train_to_use"
      ],
      "metadata": {
        "id": "snTiJ8NA2fDX",
        "colab": {
          "base_uri": "https://localhost:8080/"
        },
        "outputId": "4ced9fc8-88dc-490e-ebea-66d43fa4f6a8"
      },
      "execution_count": null,
      "outputs": [
        {
          "output_type": "execute_result",
          "data": {
            "text/plain": [
              "array([[\" you really should be more proactive with passengers when you know the entertainment system is n't working. at least let me get a mag\"],\n",
              "       [' we done it with 1 truck. no biggie grinningfacewithsmilingeyesemoji'],\n",
              "       [' thank you. we are finally at the gate.'],\n",
              "       ...,\n",
              "       [' flew ord to miami and back and had great crew, service on both legs. thanks'],\n",
              "       [\" i owe you an apology. my tweet was out of frustration, not constructive criticism. i 'm a sw fan love your service!\"],\n",
              "       [' in miami and the agents rachel wong and marisol pimentel were very pleasant in a world of chaos a big .thank. you.']],\n",
              "      dtype=object)"
            ]
          },
          "metadata": {},
          "execution_count": 88
        }
      ]
    },
    {
      "cell_type": "code",
      "source": [
        "# y_train_to_use = np.asarray(y_train_to_use).astype('float32')"
      ],
      "metadata": {
        "id": "Sgvx1Xmm3BWf"
      },
      "execution_count": null,
      "outputs": []
    },
    {
      "cell_type": "code",
      "source": [
        "# y_train_to_use.shape\n"
      ],
      "metadata": {
        "id": "tFLMlKxF3P1P"
      },
      "execution_count": null,
      "outputs": []
    },
    {
      "cell_type": "code",
      "source": [
        "# print(X_train_to_use.shape)\n",
        "\n",
        "# print(X_train_to_use_tf.shape)\n",
        "# y_train_resampled.shape"
      ],
      "metadata": {
        "id": "sDGOGGENremk"
      },
      "execution_count": null,
      "outputs": []
    },
    {
      "cell_type": "code",
      "source": [
        "trainable_bert_layer_bool=True\n",
        "\n",
        "model_name=f'bert lstm 2023-08-25; bert_layer_trainable={trainable_bert_layer_bool}'\n",
        "\n",
        "for layer in model.layers[1:3]:\n",
        "    print(layer.name)\n",
        "    layer.trainable=trainable_bert_layer_bool\n",
        "\n",
        "model.compile(loss = \"categorical_crossentropy\", optimizer = optimizers.Adam(learning_rate=10**(-4)), metrics = ['accuracy'])\n"
      ],
      "metadata": {
        "colab": {
          "base_uri": "https://localhost:8080/"
        },
        "id": "TfT2p1R-bnqd",
        "outputId": "9e620d05-001d-46d5-9bc8-ddea5cf1aa6e"
      },
      "execution_count": null,
      "outputs": [
        {
          "output_type": "stream",
          "name": "stdout",
          "text": [
            "keras_layer\n",
            "keras_layer_1\n"
          ]
        }
      ]
    },
    {
      "cell_type": "code",
      "source": [
        "callbacks_list=[csvlogger_callback,reduce_lr_plateau]\n",
        "history1 = model.fit(X_train_to_use_tf,\n",
        "                    y_train_to_use,\n",
        "                    epochs = 20,\n",
        "                    batch_size = 64,\n",
        "                    callbacks=callbacks_list,\n",
        "                    #  class_weight=class_weight_dict\n",
        "                    validation_data=[tf.constant(X_test_to_use),y_test_to_use_ohe]\n",
        "                    )\n",
        "\n",
        "# history1 = model.fit(dataset,\n",
        "#                     epochs = 5,\n",
        "#                     batch_size = 32,\n",
        "#                     callbacks=callbacks_list,\n",
        "#                     # validation_data=[X_test_to_use,y_test_to_use_ohe]\n",
        "                    # )"
      ],
      "metadata": {
        "id": "yf1ZhT_2dylf",
        "colab": {
          "base_uri": "https://localhost:8080/",
          "height": 690
        },
        "outputId": "d21e7d56-85ad-4afc-f332-8d003cde2068"
      },
      "execution_count": null,
      "outputs": [
        {
          "output_type": "stream",
          "name": "stdout",
          "text": [
            "Epoch 1/20\n"
          ]
        },
        {
          "output_type": "stream",
          "name": "stderr",
          "text": [
            "ERROR:absl:hub.KerasLayer is trainable but has zero trainable weights.\n"
          ]
        },
        {
          "output_type": "stream",
          "name": "stdout",
          "text": [
            "278/278 [==============================] - 639s 2s/step - loss: 0.2819 - accuracy: 0.9189 - val_loss: 0.3620 - val_accuracy: 0.9207 - lr: 1.0000e-04\n",
            "Epoch 2/20\n",
            "278/278 [==============================] - 557s 2s/step - loss: 0.1021 - accuracy: 0.9721 - val_loss: 0.3155 - val_accuracy: 0.9149 - lr: 1.0000e-04\n",
            "Epoch 3/20\n",
            "278/278 [==============================] - 558s 2s/step - loss: 0.0630 - accuracy: 0.9834 - val_loss: 0.3844 - val_accuracy: 0.9226 - lr: 1.0000e-04\n",
            "Epoch 4/20\n",
            "278/278 [==============================] - 557s 2s/step - loss: 0.0568 - accuracy: 0.9866 - val_loss: 0.6870 - val_accuracy: 0.8781 - lr: 1.0000e-04\n",
            "Epoch 5/20\n",
            "278/278 [==============================] - 557s 2s/step - loss: 0.0698 - accuracy: 0.9821 - val_loss: 0.3106 - val_accuracy: 0.9211 - lr: 1.0000e-04\n",
            "Epoch 6/20\n",
            "278/278 [==============================] - 557s 2s/step - loss: 0.0393 - accuracy: 0.9901 - val_loss: 0.5246 - val_accuracy: 0.9230 - lr: 1.0000e-04\n",
            "Epoch 7/20\n",
            "243/278 [=========================>....] - ETA: 1:05 - loss: 0.0252 - accuracy: 0.9935"
          ]
        },
        {
          "output_type": "error",
          "ename": "KeyboardInterrupt",
          "evalue": "ignored",
          "traceback": [
            "\u001b[0;31m---------------------------------------------------------------------------\u001b[0m",
            "\u001b[0;31mKeyboardInterrupt\u001b[0m                         Traceback (most recent call last)",
            "\u001b[0;32m<ipython-input-104-6dab11bbced0>\u001b[0m in \u001b[0;36m<cell line: 2>\u001b[0;34m()\u001b[0m\n\u001b[1;32m      1\u001b[0m \u001b[0mcallbacks_list\u001b[0m\u001b[0;34m=\u001b[0m\u001b[0;34m[\u001b[0m\u001b[0mcsvlogger_callback\u001b[0m\u001b[0;34m,\u001b[0m\u001b[0mreduce_lr_plateau\u001b[0m\u001b[0;34m]\u001b[0m\u001b[0;34m\u001b[0m\u001b[0;34m\u001b[0m\u001b[0m\n\u001b[0;32m----> 2\u001b[0;31m history1 = model.fit(X_train_to_use_tf,\n\u001b[0m\u001b[1;32m      3\u001b[0m                     \u001b[0my_train_to_use\u001b[0m\u001b[0;34m,\u001b[0m\u001b[0;34m\u001b[0m\u001b[0;34m\u001b[0m\u001b[0m\n\u001b[1;32m      4\u001b[0m                     \u001b[0mepochs\u001b[0m \u001b[0;34m=\u001b[0m \u001b[0;36m20\u001b[0m\u001b[0;34m,\u001b[0m\u001b[0;34m\u001b[0m\u001b[0;34m\u001b[0m\u001b[0m\n\u001b[1;32m      5\u001b[0m                     \u001b[0mbatch_size\u001b[0m \u001b[0;34m=\u001b[0m \u001b[0;36m64\u001b[0m\u001b[0;34m,\u001b[0m\u001b[0;34m\u001b[0m\u001b[0;34m\u001b[0m\u001b[0m\n",
            "\u001b[0;32m/usr/local/lib/python3.10/dist-packages/keras/src/utils/traceback_utils.py\u001b[0m in \u001b[0;36merror_handler\u001b[0;34m(*args, **kwargs)\u001b[0m\n\u001b[1;32m     63\u001b[0m         \u001b[0mfiltered_tb\u001b[0m \u001b[0;34m=\u001b[0m \u001b[0;32mNone\u001b[0m\u001b[0;34m\u001b[0m\u001b[0;34m\u001b[0m\u001b[0m\n\u001b[1;32m     64\u001b[0m         \u001b[0;32mtry\u001b[0m\u001b[0;34m:\u001b[0m\u001b[0;34m\u001b[0m\u001b[0;34m\u001b[0m\u001b[0m\n\u001b[0;32m---> 65\u001b[0;31m             \u001b[0;32mreturn\u001b[0m \u001b[0mfn\u001b[0m\u001b[0;34m(\u001b[0m\u001b[0;34m*\u001b[0m\u001b[0margs\u001b[0m\u001b[0;34m,\u001b[0m \u001b[0;34m**\u001b[0m\u001b[0mkwargs\u001b[0m\u001b[0;34m)\u001b[0m\u001b[0;34m\u001b[0m\u001b[0;34m\u001b[0m\u001b[0m\n\u001b[0m\u001b[1;32m     66\u001b[0m         \u001b[0;32mexcept\u001b[0m \u001b[0mException\u001b[0m \u001b[0;32mas\u001b[0m \u001b[0me\u001b[0m\u001b[0;34m:\u001b[0m\u001b[0;34m\u001b[0m\u001b[0;34m\u001b[0m\u001b[0m\n\u001b[1;32m     67\u001b[0m             \u001b[0mfiltered_tb\u001b[0m \u001b[0;34m=\u001b[0m \u001b[0m_process_traceback_frames\u001b[0m\u001b[0;34m(\u001b[0m\u001b[0me\u001b[0m\u001b[0;34m.\u001b[0m\u001b[0m__traceback__\u001b[0m\u001b[0;34m)\u001b[0m\u001b[0;34m\u001b[0m\u001b[0;34m\u001b[0m\u001b[0m\n",
            "\u001b[0;32m/usr/local/lib/python3.10/dist-packages/keras/src/engine/training.py\u001b[0m in \u001b[0;36mfit\u001b[0;34m(self, x, y, batch_size, epochs, verbose, callbacks, validation_split, validation_data, shuffle, class_weight, sample_weight, initial_epoch, steps_per_epoch, validation_steps, validation_batch_size, validation_freq, max_queue_size, workers, use_multiprocessing)\u001b[0m\n\u001b[1;32m   1740\u001b[0m                         ):\n\u001b[1;32m   1741\u001b[0m                             \u001b[0mcallbacks\u001b[0m\u001b[0;34m.\u001b[0m\u001b[0mon_train_batch_begin\u001b[0m\u001b[0;34m(\u001b[0m\u001b[0mstep\u001b[0m\u001b[0;34m)\u001b[0m\u001b[0;34m\u001b[0m\u001b[0;34m\u001b[0m\u001b[0m\n\u001b[0;32m-> 1742\u001b[0;31m                             \u001b[0mtmp_logs\u001b[0m \u001b[0;34m=\u001b[0m \u001b[0mself\u001b[0m\u001b[0;34m.\u001b[0m\u001b[0mtrain_function\u001b[0m\u001b[0;34m(\u001b[0m\u001b[0miterator\u001b[0m\u001b[0;34m)\u001b[0m\u001b[0;34m\u001b[0m\u001b[0;34m\u001b[0m\u001b[0m\n\u001b[0m\u001b[1;32m   1743\u001b[0m                             \u001b[0;32mif\u001b[0m \u001b[0mdata_handler\u001b[0m\u001b[0;34m.\u001b[0m\u001b[0mshould_sync\u001b[0m\u001b[0;34m:\u001b[0m\u001b[0;34m\u001b[0m\u001b[0;34m\u001b[0m\u001b[0m\n\u001b[1;32m   1744\u001b[0m                                 \u001b[0mcontext\u001b[0m\u001b[0;34m.\u001b[0m\u001b[0masync_wait\u001b[0m\u001b[0;34m(\u001b[0m\u001b[0;34m)\u001b[0m\u001b[0;34m\u001b[0m\u001b[0;34m\u001b[0m\u001b[0m\n",
            "\u001b[0;32m/usr/local/lib/python3.10/dist-packages/tensorflow/python/util/traceback_utils.py\u001b[0m in \u001b[0;36merror_handler\u001b[0;34m(*args, **kwargs)\u001b[0m\n\u001b[1;32m    148\u001b[0m     \u001b[0mfiltered_tb\u001b[0m \u001b[0;34m=\u001b[0m \u001b[0;32mNone\u001b[0m\u001b[0;34m\u001b[0m\u001b[0;34m\u001b[0m\u001b[0m\n\u001b[1;32m    149\u001b[0m     \u001b[0;32mtry\u001b[0m\u001b[0;34m:\u001b[0m\u001b[0;34m\u001b[0m\u001b[0;34m\u001b[0m\u001b[0m\n\u001b[0;32m--> 150\u001b[0;31m       \u001b[0;32mreturn\u001b[0m \u001b[0mfn\u001b[0m\u001b[0;34m(\u001b[0m\u001b[0;34m*\u001b[0m\u001b[0margs\u001b[0m\u001b[0;34m,\u001b[0m \u001b[0;34m**\u001b[0m\u001b[0mkwargs\u001b[0m\u001b[0;34m)\u001b[0m\u001b[0;34m\u001b[0m\u001b[0;34m\u001b[0m\u001b[0m\n\u001b[0m\u001b[1;32m    151\u001b[0m     \u001b[0;32mexcept\u001b[0m \u001b[0mException\u001b[0m \u001b[0;32mas\u001b[0m \u001b[0me\u001b[0m\u001b[0;34m:\u001b[0m\u001b[0;34m\u001b[0m\u001b[0;34m\u001b[0m\u001b[0m\n\u001b[1;32m    152\u001b[0m       \u001b[0mfiltered_tb\u001b[0m \u001b[0;34m=\u001b[0m \u001b[0m_process_traceback_frames\u001b[0m\u001b[0;34m(\u001b[0m\u001b[0me\u001b[0m\u001b[0;34m.\u001b[0m\u001b[0m__traceback__\u001b[0m\u001b[0;34m)\u001b[0m\u001b[0;34m\u001b[0m\u001b[0;34m\u001b[0m\u001b[0m\n",
            "\u001b[0;32m/usr/local/lib/python3.10/dist-packages/tensorflow/python/eager/polymorphic_function/polymorphic_function.py\u001b[0m in \u001b[0;36m__call__\u001b[0;34m(self, *args, **kwds)\u001b[0m\n\u001b[1;32m    823\u001b[0m \u001b[0;34m\u001b[0m\u001b[0m\n\u001b[1;32m    824\u001b[0m       \u001b[0;32mwith\u001b[0m \u001b[0mOptionalXlaContext\u001b[0m\u001b[0;34m(\u001b[0m\u001b[0mself\u001b[0m\u001b[0;34m.\u001b[0m\u001b[0m_jit_compile\u001b[0m\u001b[0;34m)\u001b[0m\u001b[0;34m:\u001b[0m\u001b[0;34m\u001b[0m\u001b[0;34m\u001b[0m\u001b[0m\n\u001b[0;32m--> 825\u001b[0;31m         \u001b[0mresult\u001b[0m \u001b[0;34m=\u001b[0m \u001b[0mself\u001b[0m\u001b[0;34m.\u001b[0m\u001b[0m_call\u001b[0m\u001b[0;34m(\u001b[0m\u001b[0;34m*\u001b[0m\u001b[0margs\u001b[0m\u001b[0;34m,\u001b[0m \u001b[0;34m**\u001b[0m\u001b[0mkwds\u001b[0m\u001b[0;34m)\u001b[0m\u001b[0;34m\u001b[0m\u001b[0;34m\u001b[0m\u001b[0m\n\u001b[0m\u001b[1;32m    826\u001b[0m \u001b[0;34m\u001b[0m\u001b[0m\n\u001b[1;32m    827\u001b[0m       \u001b[0mnew_tracing_count\u001b[0m \u001b[0;34m=\u001b[0m \u001b[0mself\u001b[0m\u001b[0;34m.\u001b[0m\u001b[0mexperimental_get_tracing_count\u001b[0m\u001b[0;34m(\u001b[0m\u001b[0;34m)\u001b[0m\u001b[0;34m\u001b[0m\u001b[0;34m\u001b[0m\u001b[0m\n",
            "\u001b[0;32m/usr/local/lib/python3.10/dist-packages/tensorflow/python/eager/polymorphic_function/polymorphic_function.py\u001b[0m in \u001b[0;36m_call\u001b[0;34m(self, *args, **kwds)\u001b[0m\n\u001b[1;32m    855\u001b[0m       \u001b[0;31m# In this case we have created variables on the first call, so we run the\u001b[0m\u001b[0;34m\u001b[0m\u001b[0;34m\u001b[0m\u001b[0m\n\u001b[1;32m    856\u001b[0m       \u001b[0;31m# defunned version which is guaranteed to never create variables.\u001b[0m\u001b[0;34m\u001b[0m\u001b[0;34m\u001b[0m\u001b[0m\n\u001b[0;32m--> 857\u001b[0;31m       \u001b[0;32mreturn\u001b[0m \u001b[0mself\u001b[0m\u001b[0;34m.\u001b[0m\u001b[0m_no_variable_creation_fn\u001b[0m\u001b[0;34m(\u001b[0m\u001b[0;34m*\u001b[0m\u001b[0margs\u001b[0m\u001b[0;34m,\u001b[0m \u001b[0;34m**\u001b[0m\u001b[0mkwds\u001b[0m\u001b[0;34m)\u001b[0m  \u001b[0;31m# pylint: disable=not-callable\u001b[0m\u001b[0;34m\u001b[0m\u001b[0;34m\u001b[0m\u001b[0m\n\u001b[0m\u001b[1;32m    858\u001b[0m     \u001b[0;32melif\u001b[0m \u001b[0mself\u001b[0m\u001b[0;34m.\u001b[0m\u001b[0m_variable_creation_fn\u001b[0m \u001b[0;32mis\u001b[0m \u001b[0;32mnot\u001b[0m \u001b[0;32mNone\u001b[0m\u001b[0;34m:\u001b[0m\u001b[0;34m\u001b[0m\u001b[0;34m\u001b[0m\u001b[0m\n\u001b[1;32m    859\u001b[0m       \u001b[0;31m# Release the lock early so that multiple threads can perform the call\u001b[0m\u001b[0;34m\u001b[0m\u001b[0;34m\u001b[0m\u001b[0m\n",
            "\u001b[0;32m/usr/local/lib/python3.10/dist-packages/tensorflow/python/eager/polymorphic_function/tracing_compiler.py\u001b[0m in \u001b[0;36m__call__\u001b[0;34m(self, *args, **kwargs)\u001b[0m\n\u001b[1;32m    146\u001b[0m       (concrete_function,\n\u001b[1;32m    147\u001b[0m        filtered_flat_args) = self._maybe_define_function(args, kwargs)\n\u001b[0;32m--> 148\u001b[0;31m     return concrete_function._call_flat(\n\u001b[0m\u001b[1;32m    149\u001b[0m         filtered_flat_args, captured_inputs=concrete_function.captured_inputs)  # pylint: disable=protected-access\n\u001b[1;32m    150\u001b[0m \u001b[0;34m\u001b[0m\u001b[0m\n",
            "\u001b[0;32m/usr/local/lib/python3.10/dist-packages/tensorflow/python/eager/polymorphic_function/monomorphic_function.py\u001b[0m in \u001b[0;36m_call_flat\u001b[0;34m(self, args, captured_inputs)\u001b[0m\n\u001b[1;32m   1347\u001b[0m         and executing_eagerly):\n\u001b[1;32m   1348\u001b[0m       \u001b[0;31m# No tape is watching; skip to running the function.\u001b[0m\u001b[0;34m\u001b[0m\u001b[0;34m\u001b[0m\u001b[0m\n\u001b[0;32m-> 1349\u001b[0;31m       \u001b[0;32mreturn\u001b[0m \u001b[0mself\u001b[0m\u001b[0;34m.\u001b[0m\u001b[0m_build_call_outputs\u001b[0m\u001b[0;34m(\u001b[0m\u001b[0mself\u001b[0m\u001b[0;34m.\u001b[0m\u001b[0m_inference_function\u001b[0m\u001b[0;34m(\u001b[0m\u001b[0;34m*\u001b[0m\u001b[0margs\u001b[0m\u001b[0;34m)\u001b[0m\u001b[0;34m)\u001b[0m\u001b[0;34m\u001b[0m\u001b[0;34m\u001b[0m\u001b[0m\n\u001b[0m\u001b[1;32m   1350\u001b[0m     forward_backward = self._select_forward_and_backward_functions(\n\u001b[1;32m   1351\u001b[0m         \u001b[0margs\u001b[0m\u001b[0;34m,\u001b[0m\u001b[0;34m\u001b[0m\u001b[0;34m\u001b[0m\u001b[0m\n",
            "\u001b[0;32m/usr/local/lib/python3.10/dist-packages/tensorflow/python/eager/polymorphic_function/atomic_function.py\u001b[0m in \u001b[0;36m__call__\u001b[0;34m(self, *args)\u001b[0m\n\u001b[1;32m    194\u001b[0m         \u001b[0;32mwith\u001b[0m \u001b[0mrecord\u001b[0m\u001b[0;34m.\u001b[0m\u001b[0mstop_recording\u001b[0m\u001b[0;34m(\u001b[0m\u001b[0;34m)\u001b[0m\u001b[0;34m:\u001b[0m\u001b[0;34m\u001b[0m\u001b[0;34m\u001b[0m\u001b[0m\n\u001b[1;32m    195\u001b[0m           \u001b[0;32mif\u001b[0m \u001b[0mself\u001b[0m\u001b[0;34m.\u001b[0m\u001b[0m_bound_context\u001b[0m\u001b[0;34m.\u001b[0m\u001b[0mexecuting_eagerly\u001b[0m\u001b[0;34m(\u001b[0m\u001b[0;34m)\u001b[0m\u001b[0;34m:\u001b[0m\u001b[0;34m\u001b[0m\u001b[0;34m\u001b[0m\u001b[0m\n\u001b[0;32m--> 196\u001b[0;31m             outputs = self._bound_context.call_function(\n\u001b[0m\u001b[1;32m    197\u001b[0m                 \u001b[0mself\u001b[0m\u001b[0;34m.\u001b[0m\u001b[0mname\u001b[0m\u001b[0;34m,\u001b[0m\u001b[0;34m\u001b[0m\u001b[0;34m\u001b[0m\u001b[0m\n\u001b[1;32m    198\u001b[0m                 \u001b[0mlist\u001b[0m\u001b[0;34m(\u001b[0m\u001b[0margs\u001b[0m\u001b[0;34m)\u001b[0m\u001b[0;34m,\u001b[0m\u001b[0;34m\u001b[0m\u001b[0;34m\u001b[0m\u001b[0m\n",
            "\u001b[0;32m/usr/local/lib/python3.10/dist-packages/tensorflow/python/eager/context.py\u001b[0m in \u001b[0;36mcall_function\u001b[0;34m(self, name, tensor_inputs, num_outputs)\u001b[0m\n\u001b[1;32m   1455\u001b[0m     \u001b[0mcancellation_context\u001b[0m \u001b[0;34m=\u001b[0m \u001b[0mcancellation\u001b[0m\u001b[0;34m.\u001b[0m\u001b[0mcontext\u001b[0m\u001b[0;34m(\u001b[0m\u001b[0;34m)\u001b[0m\u001b[0;34m\u001b[0m\u001b[0;34m\u001b[0m\u001b[0m\n\u001b[1;32m   1456\u001b[0m     \u001b[0;32mif\u001b[0m \u001b[0mcancellation_context\u001b[0m \u001b[0;32mis\u001b[0m \u001b[0;32mNone\u001b[0m\u001b[0;34m:\u001b[0m\u001b[0;34m\u001b[0m\u001b[0;34m\u001b[0m\u001b[0m\n\u001b[0;32m-> 1457\u001b[0;31m       outputs = execute.execute(\n\u001b[0m\u001b[1;32m   1458\u001b[0m           \u001b[0mname\u001b[0m\u001b[0;34m.\u001b[0m\u001b[0mdecode\u001b[0m\u001b[0;34m(\u001b[0m\u001b[0;34m\"utf-8\"\u001b[0m\u001b[0;34m)\u001b[0m\u001b[0;34m,\u001b[0m\u001b[0;34m\u001b[0m\u001b[0;34m\u001b[0m\u001b[0m\n\u001b[1;32m   1459\u001b[0m           \u001b[0mnum_outputs\u001b[0m\u001b[0;34m=\u001b[0m\u001b[0mnum_outputs\u001b[0m\u001b[0;34m,\u001b[0m\u001b[0;34m\u001b[0m\u001b[0;34m\u001b[0m\u001b[0m\n",
            "\u001b[0;32m/usr/local/lib/python3.10/dist-packages/tensorflow/python/eager/execute.py\u001b[0m in \u001b[0;36mquick_execute\u001b[0;34m(op_name, num_outputs, inputs, attrs, ctx, name)\u001b[0m\n\u001b[1;32m     51\u001b[0m   \u001b[0;32mtry\u001b[0m\u001b[0;34m:\u001b[0m\u001b[0;34m\u001b[0m\u001b[0;34m\u001b[0m\u001b[0m\n\u001b[1;32m     52\u001b[0m     \u001b[0mctx\u001b[0m\u001b[0;34m.\u001b[0m\u001b[0mensure_initialized\u001b[0m\u001b[0;34m(\u001b[0m\u001b[0;34m)\u001b[0m\u001b[0;34m\u001b[0m\u001b[0;34m\u001b[0m\u001b[0m\n\u001b[0;32m---> 53\u001b[0;31m     tensors = pywrap_tfe.TFE_Py_Execute(ctx._handle, device_name, op_name,\n\u001b[0m\u001b[1;32m     54\u001b[0m                                         inputs, attrs, num_outputs)\n\u001b[1;32m     55\u001b[0m   \u001b[0;32mexcept\u001b[0m \u001b[0mcore\u001b[0m\u001b[0;34m.\u001b[0m\u001b[0m_NotOkStatusException\u001b[0m \u001b[0;32mas\u001b[0m \u001b[0me\u001b[0m\u001b[0;34m:\u001b[0m\u001b[0;34m\u001b[0m\u001b[0;34m\u001b[0m\u001b[0m\n",
            "\u001b[0;31mKeyboardInterrupt\u001b[0m: "
          ]
        }
      ]
    },
    {
      "cell_type": "markdown",
      "source": [],
      "metadata": {
        "id": "PWywJMLTY1EC"
      }
    },
    {
      "cell_type": "code",
      "source": [
        "# loss, accuracy=model.evaluate(tf.constant(X_test_to_use),y_test_to_use_ohe)"
      ],
      "metadata": {
        "id": "eh0JfnIOzKL6",
        "colab": {
          "base_uri": "https://localhost:8080/"
        },
        "outputId": "079b1105-33cd-45cf-bbb7-30794fdbbcea"
      },
      "execution_count": null,
      "outputs": [
        {
          "output_type": "stream",
          "name": "stdout",
          "text": [
            "66/66 [==============================] - 25s 376ms/step - loss: 0.7664 - accuracy: 0.9183\n"
          ]
        }
      ]
    },
    {
      "cell_type": "code",
      "source": [
        "y_pred=model.predict(tf.constant(X_test_to_use))"
      ],
      "metadata": {
        "id": "LKf4_ng_p2Dh",
        "colab": {
          "base_uri": "https://localhost:8080/"
        },
        "outputId": "e24c73b4-2d33-43f9-afa9-0a355185122b"
      },
      "execution_count": null,
      "outputs": [
        {
          "output_type": "stream",
          "name": "stdout",
          "text": [
            "66/66 [==============================] - 25s 359ms/step\n"
          ]
        }
      ]
    },
    {
      "cell_type": "code",
      "source": [
        "print(y_pred.shape)\n",
        "### convert the ohe target cols to without ohencoding ## see https://stackoverflow.com/questions/38334296/reversing-one-hot-encoding-in-pandas\n",
        "y_pred_nonohe=pd.DataFrame(y_pred).idxmax(axis=1)\n",
        "y_test_nonohe=pd.DataFrame(y_test_to_use_ohe).idxmax(axis=1)"
      ],
      "metadata": {
        "id": "7oHRuv7WqFe2",
        "colab": {
          "base_uri": "https://localhost:8080/"
        },
        "outputId": "b1887c3b-d321-4c4e-af59-030757e0c654"
      },
      "execution_count": null,
      "outputs": [
        {
          "output_type": "stream",
          "name": "stdout",
          "text": [
            "(2092, 3)\n"
          ]
        }
      ]
    },
    {
      "cell_type": "code",
      "source": [
        "from datetime import datetime\n",
        "import pickle\n",
        "result_dict.update({f'{model_name}':get_conf_fscore(y_test_nonohe,y_pred_nonohe)})\n",
        "\n",
        "dbfile = open(f'{internship_folder_path}/result_dict_{datetime.today().strftime(\"%Y-%m-%d\")}.pkl', 'wb')\n",
        "\n",
        "pickle.dump(result_dict, dbfile)\n",
        "dbfile.close()\n"
      ],
      "metadata": {
        "id": "jvTVp4qudyrN",
        "colab": {
          "base_uri": "https://localhost:8080/",
          "height": 799
        },
        "outputId": "6699b892-1824-47b9-b860-5fc4f9446f0c"
      },
      "execution_count": null,
      "outputs": [
        {
          "output_type": "stream",
          "name": "stderr",
          "text": [
            "/usr/local/lib/python3.10/dist-packages/ipykernel/ipkernel.py:283: DeprecationWarning: `should_run_async` will not call `transform_cell` automatically in the future. Please pass the result to `transformed_cell` argument and any exception that happen during thetransform in `preprocessing_exc_tuple` in IPython 7.17 and above.\n",
            "  and should_run_async(code)\n"
          ]
        },
        {
          "output_type": "display_data",
          "data": {
            "text/plain": [
              "<Figure size 640x480 with 2 Axes>"
            ],
            "image/png": "[encoded data removed]"
          },
          "metadata": {}
        },
        {
          "output_type": "stream",
          "name": "stdout",
          "text": [
            "accuracy is  0.9259082217973231 \n",
            "\n",
            "recall for class 1 is  0.8725329890837674 \n",
            "\n",
            "precision for class 1 is  0.8905793773986334 \n",
            "\n",
            "recall for class 0 is  0.8725329890837674 \n",
            "\n",
            "precision for class 0 is  0.8905793773986334 \n",
            "\n",
            "f_score is for class 1 0.8814638260728763 \n",
            "\n"
          ]
        },
        {
          "output_type": "stream",
          "name": "stderr",
          "text": [
            "/usr/local/lib/python3.10/dist-packages/sklearn/metrics/_classification.py:1396: UserWarning: Note that pos_label (set to 0) is ignored when average != 'binary' (got 'macro'). You may use labels=[pos_label] to specify a single positive class.\n",
            "  warnings.warn(\n",
            "/usr/local/lib/python3.10/dist-packages/sklearn/metrics/_classification.py:1396: UserWarning: Note that pos_label (set to 0) is ignored when average != 'binary' (got 'macro'). You may use labels=[pos_label] to specify a single positive class.\n",
            "  warnings.warn(\n"
          ]
        },
        {
          "output_type": "display_data",
          "data": {
            "text/plain": [
              "<Figure size 640x480 with 0 Axes>"
            ]
          },
          "metadata": {}
        }
      ]
    },
    {
      "cell_type": "code",
      "source": [
        "path_var='/content/drive/MyDrive/ml-ai files arjun/tcs_internship/result_dict_2023-08-26 11:50:19.720599.pkl'\n",
        "dbfile = open(path_var, 'rb')\n",
        "\n",
        "result_dict_temp=pickle.load( dbfile)\n",
        "dbfile.close()\n",
        "result_dict_pand=pd.DataFrame(result_dict_temp)\n",
        "result_dict_pand.to_csv(path_var)\n",
        "result_dict_pand"
      ],
      "metadata": {
        "colab": {
          "base_uri": "https://localhost:8080/",
          "height": 246
        },
        "id": "bY5wYHDvvMI-",
        "outputId": "b879d975-a15c-4af3-a2ab-66e2c28d995f"
      },
      "execution_count": 112,
      "outputs": [
        {
          "output_type": "error",
          "ename": "UnpicklingError",
          "evalue": "ignored",
          "traceback": [
            "\u001b[0;31m---------------------------------------------------------------------------\u001b[0m",
            "\u001b[0;31mUnpicklingError\u001b[0m                           Traceback (most recent call last)",
            "\u001b[0;32m<ipython-input-112-fa06bae3b8f0>\u001b[0m in \u001b[0;36m<cell line: 4>\u001b[0;34m()\u001b[0m\n\u001b[1;32m      2\u001b[0m \u001b[0mdbfile\u001b[0m \u001b[0;34m=\u001b[0m \u001b[0mopen\u001b[0m\u001b[0;34m(\u001b[0m\u001b[0mpath_var\u001b[0m\u001b[0;34m,\u001b[0m \u001b[0;34m'rb'\u001b[0m\u001b[0;34m)\u001b[0m\u001b[0;34m\u001b[0m\u001b[0;34m\u001b[0m\u001b[0m\n\u001b[1;32m      3\u001b[0m \u001b[0;34m\u001b[0m\u001b[0m\n\u001b[0;32m----> 4\u001b[0;31m \u001b[0mresult_dict_temp\u001b[0m\u001b[0;34m=\u001b[0m\u001b[0mpickle\u001b[0m\u001b[0;34m.\u001b[0m\u001b[0mload\u001b[0m\u001b[0;34m(\u001b[0m \u001b[0mdbfile\u001b[0m\u001b[0;34m)\u001b[0m\u001b[0;34m\u001b[0m\u001b[0;34m\u001b[0m\u001b[0m\n\u001b[0m\u001b[1;32m      5\u001b[0m \u001b[0mdbfile\u001b[0m\u001b[0;34m.\u001b[0m\u001b[0mclose\u001b[0m\u001b[0;34m(\u001b[0m\u001b[0;34m)\u001b[0m\u001b[0;34m\u001b[0m\u001b[0;34m\u001b[0m\u001b[0m\n\u001b[1;32m      6\u001b[0m \u001b[0mresult_dict_pand\u001b[0m\u001b[0;34m=\u001b[0m\u001b[0mpd\u001b[0m\u001b[0;34m.\u001b[0m\u001b[0mDataFrame\u001b[0m\u001b[0;34m(\u001b[0m\u001b[0mresult_dict_temp\u001b[0m\u001b[0;34m)\u001b[0m\u001b[0;34m\u001b[0m\u001b[0;34m\u001b[0m\u001b[0m\n",
            "\u001b[0;31mUnpicklingError\u001b[0m: invalid load key, ','."
          ]
        }
      ]
    },
    {
      "cell_type": "code",
      "source": [
        "path_var='/content/drive/MyDrive/ml-ai files arjun/tcs_internship/result_dict_2023-08-25 12:36:33.927940.csv'\n",
        "pd.read_csv(path_var).transpose()"
      ],
      "metadata": {
        "colab": {
          "base_uri": "https://localhost:8080/",
          "height": 112
        },
        "id": "sExa5QBkxZGC",
        "outputId": "b6c9cd0f-616e-470a-d513-971eb459d10e"
      },
      "execution_count": 118,
      "outputs": [
        {
          "output_type": "execute_result",
          "data": {
            "text/plain": [
              "                                                      0         1  \\\n",
              "Unnamed: 0                                     accuracy  fscore_1   \n",
              "bert multi dense; bert_layer_trainable- False  0.817878  0.765169   \n",
              "\n",
              "                                                         2         3  \n",
              "Unnamed: 0                                     precision_1  recall_1  \n",
              "bert multi dense; bert_layer_trainable- False     0.721984  0.813849  "
            ],
            "text/html": [
              "\n",
              "  <div id=\"df-21ed643c-1f83-4661-b6b7-00d867795d7a\" class=\"colab-df-container\">\n",
              "    <div>\n",
              "<style scoped>\n",
              "    .dataframe tbody tr th:only-of-type {\n",
              "        vertical-align: middle;\n",
              "    }\n",
              "\n",
              "    .dataframe tbody tr th {\n",
              "        vertical-align: top;\n",
              "    }\n",
              "\n",
              "    .dataframe thead th {\n",
              "        text-align: right;\n",
              "    }\n",
              "</style>\n",
              "<table border=\"1\" class=\"dataframe\">\n",
              "  <thead>\n",
              "    <tr style=\"text-align: right;\">\n",
              "      <th></th>\n",
              "      <th>0</th>\n",
              "      <th>1</th>\n",
              "      <th>2</th>\n",
              "      <th>3</th>\n",
              "    </tr>\n",
              "  </thead>\n",
              "  <tbody>\n",
              "    <tr>\n",
              "      <th>Unnamed: 0</th>\n",
              "      <td>accuracy</td>\n",
              "      <td>fscore_1</td>\n",
              "      <td>precision_1</td>\n",
              "      <td>recall_1</td>\n",
              "    </tr>\n",
              "    <tr>\n",
              "      <th>bert multi dense; bert_layer_trainable- False</th>\n",
              "      <td>0.817878</td>\n",
              "      <td>0.765169</td>\n",
              "      <td>0.721984</td>\n",
              "      <td>0.813849</td>\n",
              "    </tr>\n",
              "  </tbody>\n",
              "</table>\n",
              "</div>\n",
              "    <div class=\"colab-df-buttons\">\n",
              "\n",
              "  <div class=\"colab-df-container\">\n",
              "    <button class=\"colab-df-convert\" onclick=\"convertToInteractive('df-21ed643c-1f83-4661-b6b7-00d867795d7a')\"\n",
              "            title=\"Convert this dataframe to an interactive table.\"\n",
              "            style=\"display:none;\">\n",
              "\n",
              "  <svg xmlns=\"http://www.w3.org/2000/svg\" height=\"24px\" viewBox=\"0 -960 960 960\">\n",
              "    <path d=\"M120-120v-720h720v720H120Zm60-500h600v-160H180v160Zm220 220h160v-160H400v160Zm0 220h160v-160H400v160ZM180-400h160v-160H180v160Zm440 0h160v-160H620v160ZM180-180h160v-160H180v160Zm440 0h160v-160H620v160Z\"/>\n",
              "  </svg>\n",
              "    </button>\n",
              "\n",
              "  <style>\n",
              "    .colab-df-container {\n",
              "      display:flex;\n",
              "      gap: 12px;\n",
              "    }\n",
              "\n",
              "    .colab-df-convert {\n",
              "      background-color: #E8F0FE;\n",
              "      border: none;\n",
              "      border-radius: 50%;\n",
              "      cursor: pointer;\n",
              "      display: none;\n",
              "      fill: #1967D2;\n",
              "      height: 32px;\n",
              "      padding: 0 0 0 0;\n",
              "      width: 32px;\n",
              "    }\n",
              "\n",
              "    .colab-df-convert:hover {\n",
              "      background-color: #E2EBFA;\n",
              "      box-shadow: 0px 1px 2px rgba(60, 64, 67, 0.3), 0px 1px 3px 1px rgba(60, 64, 67, 0.15);\n",
              "      fill: #174EA6;\n",
              "    }\n",
              "\n",
              "    .colab-df-buttons div {\n",
              "      margin-bottom: 4px;\n",
              "    }\n",
              "\n",
              "    [theme=dark] .colab-df-convert {\n",
              "      background-color: #3B4455;\n",
              "      fill: #D2E3FC;\n",
              "    }\n",
              "\n",
              "    [theme=dark] .colab-df-convert:hover {\n",
              "      background-color: #434B5C;\n",
              "      box-shadow: 0px 1px 3px 1px rgba(0, 0, 0, 0.15);\n",
              "      filter: drop-shadow(0px 1px 2px rgba(0, 0, 0, 0.3));\n",
              "      fill: #FFFFFF;\n",
              "    }\n",
              "  </style>\n",
              "\n",
              "    <script>\n",
              "      const buttonEl =\n",
              "        document.querySelector('#df-21ed643c-1f83-4661-b6b7-00d867795d7a button.colab-df-convert');\n",
              "      buttonEl.style.display =\n",
              "        google.colab.kernel.accessAllowed ? 'block' : 'none';\n",
              "\n",
              "      async function convertToInteractive(key) {\n",
              "        const element = document.querySelector('#df-21ed643c-1f83-4661-b6b7-00d867795d7a');\n",
              "        const dataTable =\n",
              "          await google.colab.kernel.invokeFunction('convertToInteractive',\n",
              "                                                    [key], {});\n",
              "        if (!dataTable) return;\n",
              "\n",
              "        const docLinkHtml = 'Like what you see? Visit the ' +\n",
              "          '<a target=\"_blank\" href=https://colab.research.google.com/notebooks/data_table.ipynb>data table notebook</a>'\n",
              "          + ' to learn more about interactive tables.';\n",
              "        element.innerHTML = '';\n",
              "        dataTable['output_type'] = 'display_data';\n",
              "        await google.colab.output.renderOutput(dataTable, element);\n",
              "        const docLink = document.createElement('div');\n",
              "        docLink.innerHTML = docLinkHtml;\n",
              "        element.appendChild(docLink);\n",
              "      }\n",
              "    </script>\n",
              "  </div>\n",
              "\n",
              "    </div>\n",
              "  </div>\n"
            ]
          },
          "metadata": {},
          "execution_count": 118
        }
      ]
    },
    {
      "cell_type": "markdown",
      "source": [
        "### basic ML models"
      ],
      "metadata": {
        "id": "990VXOQhVgco"
      }
    },
    {
      "cell_type": "code",
      "execution_count": null,
      "metadata": {
        "id": "nHffagy4Dgwe"
      },
      "outputs": [],
      "source": [
        "from sklearn.metrics import accuracy_score\n",
        "from sklearn.tree import DecisionTreeClassifier\n",
        "from sklearn.linear_model import LogisticRegression\n",
        "from sklearn.naive_bayes import GaussianNB\n",
        "from xgboost import XGBClassifier\n",
        "from sklearn.ensemble import RandomForestClassifier , AdaBoostClassifier\n",
        "from sklearn.svm import SVC\n",
        "from sklearn.linear_model import SGDClassifier\n",
        "from sklearn.naive_bayes import MultinomialNB\n",
        "from sklearn import metrics\n",
        "from matplotlib import pyplot as plt\n",
        "\n",
        "result_dict={}"
      ]
    },
    {
      "cell_type": "code",
      "execution_count": null,
      "metadata": {
        "id": "hrPDxFEPzl3p",
        "colab": {
          "base_uri": "https://localhost:8080/"
        },
        "outputId": "95ce6c20-5940-4958-faac-fbc04c6670f6"
      },
      "outputs": [
        {
          "output_type": "stream",
          "name": "stderr",
          "text": [
            "[nltk_data] Downloading package words to /root/nltk_data...\n",
            "[nltk_data]   Package words is already up-to-date!\n",
            "<ipython-input-33-c5a585f97204>:62: MarkupResemblesLocatorWarning: The input looks more like a filename than markup. You may want to open this file and pass the filehandle into Beautiful Soup.\n",
            "  soup = BeautifulSoup(text, \"html.parser\")\n",
            "/usr/local/lib/python3.10/dist-packages/textblob/_text.py:1331: ResourceWarning: unclosed file <_io.TextIOWrapper name='/usr/local/lib/python3.10/dist-packages/textblob/en/en-spelling.txt' mode='r' encoding='utf-8'>\n",
            "  for x in _read(self._path):\n",
            "ResourceWarning: Enable tracemalloc to get the object allocation traceback\n",
            "[nltk_data] Downloading package words to /root/nltk_data...\n",
            "[nltk_data]   Package words is already up-to-date!\n"
          ]
        },
        {
          "output_type": "stream",
          "name": "stdout",
          "text": [
            "X_train \n",
            " |       | text                                                                                                                                              |\n",
            "|------:|:--------------------------------------------------------------------------------------------------------------------------------------------------|\n",
            "|  6983 | @JetBlue you really should be more proactive with passengers when you know the entertainment system isn't working. At least let me get a mag      |\n",
            "| 11969 | @AmericanAir @Clarkey_19 we done it with 1 truck... No biggie 😄                                                                                  |\n",
            "|  7524 | @JetBlue thank you. We are finally at the gate.                                                                                                   |\n",
            "| 14342 | @AmericanAir u Cancelled Flightled my flight for tomorrow and tell me to call reservations but then refuse to take my call!!!  #not cool #hateful |\n",
            "|   987 | @united Asked Flight attendant what typical compensation would be &amp; says we might get free TV. #Unacceptable                                  |\n",
            "X_train_basic_prepro \n",
            " |       | text                                                                                              |\n",
            "|------:|:--------------------------------------------------------------------------------------------------|\n",
            "|  6983 | really more proactive passenger when know entertainment system not working least let get mag      |\n",
            "| 11969 | done 1 truck biggie grinningfacewithsmilingeyesemoji                                              |\n",
            "|  7524 | thank finally gate                                                                                |\n",
            "| 14342 | cancelled flightled flight tomorrow tell call reservation but refuse take call ! not cool hateful |\n",
            "|   987 | asked flight attendant what typical compensation would say might get free tv unacceptable         |\n"
          ]
        }
      ],
      "source": [
        "\n",
        "\n",
        "\n",
        "\n",
        "# count=0\n",
        "y_train=pd.DataFrame(y_train).astype('category')\n",
        "y_test=pd.DataFrame(y_test).astype('category')\n",
        "\n",
        "## do the common text preprocessing\n",
        "\n",
        "X_train_basic_prepro=TextPreprocessor().fit_transform(X_train)\n",
        "X_test_basic_prepro=TextPreprocessor().fit_transform(X_test)\n",
        "\n",
        "print('X_train \\n',X_train.head().to_markdown())\n",
        "print('X_train_basic_prepro \\n',X_train_basic_prepro.head().to_markdown())\n"
      ]
    },
    {
      "cell_type": "code",
      "source": [
        "### oversampler pipeline transformer\n",
        "##  imblearn\n",
        "# from imblearn.pipeline import Pipeline\n",
        "import imblearn\n",
        "from imblearn.over_sampling import SMOTENC, RandomOverSampler\n",
        "# over= RandomOverSampler(random_state=1)\n",
        "# X_train_resampled, y_train_resampled= over.fit_resample(X_train_to_use,y_train.astype('category'))\n",
        "# X_train_to_use=X_train_resampled\n",
        "# y_train_to_use=y_train_resampled\n",
        "\n",
        "oversample_log_regre_pipe= imblearn.pipeline.Pipeline([('oversampler',RandomOverSampler(random_state=1)),('algo_inst',LogisticRegression())])\n"
      ],
      "metadata": {
        "id": "yC37thT_GBVS"
      },
      "execution_count": null,
      "outputs": []
    },
    {
      "cell_type": "code",
      "source": [],
      "metadata": {
        "id": "maM1O3LWolLN"
      },
      "execution_count": null,
      "outputs": []
    },
    {
      "cell_type": "code",
      "source": [
        "\n",
        "\n",
        "# pipelines=[tfidf_pipeline,bow_pipeline,google_pipeline,cbow_custom_w2v_pipeline,skgram_w2v_pipeline]\n",
        "# pipeline_names=['tfidf_pipeline','bow_pipeline','google_pipeline','cbow_custom_w2v_pipeline','skgram_w2v_pipeline']\n",
        "\n",
        "pipelines=[google_pipeline,skgram_w2v_pipeline,bow_pipeline,tfidf_pipeline,cbow_custom_w2v_pipeline] ## testing\n",
        "pipeline_names=['google_pipeline','skgram_w2v_pipeline','bow_pipeline','tfidf_pipeline','cbow_custom_w2v_pipeline']\n",
        "\n",
        "\n",
        "# pipelines=[cbow_custom_w2v_pipeline,tfidf_pipeline] ## testing\n",
        "# pipeline_names=['cbow_custom_w2v_pipeline','tfidf_pipeline']\n",
        "\n",
        "# pipelines=[bow_pipeline] ## testing\n",
        "# pipeline_names=['bow_pipeline']\n",
        "# pipelines=[tfidf_pipeline,google_pipeline] ## testing\n",
        "# pipeline_names=['tfidf_pipeline','google_pipeline']\n",
        "\n",
        "\n",
        "# pipelines=[tfidf_pipeline,bow_pipeline,skgram_w2v_pipeline,google_pipeline] ## testing\n",
        "# pipeline_names=['tfidf_pipeline','bow_pipeline','skgram_w2v_pipeline','google_pipeline']\n",
        "\n",
        "# pipelines=[google_pipeline,tfidf_pipeline] ## testing\n",
        "# pipeline_names=['google_pipeline','tfidf_pipeline']\n",
        "\n",
        "for count,pipe in enumerate(pipelines):\n",
        "    pipe_name=pipeline_names[count]\n",
        "\n",
        "    X_train_transformed=pipe.fit_transform(X_train_basic_prepro)\n",
        "    try:\n",
        "        dropped_nan_index_train=pipe.named_steps['main'].nan_index.tolist()\n",
        "        # X_train_transformed=X_train_transformed.drop(dropped_nan_index_train,axis=0)\n",
        "        y_train_nan_dropped=y_train.drop(dropped_nan_index_train,axis=0)\n",
        "    except Exception:\n",
        "        y_train_nan_dropped=y_train\n",
        "\n",
        "    X_test_transformed=pipe.transform(X_test_basic_prepro)\n",
        "\n",
        "    try:\n",
        "        dropped_nan_index_test=pipe.named_steps['main'].nan_index.tolist()\n",
        "        y_test_nan_dropped=y_test.drop(dropped_nan_index_test,axis=0)\n",
        "    except Exception:\n",
        "        y_test_nan_dropped=y_test\n",
        "\n",
        "    print(pipe_name)\n",
        "\n",
        "    X_train_to_use=X_train_transformed\n",
        "    X_test_to_use=X_test_transformed\n",
        "    y_train_to_use=y_train_nan_dropped\n",
        "    y_test_to_use=y_test_nan_dropped\n",
        "\n",
        "    gaussiannb_inst=Pipeline([('sparsetodense',SparseToDenseArr()),('gaussiannb',GaussianNB())])\n",
        "    gaussiannb_inst.instance_name='GaussianNB'\n",
        "\n",
        "    multinomialnb_inst=Pipeline([('sparsetodense',SparseToDenseArr()),('gaussiannb',MultinomialNB())])\n",
        "    multinomialnb_inst.instance_name='MultinomialNB'\n",
        "\n",
        "\n",
        "    # type(pipe[\"main\"]).__name__\n",
        "    # algo_insts=[GaussianNB(),DecisionTreeClassifier(),LogisticRegression()] ##\n",
        "    # algo_insts=[XGBClassifier(),AdaBoostClassifier(),LogisticRegression()] ##\n",
        "    # algo_insts=[gaussiannb_inst,SVC(kernel='rbf'),RandomForestClassifier(class_weight=class_weight_dict)] ##\n",
        "\n",
        "    # algo_insts=[multinomialnb_inst,RandomForestClassifier(class_weight=class_weight_dict),gaussiannb_inst,LogisticRegression()] ##\n",
        "    algo_insts=[oversample_log_regre_pipe]\n",
        "\n",
        "\n",
        "\n",
        "\n",
        "\n",
        "\n",
        "    ### with confusion matrix\n",
        "    for algo_inst in algo_insts:\n",
        "\n",
        "        # if ((type(algo_inst).__name__ == 'MultinomialNB') or (algo_inst.instance_name == 'multinomialnb_inst')) and ((pipe_name != 'tfidf_pipeline') or (pipe_name != 'bow_pipeline')):\n",
        "        try:\n",
        "            # algo_inst.instance_name\n",
        "            # ismultnb_bool = ((algo_inst.instance_name == 'MultinomialNB') )\n",
        "            inst_name=algo_inst.instance_name\n",
        "        except AttributeError:\n",
        "            inst_name= type(algo_inst).__name__\n",
        "            # ismultnb_bool=False\n",
        "\n",
        "        if (inst_name == 'MultinomialNB'  ) and ((pipe_name != 'tfidf_pipeline') or (pipe_name != 'bow_pipeline')):\n",
        "            print(type(algo_inst).__name__ , 'here ')\n",
        "            print(pipe_name , 'here ')\n",
        "\n",
        "            continue\n",
        "\n",
        "        y_train_to_use=pd.DataFrame(y_train_to_use)\n",
        "        y_train_to_use=y_train_to_use.values.flatten()\n",
        "        algo_inst.fit(X_train_to_use, y_train_to_use)\n",
        "        y_pred=algo_inst.predict(X_test_to_use)\n",
        "        accuracy=accuracy_score(y_test_to_use,y_pred)\n",
        "        y_train_pred=algo_inst.predict(X_train_to_use)\n",
        "        train_acc=accuracy_score(y_train_to_use,y_train_pred)\n",
        "        # result_dict.update({f'{pipe_name}_{type(algo_inst).__name__}':{'accuracy':accuracy}})\n",
        "        print(f'{pipe_name}_{type(algo_inst).__name__}   testing accuracy is  ',accuracy)\n",
        "        print(f'{pipe_name}_{type(algo_inst).__name__}   training accuracy is  ',train_acc)\n",
        "\n",
        "        # confusion_matrix= metrics.confusion_matrix(y_test_to_use,y_pred)\n",
        "        # # display_labels=[0,1] ## (manual)\n",
        "        # cm_display= metrics.ConfusionMatrixDisplay(confusion_matrix=confusion_matrix )\n",
        "        # cm_display.plot()\n",
        "        # plt.show()\n",
        "\n",
        "\n",
        "        # ### accuracy metrics\n",
        "        # accuracy= metrics.accuracy_score(y_test_to_use,y_pred)\n",
        "        # recall= metrics.recall_score(y_test_to_use,y_pred,average='macro')\n",
        "        # # recall= metrics.recall_score(y_test_to_use,y_pred)\n",
        "        # recall0= metrics.recall_score(y_test_to_use,y_pred,pos_label=0,average='macro')\n",
        "\n",
        "        # precision= metrics.precision_score(y_test_to_use,y_pred,average='macro')\n",
        "        # precision0= metrics.precision_score(y_test_to_use,y_pred,pos_label=0,average='macro')\n",
        "\n",
        "        # f_score= 2*recall*precision/(recall+precision)\n",
        "\n",
        "        # print('accuracy is ',accuracy, '\\n')\n",
        "        # print('recall for class 1 is ',recall, '\\n')\n",
        "        # print('precision for class 1 is ',precision, '\\n')\n",
        "        # print('recall for class 0 is ',recall0, '\\n')\n",
        "        # print('precision for class 0 is ',precision0, '\\n')\n",
        "\n",
        "        # print('f_score is for class 1',f_score, '\\n')\n",
        "        result_dict.update({f'{pipe_name}_{inst_name}':get_conf_fscore(y_test_to_use,y_pred)})\n",
        "\n",
        "\n",
        "pd.DataFrame(result_dict).transpose()"
      ],
      "metadata": {
        "colab": {
          "base_uri": "https://localhost:8080/",
          "height": 1000
        },
        "id": "W85sGIltx1tH",
        "outputId": "3e8ba5a8-426f-4c4a-a402-4ad9b0c2bd88"
      },
      "execution_count": null,
      "outputs": [
        {
          "output_type": "stream",
          "name": "stderr",
          "text": [
            "/usr/local/lib/python3.10/dist-packages/numpy/core/fromnumeric.py:3432: RuntimeWarning: Mean of empty slice.\n",
            "  return _methods._mean(a, axis=axis, dtype=dtype,\n",
            "/usr/local/lib/python3.10/dist-packages/numpy/core/fromnumeric.py:3432: RuntimeWarning: Mean of empty slice.\n",
            "  return _methods._mean(a, axis=axis, dtype=dtype,\n"
          ]
        },
        {
          "output_type": "stream",
          "name": "stdout",
          "text": [
            "google_pipeline\n",
            "Pipeline here \n",
            "google_pipeline here \n",
            "google_pipeline_RandomForestClassifier   testing accuracy is   0.7889952153110048\n",
            "google_pipeline_RandomForestClassifier   training accuracy is   0.9989220265900107\n"
          ]
        },
        {
          "output_type": "display_data",
          "data": {
            "text/plain": [
              "<Figure size 640x480 with 2 Axes>"
            ],
            "image/png": "[encoded data removed]"
          },
          "metadata": {}
        },
        {
          "output_type": "stream",
          "name": "stderr",
          "text": [
            "/usr/local/lib/python3.10/dist-packages/sklearn/metrics/_classification.py:1396: UserWarning: Note that pos_label (set to 0) is ignored when average != 'binary' (got 'macro'). You may use labels=[pos_label] to specify a single positive class.\n",
            "  warnings.warn(\n",
            "/usr/local/lib/python3.10/dist-packages/sklearn/metrics/_classification.py:1396: UserWarning: Note that pos_label (set to 0) is ignored when average != 'binary' (got 'macro'). You may use labels=[pos_label] to specify a single positive class.\n",
            "  warnings.warn(\n"
          ]
        },
        {
          "output_type": "stream",
          "name": "stdout",
          "text": [
            "accuracy is  0.7889952153110048 \n",
            "\n",
            "recall for class 1 is  0.5284689109766502 \n",
            "\n",
            "precision for class 1 is  0.842799285588509 \n",
            "\n",
            "recall for class 0 is  0.5284689109766502 \n",
            "\n",
            "precision for class 0 is  0.842799285588509 \n",
            "\n",
            "f_score is for class 1 0.6496077452135297 \n",
            "\n",
            "google_pipeline_Pipeline   testing accuracy is   0.7564593301435407\n",
            "google_pipeline_Pipeline   training accuracy is   0.7682357168523176\n"
          ]
        },
        {
          "output_type": "display_data",
          "data": {
            "text/plain": [
              "<Figure size 640x480 with 2 Axes>"
            ],
            "image/png": "[encoded data removed]"
          },
          "metadata": {}
        },
        {
          "output_type": "stream",
          "name": "stderr",
          "text": [
            "/usr/local/lib/python3.10/dist-packages/sklearn/metrics/_classification.py:1396: UserWarning: Note that pos_label (set to 0) is ignored when average != 'binary' (got 'macro'). You may use labels=[pos_label] to specify a single positive class.\n",
            "  warnings.warn(\n",
            "/usr/local/lib/python3.10/dist-packages/sklearn/metrics/_classification.py:1396: UserWarning: Note that pos_label (set to 0) is ignored when average != 'binary' (got 'macro'). You may use labels=[pos_label] to specify a single positive class.\n",
            "  warnings.warn(\n"
          ]
        },
        {
          "output_type": "stream",
          "name": "stdout",
          "text": [
            "accuracy is  0.7564593301435407 \n",
            "\n",
            "recall for class 1 is  0.5974947114375901 \n",
            "\n",
            "precision for class 1 is  0.7096633844744676 \n",
            "\n",
            "recall for class 0 is  0.5974947114375901 \n",
            "\n",
            "precision for class 0 is  0.7096633844744676 \n",
            "\n",
            "f_score is for class 1 0.6487663893915441 \n",
            "\n"
          ]
        },
        {
          "output_type": "stream",
          "name": "stderr",
          "text": [
            "/usr/local/lib/python3.10/dist-packages/sklearn/linear_model/_logistic.py:458: ConvergenceWarning: lbfgs failed to converge (status=1):\n",
            "STOP: TOTAL NO. of ITERATIONS REACHED LIMIT.\n",
            "\n",
            "Increase the number of iterations (max_iter) or scale the data as shown in:\n",
            "    https://scikit-learn.org/stable/modules/preprocessing.html\n",
            "Please also refer to the documentation for alternative solver options:\n",
            "    https://scikit-learn.org/stable/modules/linear_model.html#logistic-regression\n",
            "  n_iter_i = _check_optimize_result(\n"
          ]
        },
        {
          "output_type": "stream",
          "name": "stdout",
          "text": [
            "google_pipeline_LogisticRegression   testing accuracy is   0.8703349282296651\n",
            "google_pipeline_LogisticRegression   training accuracy is   0.8766319319679003\n"
          ]
        },
        {
          "output_type": "display_data",
          "data": {
            "text/plain": [
              "<Figure size 640x480 with 2 Axes>"
            ],
            "image/png": "[encoded data removed]"
          },
          "metadata": {}
        },
        {
          "output_type": "stream",
          "name": "stderr",
          "text": [
            "/usr/local/lib/python3.10/dist-packages/sklearn/metrics/_classification.py:1396: UserWarning: Note that pos_label (set to 0) is ignored when average != 'binary' (got 'macro'). You may use labels=[pos_label] to specify a single positive class.\n",
            "  warnings.warn(\n",
            "/usr/local/lib/python3.10/dist-packages/sklearn/metrics/_classification.py:1396: UserWarning: Note that pos_label (set to 0) is ignored when average != 'binary' (got 'macro'). You may use labels=[pos_label] to specify a single positive class.\n",
            "  warnings.warn(\n"
          ]
        },
        {
          "output_type": "stream",
          "name": "stdout",
          "text": [
            "accuracy is  0.8703349282296651 \n",
            "\n",
            "recall for class 1 is  0.7486538621937656 \n",
            "\n",
            "precision for class 1 is  0.8337746201977575 \n",
            "\n",
            "recall for class 0 is  0.7486538621937656 \n",
            "\n",
            "precision for class 0 is  0.8337746201977575 \n",
            "\n",
            "f_score is for class 1 0.7889248665024345 \n",
            "\n"
          ]
        },
        {
          "output_type": "stream",
          "name": "stderr",
          "text": [
            "/usr/local/lib/python3.10/dist-packages/numpy/core/fromnumeric.py:3432: RuntimeWarning: Mean of empty slice.\n",
            "  return _methods._mean(a, axis=axis, dtype=dtype,\n",
            "/usr/local/lib/python3.10/dist-packages/numpy/core/fromnumeric.py:3432: RuntimeWarning: Mean of empty slice.\n",
            "  return _methods._mean(a, axis=axis, dtype=dtype,\n"
          ]
        },
        {
          "output_type": "stream",
          "name": "stdout",
          "text": [
            "skgram_w2v_pipeline\n",
            "Pipeline here \n",
            "skgram_w2v_pipeline here \n",
            "skgram_w2v_pipeline_RandomForestClassifier   testing accuracy is   0.8268770923003348\n",
            "skgram_w2v_pipeline_RandomForestClassifier   training accuracy is   0.9988016776512882\n"
          ]
        },
        {
          "output_type": "display_data",
          "data": {
            "text/plain": [
              "<Figure size 640x480 with 2 Axes>"
            ],
            "image/png": "[encoded data removed]"
          },
          "metadata": {}
        },
        {
          "output_type": "stream",
          "name": "stderr",
          "text": [
            "/usr/local/lib/python3.10/dist-packages/sklearn/metrics/_classification.py:1396: UserWarning: Note that pos_label (set to 0) is ignored when average != 'binary' (got 'macro'). You may use labels=[pos_label] to specify a single positive class.\n",
            "  warnings.warn(\n",
            "/usr/local/lib/python3.10/dist-packages/sklearn/metrics/_classification.py:1396: UserWarning: Note that pos_label (set to 0) is ignored when average != 'binary' (got 'macro'). You may use labels=[pos_label] to specify a single positive class.\n",
            "  warnings.warn(\n"
          ]
        },
        {
          "output_type": "stream",
          "name": "stdout",
          "text": [
            "accuracy is  0.8268770923003348 \n",
            "\n",
            "recall for class 1 is  0.6490808734284751 \n",
            "\n",
            "precision for class 1 is  0.7991816677385278 \n",
            "\n",
            "recall for class 0 is  0.6490808734284751 \n",
            "\n",
            "precision for class 0 is  0.7991816677385278 \n",
            "\n",
            "f_score is for class 1 0.7163528989788773 \n",
            "\n",
            "skgram_w2v_pipeline_Pipeline   testing accuracy is   0.6269727403156384\n",
            "skgram_w2v_pipeline_Pipeline   training accuracy is   0.6254044337926903\n"
          ]
        },
        {
          "output_type": "display_data",
          "data": {
            "text/plain": [
              "<Figure size 640x480 with 2 Axes>"
            ],
            "image/png": "[encoded data removed]"
          },
          "metadata": {}
        },
        {
          "output_type": "stream",
          "name": "stderr",
          "text": [
            "/usr/local/lib/python3.10/dist-packages/sklearn/metrics/_classification.py:1396: UserWarning: Note that pos_label (set to 0) is ignored when average != 'binary' (got 'macro'). You may use labels=[pos_label] to specify a single positive class.\n",
            "  warnings.warn(\n",
            "/usr/local/lib/python3.10/dist-packages/sklearn/metrics/_classification.py:1396: UserWarning: Note that pos_label (set to 0) is ignored when average != 'binary' (got 'macro'). You may use labels=[pos_label] to specify a single positive class.\n",
            "  warnings.warn(\n"
          ]
        },
        {
          "output_type": "stream",
          "name": "stdout",
          "text": [
            "accuracy is  0.6269727403156384 \n",
            "\n",
            "recall for class 1 is  0.6579755094545642 \n",
            "\n",
            "precision for class 1 is  0.590388379708423 \n",
            "\n",
            "recall for class 0 is  0.6579755094545642 \n",
            "\n",
            "precision for class 0 is  0.590388379708423 \n",
            "\n",
            "f_score is for class 1 0.6223523417922041 \n",
            "\n"
          ]
        },
        {
          "output_type": "stream",
          "name": "stderr",
          "text": [
            "/usr/local/lib/python3.10/dist-packages/sklearn/linear_model/_logistic.py:458: ConvergenceWarning: lbfgs failed to converge (status=1):\n",
            "STOP: TOTAL NO. of ITERATIONS REACHED LIMIT.\n",
            "\n",
            "Increase the number of iterations (max_iter) or scale the data as shown in:\n",
            "    https://scikit-learn.org/stable/modules/preprocessing.html\n",
            "Please also refer to the documentation for alternative solver options:\n",
            "    https://scikit-learn.org/stable/modules/linear_model.html#logistic-regression\n",
            "  n_iter_i = _check_optimize_result(\n"
          ]
        },
        {
          "output_type": "stream",
          "name": "stdout",
          "text": [
            "skgram_w2v_pipeline_LogisticRegression   testing accuracy is   0.8139646102343376\n",
            "skgram_w2v_pipeline_LogisticRegression   training accuracy is   0.822528460155782\n"
          ]
        },
        {
          "output_type": "display_data",
          "data": {
            "text/plain": [
              "<Figure size 640x480 with 2 Axes>"
            ],
            "image/png": "[encoded data removed]"
          },
          "metadata": {}
        },
        {
          "output_type": "stream",
          "name": "stderr",
          "text": [
            "/usr/local/lib/python3.10/dist-packages/sklearn/metrics/_classification.py:1396: UserWarning: Note that pos_label (set to 0) is ignored when average != 'binary' (got 'macro'). You may use labels=[pos_label] to specify a single positive class.\n",
            "  warnings.warn(\n",
            "/usr/local/lib/python3.10/dist-packages/sklearn/metrics/_classification.py:1396: UserWarning: Note that pos_label (set to 0) is ignored when average != 'binary' (got 'macro'). You may use labels=[pos_label] to specify a single positive class.\n",
            "  warnings.warn(\n"
          ]
        },
        {
          "output_type": "stream",
          "name": "stdout",
          "text": [
            "accuracy is  0.8139646102343376 \n",
            "\n",
            "recall for class 1 is  0.6061795410847558 \n",
            "\n",
            "precision for class 1 is  0.805687953085687 \n",
            "\n",
            "recall for class 0 is  0.6061795410847558 \n",
            "\n",
            "precision for class 0 is  0.805687953085687 \n",
            "\n",
            "f_score is for class 1 0.6918376627772105 \n",
            "\n",
            "bow_pipeline\n",
            "Pipeline here \n",
            "bow_pipeline here \n",
            "bow_pipeline_RandomForestClassifier   testing accuracy is   0.8379541108986616\n",
            "bow_pipeline_RandomForestClassifier   training accuracy is   0.9829070045421946\n"
          ]
        },
        {
          "output_type": "display_data",
          "data": {
            "text/plain": [
              "<Figure size 640x480 with 2 Axes>"
            ],
            "image/png": "[encoded data removed]"
          },
          "metadata": {}
        },
        {
          "output_type": "stream",
          "name": "stderr",
          "text": [
            "/usr/local/lib/python3.10/dist-packages/sklearn/metrics/_classification.py:1396: UserWarning: Note that pos_label (set to 0) is ignored when average != 'binary' (got 'macro'). You may use labels=[pos_label] to specify a single positive class.\n",
            "  warnings.warn(\n",
            "/usr/local/lib/python3.10/dist-packages/sklearn/metrics/_classification.py:1396: UserWarning: Note that pos_label (set to 0) is ignored when average != 'binary' (got 'macro'). You may use labels=[pos_label] to specify a single positive class.\n",
            "  warnings.warn(\n"
          ]
        },
        {
          "output_type": "stream",
          "name": "stdout",
          "text": [
            "accuracy is  0.8379541108986616 \n",
            "\n",
            "recall for class 1 is  0.7414576130124954 \n",
            "\n",
            "precision for class 1 is  0.7560219835287451 \n",
            "\n",
            "recall for class 0 is  0.7414576130124954 \n",
            "\n",
            "precision for class 0 is  0.7560219835287451 \n",
            "\n",
            "f_score is for class 1 0.7486689723010963 \n",
            "\n",
            "bow_pipeline_Pipeline   testing accuracy is   0.530114722753346\n",
            "bow_pipeline_Pipeline   training accuracy is   0.5494860148218982\n"
          ]
        },
        {
          "output_type": "display_data",
          "data": {
            "text/plain": [
              "<Figure size 640x480 with 2 Axes>"
            ],
            "image/png": "[encoded data removed]"
          },
          "metadata": {}
        },
        {
          "output_type": "stream",
          "name": "stderr",
          "text": [
            "/usr/local/lib/python3.10/dist-packages/sklearn/metrics/_classification.py:1396: UserWarning: Note that pos_label (set to 0) is ignored when average != 'binary' (got 'macro'). You may use labels=[pos_label] to specify a single positive class.\n",
            "  warnings.warn(\n",
            "/usr/local/lib/python3.10/dist-packages/sklearn/metrics/_classification.py:1396: UserWarning: Note that pos_label (set to 0) is ignored when average != 'binary' (got 'macro'). You may use labels=[pos_label] to specify a single positive class.\n",
            "  warnings.warn(\n"
          ]
        },
        {
          "output_type": "stream",
          "name": "stdout",
          "text": [
            "accuracy is  0.530114722753346 \n",
            "\n",
            "recall for class 1 is  0.6050068502237255 \n",
            "\n",
            "precision for class 1 is  0.5177974395245594 \n",
            "\n",
            "recall for class 0 is  0.6050068502237255 \n",
            "\n",
            "precision for class 0 is  0.5177974395245594 \n",
            "\n",
            "f_score is for class 1 0.558015320748185 \n",
            "\n"
          ]
        },
        {
          "output_type": "stream",
          "name": "stderr",
          "text": [
            "/usr/local/lib/python3.10/dist-packages/sklearn/linear_model/_logistic.py:458: ConvergenceWarning: lbfgs failed to converge (status=1):\n",
            "STOP: TOTAL NO. of ITERATIONS REACHED LIMIT.\n",
            "\n",
            "Increase the number of iterations (max_iter) or scale the data as shown in:\n",
            "    https://scikit-learn.org/stable/modules/preprocessing.html\n",
            "Please also refer to the documentation for alternative solver options:\n",
            "    https://scikit-learn.org/stable/modules/linear_model.html#logistic-regression\n",
            "  n_iter_i = _check_optimize_result(\n"
          ]
        },
        {
          "output_type": "stream",
          "name": "stdout",
          "text": [
            "bow_pipeline_LogisticRegression   testing accuracy is   0.8451242829827916\n",
            "bow_pipeline_LogisticRegression   training accuracy is   0.8793927803012193\n"
          ]
        },
        {
          "output_type": "display_data",
          "data": {
            "text/plain": [
              "<Figure size 640x480 with 2 Axes>"
            ],
            "image/png": "[encoded data removed]"
          },
          "metadata": {}
        },
        {
          "output_type": "stream",
          "name": "stderr",
          "text": [
            "/usr/local/lib/python3.10/dist-packages/sklearn/metrics/_classification.py:1396: UserWarning: Note that pos_label (set to 0) is ignored when average != 'binary' (got 'macro'). You may use labels=[pos_label] to specify a single positive class.\n",
            "  warnings.warn(\n",
            "/usr/local/lib/python3.10/dist-packages/sklearn/metrics/_classification.py:1396: UserWarning: Note that pos_label (set to 0) is ignored when average != 'binary' (got 'macro'). You may use labels=[pos_label] to specify a single positive class.\n",
            "  warnings.warn(\n"
          ]
        },
        {
          "output_type": "stream",
          "name": "stdout",
          "text": [
            "accuracy is  0.8451242829827916 \n",
            "\n",
            "recall for class 1 is  0.7592615866965221 \n",
            "\n",
            "precision for class 1 is  0.7747541424541983 \n",
            "\n",
            "recall for class 0 is  0.7592615866965221 \n",
            "\n",
            "precision for class 0 is  0.7747541424541983 \n",
            "\n",
            "f_score is for class 1 0.766929632234145 \n",
            "\n",
            "tfidf_pipeline\n",
            "Pipeline here \n",
            "tfidf_pipeline here \n",
            "tfidf_pipeline_RandomForestClassifier   testing accuracy is   0.864244741873805\n",
            "tfidf_pipeline_RandomForestClassifier   training accuracy is   0.9971312455175712\n"
          ]
        },
        {
          "output_type": "display_data",
          "data": {
            "text/plain": [
              "<Figure size 640x480 with 2 Axes>"
            ],
            "image/png": "[encoded data removed]"
          },
          "metadata": {}
        },
        {
          "output_type": "stream",
          "name": "stderr",
          "text": [
            "/usr/local/lib/python3.10/dist-packages/sklearn/metrics/_classification.py:1396: UserWarning: Note that pos_label (set to 0) is ignored when average != 'binary' (got 'macro'). You may use labels=[pos_label] to specify a single positive class.\n",
            "  warnings.warn(\n",
            "/usr/local/lib/python3.10/dist-packages/sklearn/metrics/_classification.py:1396: UserWarning: Note that pos_label (set to 0) is ignored when average != 'binary' (got 'macro'). You may use labels=[pos_label] to specify a single positive class.\n",
            "  warnings.warn(\n"
          ]
        },
        {
          "output_type": "stream",
          "name": "stdout",
          "text": [
            "accuracy is  0.864244741873805 \n",
            "\n",
            "recall for class 1 is  0.760652506394394 \n",
            "\n",
            "precision for class 1 is  0.81098387845829 \n",
            "\n",
            "recall for class 0 is  0.760652506394394 \n",
            "\n",
            "precision for class 0 is  0.81098387845829 \n",
            "\n",
            "f_score is for class 1 0.7850122658652591 \n",
            "\n",
            "tfidf_pipeline_Pipeline   testing accuracy is   0.6821223709369025\n",
            "tfidf_pipeline_Pipeline   training accuracy is   0.7905809227826919\n"
          ]
        },
        {
          "output_type": "display_data",
          "data": {
            "text/plain": [
              "<Figure size 640x480 with 2 Axes>"
            ],
            "image/png": "[encoded data removed]"
          },
          "metadata": {}
        },
        {
          "output_type": "stream",
          "name": "stderr",
          "text": [
            "/usr/local/lib/python3.10/dist-packages/sklearn/metrics/_classification.py:1396: UserWarning: Note that pos_label (set to 0) is ignored when average != 'binary' (got 'macro'). You may use labels=[pos_label] to specify a single positive class.\n",
            "  warnings.warn(\n",
            "/usr/local/lib/python3.10/dist-packages/sklearn/metrics/_classification.py:1396: UserWarning: Note that pos_label (set to 0) is ignored when average != 'binary' (got 'macro'). You may use labels=[pos_label] to specify a single positive class.\n",
            "  warnings.warn(\n"
          ]
        },
        {
          "output_type": "stream",
          "name": "stdout",
          "text": [
            "accuracy is  0.6821223709369025 \n",
            "\n",
            "recall for class 1 is  0.6431638092815367 \n",
            "\n",
            "precision for class 1 is  0.567893335502114 \n",
            "\n",
            "recall for class 0 is  0.6431638092815367 \n",
            "\n",
            "precision for class 0 is  0.567893335502114 \n",
            "\n",
            "f_score is for class 1 0.603189440730127 \n",
            "\n",
            "tfidf_pipeline_LogisticRegression   testing accuracy is   0.8790630975143403\n",
            "tfidf_pipeline_LogisticRegression   training accuracy is   0.9177623715037054\n"
          ]
        },
        {
          "output_type": "display_data",
          "data": {
            "text/plain": [
              "<Figure size 640x480 with 2 Axes>"
            ],
            "image/png": "[encoded data removed]"
          },
          "metadata": {}
        },
        {
          "output_type": "stream",
          "name": "stderr",
          "text": [
            "/usr/local/lib/python3.10/dist-packages/sklearn/metrics/_classification.py:1396: UserWarning: Note that pos_label (set to 0) is ignored when average != 'binary' (got 'macro'). You may use labels=[pos_label] to specify a single positive class.\n",
            "  warnings.warn(\n",
            "/usr/local/lib/python3.10/dist-packages/sklearn/metrics/_classification.py:1396: UserWarning: Note that pos_label (set to 0) is ignored when average != 'binary' (got 'macro'). You may use labels=[pos_label] to specify a single positive class.\n",
            "  warnings.warn(\n"
          ]
        },
        {
          "output_type": "stream",
          "name": "stdout",
          "text": [
            "accuracy is  0.8790630975143403 \n",
            "\n",
            "recall for class 1 is  0.7550895690236432 \n",
            "\n",
            "precision for class 1 is  0.8671255852811685 \n",
            "\n",
            "recall for class 0 is  0.7550895690236432 \n",
            "\n",
            "precision for class 0 is  0.8671255852811685 \n",
            "\n",
            "f_score is for class 1 0.8072387719247061 \n",
            "\n"
          ]
        },
        {
          "output_type": "stream",
          "name": "stderr",
          "text": [
            "/usr/local/lib/python3.10/dist-packages/numpy/core/fromnumeric.py:3432: RuntimeWarning: Mean of empty slice.\n",
            "  return _methods._mean(a, axis=axis, dtype=dtype,\n",
            "/usr/local/lib/python3.10/dist-packages/numpy/core/fromnumeric.py:3432: RuntimeWarning: Mean of empty slice.\n",
            "  return _methods._mean(a, axis=axis, dtype=dtype,\n"
          ]
        },
        {
          "output_type": "stream",
          "name": "stdout",
          "text": [
            "cbow_custom_w2v_pipeline\n",
            "Pipeline here \n",
            "cbow_custom_w2v_pipeline here \n",
            "cbow_custom_w2v_pipeline_RandomForestClassifier   testing accuracy is   0.8230511716881874\n",
            "cbow_custom_w2v_pipeline_RandomForestClassifier   training accuracy is   0.9988016776512882\n"
          ]
        },
        {
          "output_type": "display_data",
          "data": {
            "text/plain": [
              "<Figure size 640x480 with 2 Axes>"
            ],
            "image/png": "[encoded data removed]"
          },
          "metadata": {}
        },
        {
          "output_type": "stream",
          "name": "stderr",
          "text": [
            "/usr/local/lib/python3.10/dist-packages/sklearn/metrics/_classification.py:1396: UserWarning: Note that pos_label (set to 0) is ignored when average != 'binary' (got 'macro'). You may use labels=[pos_label] to specify a single positive class.\n",
            "  warnings.warn(\n",
            "/usr/local/lib/python3.10/dist-packages/sklearn/metrics/_classification.py:1396: UserWarning: Note that pos_label (set to 0) is ignored when average != 'binary' (got 'macro'). You may use labels=[pos_label] to specify a single positive class.\n",
            "  warnings.warn(\n"
          ]
        },
        {
          "output_type": "stream",
          "name": "stdout",
          "text": [
            "accuracy is  0.8230511716881874 \n",
            "\n",
            "recall for class 1 is  0.6404787228908408 \n",
            "\n",
            "precision for class 1 is  0.7898205659075224 \n",
            "\n",
            "recall for class 0 is  0.6404787228908408 \n",
            "\n",
            "precision for class 0 is  0.7898205659075224 \n",
            "\n",
            "f_score is for class 1 0.7073530292955146 \n",
            "\n",
            "cbow_custom_w2v_pipeline_Pipeline   testing accuracy is   0.6226685796269728\n",
            "cbow_custom_w2v_pipeline_Pipeline   training accuracy is   0.6214499700419412\n"
          ]
        },
        {
          "output_type": "display_data",
          "data": {
            "text/plain": [
              "<Figure size 640x480 with 2 Axes>"
            ],
            "image/png": "[encoded data removed]"
          },
          "metadata": {}
        },
        {
          "output_type": "stream",
          "name": "stderr",
          "text": [
            "/usr/local/lib/python3.10/dist-packages/sklearn/metrics/_classification.py:1396: UserWarning: Note that pos_label (set to 0) is ignored when average != 'binary' (got 'macro'). You may use labels=[pos_label] to specify a single positive class.\n",
            "  warnings.warn(\n",
            "/usr/local/lib/python3.10/dist-packages/sklearn/metrics/_classification.py:1396: UserWarning: Note that pos_label (set to 0) is ignored when average != 'binary' (got 'macro'). You may use labels=[pos_label] to specify a single positive class.\n",
            "  warnings.warn(\n"
          ]
        },
        {
          "output_type": "stream",
          "name": "stdout",
          "text": [
            "accuracy is  0.6226685796269728 \n",
            "\n",
            "recall for class 1 is  0.6542462618517297 \n",
            "\n",
            "precision for class 1 is  0.5818338505582317 \n",
            "\n",
            "recall for class 0 is  0.6542462618517297 \n",
            "\n",
            "precision for class 0 is  0.5818338505582317 \n",
            "\n",
            "f_score is for class 1 0.6159190135408789 \n",
            "\n"
          ]
        },
        {
          "output_type": "stream",
          "name": "stderr",
          "text": [
            "/usr/local/lib/python3.10/dist-packages/sklearn/linear_model/_logistic.py:458: ConvergenceWarning: lbfgs failed to converge (status=1):\n",
            "STOP: TOTAL NO. of ITERATIONS REACHED LIMIT.\n",
            "\n",
            "Increase the number of iterations (max_iter) or scale the data as shown in:\n",
            "    https://scikit-learn.org/stable/modules/preprocessing.html\n",
            "Please also refer to the documentation for alternative solver options:\n",
            "    https://scikit-learn.org/stable/modules/linear_model.html#logistic-regression\n",
            "  n_iter_i = _check_optimize_result(\n"
          ]
        },
        {
          "output_type": "stream",
          "name": "stdout",
          "text": [
            "cbow_custom_w2v_pipeline_LogisticRegression   testing accuracy is   0.8149210903873745\n",
            "cbow_custom_w2v_pipeline_LogisticRegression   training accuracy is   0.8168963451168364\n"
          ]
        },
        {
          "output_type": "display_data",
          "data": {
            "text/plain": [
              "<Figure size 640x480 with 2 Axes>"
            ],
            "image/png": "[encoded data removed]"
          },
          "metadata": {}
        },
        {
          "output_type": "stream",
          "name": "stdout",
          "text": [
            "accuracy is  0.8149210903873745 \n",
            "\n",
            "recall for class 1 is  0.6091798175408794 \n",
            "\n",
            "precision for class 1 is  0.8057168539997311 \n",
            "\n",
            "recall for class 0 is  0.6091798175408794 \n",
            "\n",
            "precision for class 0 is  0.8057168539997311 \n",
            "\n",
            "f_score is for class 1 0.6937982906903457 \n",
            "\n"
          ]
        },
        {
          "output_type": "stream",
          "name": "stderr",
          "text": [
            "/usr/local/lib/python3.10/dist-packages/sklearn/metrics/_classification.py:1396: UserWarning: Note that pos_label (set to 0) is ignored when average != 'binary' (got 'macro'). You may use labels=[pos_label] to specify a single positive class.\n",
            "  warnings.warn(\n",
            "/usr/local/lib/python3.10/dist-packages/sklearn/metrics/_classification.py:1396: UserWarning: Note that pos_label (set to 0) is ignored when average != 'binary' (got 'macro'). You may use labels=[pos_label] to specify a single positive class.\n",
            "  warnings.warn(\n"
          ]
        },
        {
          "output_type": "execute_result",
          "data": {
            "text/plain": [
              "                                                 accuracy  recall_1  \\\n",
              "google_pipeline_RandomForestClassifier           0.788995  0.528469   \n",
              "google_pipeline_Pipeline                         0.756459  0.597495   \n",
              "google_pipeline_LogisticRegression               0.870335  0.748654   \n",
              "skgram_w2v_pipeline_RandomForestClassifier       0.826877  0.649081   \n",
              "skgram_w2v_pipeline_Pipeline                     0.621234  0.661441   \n",
              "skgram_w2v_pipeline_LogisticRegression           0.813965  0.606180   \n",
              "bow_pipeline_RandomForestClassifier              0.837954  0.741458   \n",
              "bow_pipeline_Pipeline                            0.530115  0.605007   \n",
              "bow_pipeline_LogisticRegression                  0.845124  0.759262   \n",
              "google_pipeline_GaussianNB                       0.756459  0.597495   \n",
              "skgram_w2v_pipeline_GaussianNB                   0.626973  0.657976   \n",
              "bow_pipeline_GaussianNB                          0.530115  0.605007   \n",
              "tfidf_pipeline_RandomForestClassifier            0.864245  0.760653   \n",
              "tfidf_pipeline_GaussianNB                        0.682122  0.643164   \n",
              "tfidf_pipeline_LogisticRegression                0.879063  0.755090   \n",
              "cbow_custom_w2v_pipeline_RandomForestClassifier  0.823051  0.640479   \n",
              "cbow_custom_w2v_pipeline_GaussianNB              0.622669  0.654246   \n",
              "cbow_custom_w2v_pipeline_LogisticRegression      0.814921  0.609180   \n",
              "\n",
              "                                                 precision_1  fscore_1  \n",
              "google_pipeline_RandomForestClassifier              0.842799  0.649608  \n",
              "google_pipeline_Pipeline                            0.709663  0.648766  \n",
              "google_pipeline_LogisticRegression                  0.833775  0.788925  \n",
              "skgram_w2v_pipeline_RandomForestClassifier          0.799182  0.716353  \n",
              "skgram_w2v_pipeline_Pipeline                        0.575964  0.615750  \n",
              "skgram_w2v_pipeline_LogisticRegression              0.805688  0.691838  \n",
              "bow_pipeline_RandomForestClassifier                 0.756022  0.748669  \n",
              "bow_pipeline_Pipeline                               0.517797  0.558015  \n",
              "bow_pipeline_LogisticRegression                     0.774754  0.766930  \n",
              "google_pipeline_GaussianNB                          0.709663  0.648766  \n",
              "skgram_w2v_pipeline_GaussianNB                      0.590388  0.622352  \n",
              "bow_pipeline_GaussianNB                             0.517797  0.558015  \n",
              "tfidf_pipeline_RandomForestClassifier               0.810984  0.785012  \n",
              "tfidf_pipeline_GaussianNB                           0.567893  0.603189  \n",
              "tfidf_pipeline_LogisticRegression                   0.867126  0.807239  \n",
              "cbow_custom_w2v_pipeline_RandomForestClassifier     0.789821  0.707353  \n",
              "cbow_custom_w2v_pipeline_GaussianNB                 0.581834  0.615919  \n",
              "cbow_custom_w2v_pipeline_LogisticRegression         0.805717  0.693798  "
            ],
            "text/html": [
              "\n",
              "\n",
              "  <div id=\"df-425e9307-e3c8-4cdf-9ea3-d6f543130d2f\">\n",
              "    <div class=\"colab-df-container\">\n",
              "      <div>\n",
              "<style scoped>\n",
              "    .dataframe tbody tr th:only-of-type {\n",
              "        vertical-align: middle;\n",
              "    }\n",
              "\n",
              "    .dataframe tbody tr th {\n",
              "        vertical-align: top;\n",
              "    }\n",
              "\n",
              "    .dataframe thead th {\n",
              "        text-align: right;\n",
              "    }\n",
              "</style>\n",
              "<table border=\"1\" class=\"dataframe\">\n",
              "  <thead>\n",
              "    <tr style=\"text-align: right;\">\n",
              "      <th></th>\n",
              "      <th>accuracy</th>\n",
              "      <th>recall_1</th>\n",
              "      <th>precision_1</th>\n",
              "      <th>fscore_1</th>\n",
              "    </tr>\n",
              "  </thead>\n",
              "  <tbody>\n",
              "    <tr>\n",
              "      <th>google_pipeline_RandomForestClassifier</th>\n",
              "      <td>0.788995</td>\n",
              "      <td>0.528469</td>\n",
              "      <td>0.842799</td>\n",
              "      <td>0.649608</td>\n",
              "    </tr>\n",
              "    <tr>\n",
              "      <th>google_pipeline_Pipeline</th>\n",
              "      <td>0.756459</td>\n",
              "      <td>0.597495</td>\n",
              "      <td>0.709663</td>\n",
              "      <td>0.648766</td>\n",
              "    </tr>\n",
              "    <tr>\n",
              "      <th>google_pipeline_LogisticRegression</th>\n",
              "      <td>0.870335</td>\n",
              "      <td>0.748654</td>\n",
              "      <td>0.833775</td>\n",
              "      <td>0.788925</td>\n",
              "    </tr>\n",
              "    <tr>\n",
              "      <th>skgram_w2v_pipeline_RandomForestClassifier</th>\n",
              "      <td>0.826877</td>\n",
              "      <td>0.649081</td>\n",
              "      <td>0.799182</td>\n",
              "      <td>0.716353</td>\n",
              "    </tr>\n",
              "    <tr>\n",
              "      <th>skgram_w2v_pipeline_Pipeline</th>\n",
              "      <td>0.621234</td>\n",
              "      <td>0.661441</td>\n",
              "      <td>0.575964</td>\n",
              "      <td>0.615750</td>\n",
              "    </tr>\n",
              "    <tr>\n",
              "      <th>skgram_w2v_pipeline_LogisticRegression</th>\n",
              "      <td>0.813965</td>\n",
              "      <td>0.606180</td>\n",
              "      <td>0.805688</td>\n",
              "      <td>0.691838</td>\n",
              "    </tr>\n",
              "    <tr>\n",
              "      <th>bow_pipeline_RandomForestClassifier</th>\n",
              "      <td>0.837954</td>\n",
              "      <td>0.741458</td>\n",
              "      <td>0.756022</td>\n",
              "      <td>0.748669</td>\n",
              "    </tr>\n",
              "    <tr>\n",
              "      <th>bow_pipeline_Pipeline</th>\n",
              "      <td>0.530115</td>\n",
              "      <td>0.605007</td>\n",
              "      <td>0.517797</td>\n",
              "      <td>0.558015</td>\n",
              "    </tr>\n",
              "    <tr>\n",
              "      <th>bow_pipeline_LogisticRegression</th>\n",
              "      <td>0.845124</td>\n",
              "      <td>0.759262</td>\n",
              "      <td>0.774754</td>\n",
              "      <td>0.766930</td>\n",
              "    </tr>\n",
              "    <tr>\n",
              "      <th>google_pipeline_GaussianNB</th>\n",
              "      <td>0.756459</td>\n",
              "      <td>0.597495</td>\n",
              "      <td>0.709663</td>\n",
              "      <td>0.648766</td>\n",
              "    </tr>\n",
              "    <tr>\n",
              "      <th>skgram_w2v_pipeline_GaussianNB</th>\n",
              "      <td>0.626973</td>\n",
              "      <td>0.657976</td>\n",
              "      <td>0.590388</td>\n",
              "      <td>0.622352</td>\n",
              "    </tr>\n",
              "    <tr>\n",
              "      <th>bow_pipeline_GaussianNB</th>\n",
              "      <td>0.530115</td>\n",
              "      <td>0.605007</td>\n",
              "      <td>0.517797</td>\n",
              "      <td>0.558015</td>\n",
              "    </tr>\n",
              "    <tr>\n",
              "      <th>tfidf_pipeline_RandomForestClassifier</th>\n",
              "      <td>0.864245</td>\n",
              "      <td>0.760653</td>\n",
              "      <td>0.810984</td>\n",
              "      <td>0.785012</td>\n",
              "    </tr>\n",
              "    <tr>\n",
              "      <th>tfidf_pipeline_GaussianNB</th>\n",
              "      <td>0.682122</td>\n",
              "      <td>0.643164</td>\n",
              "      <td>0.567893</td>\n",
              "      <td>0.603189</td>\n",
              "    </tr>\n",
              "    <tr>\n",
              "      <th>tfidf_pipeline_LogisticRegression</th>\n",
              "      <td>0.879063</td>\n",
              "      <td>0.755090</td>\n",
              "      <td>0.867126</td>\n",
              "      <td>0.807239</td>\n",
              "    </tr>\n",
              "    <tr>\n",
              "      <th>cbow_custom_w2v_pipeline_RandomForestClassifier</th>\n",
              "      <td>0.823051</td>\n",
              "      <td>0.640479</td>\n",
              "      <td>0.789821</td>\n",
              "      <td>0.707353</td>\n",
              "    </tr>\n",
              "    <tr>\n",
              "      <th>cbow_custom_w2v_pipeline_GaussianNB</th>\n",
              "      <td>0.622669</td>\n",
              "      <td>0.654246</td>\n",
              "      <td>0.581834</td>\n",
              "      <td>0.615919</td>\n",
              "    </tr>\n",
              "    <tr>\n",
              "      <th>cbow_custom_w2v_pipeline_LogisticRegression</th>\n",
              "      <td>0.814921</td>\n",
              "      <td>0.609180</td>\n",
              "      <td>0.805717</td>\n",
              "      <td>0.693798</td>\n",
              "    </tr>\n",
              "  </tbody>\n",
              "</table>\n",
              "</div>\n",
              "      <button class=\"colab-df-convert\" onclick=\"convertToInteractive('df-425e9307-e3c8-4cdf-9ea3-d6f543130d2f')\"\n",
              "              title=\"Convert this dataframe to an interactive table.\"\n",
              "              style=\"display:none;\">\n",
              "\n",
              "  <svg xmlns=\"http://www.w3.org/2000/svg\" height=\"24px\"viewBox=\"0 0 24 24\"\n",
              "       width=\"24px\">\n",
              "    <path d=\"M0 0h24v24H0V0z\" fill=\"none\"/>\n",
              "    <path d=\"M18.56 5.44l.94 2.06.94-2.06 2.06-.94-2.06-.94-.94-2.06-.94 2.06-2.06.94zm-11 1L8.5 8.5l.94-2.06 2.06-.94-2.06-.94L8.5 2.5l-.94 2.06-2.06.94zm10 10l.94 2.06.94-2.06 2.06-.94-2.06-.94-.94-2.06-.94 2.06-2.06.94z\"/><path d=\"M17.41 7.96l-1.37-1.37c-.4-.4-.92-.59-1.43-.59-.52 0-1.04.2-1.43.59L10.3 9.45l-7.72 7.72c-.78.78-.78 2.05 0 2.83L4 21.41c.39.39.9.59 1.41.59.51 0 1.02-.2 1.41-.59l7.78-7.78 2.81-2.81c.8-.78.8-2.07 0-2.86zM5.41 20L4 18.59l7.72-7.72 1.47 1.35L5.41 20z\"/>\n",
              "  </svg>\n",
              "      </button>\n",
              "\n",
              "\n",
              "\n",
              "    <div id=\"df-7860ac95-3b1e-4228-95ae-ed65fd7da1f2\">\n",
              "      <button class=\"colab-df-quickchart\" onclick=\"quickchart('df-7860ac95-3b1e-4228-95ae-ed65fd7da1f2')\"\n",
              "              title=\"Suggest charts.\"\n",
              "              style=\"display:none;\">\n",
              "\n",
              "<svg xmlns=\"http://www.w3.org/2000/svg\" height=\"24px\"viewBox=\"0 0 24 24\"\n",
              "     width=\"24px\">\n",
              "    <g>\n",
              "        <path d=\"M19 3H5c-1.1 0-2 .9-2 2v14c0 1.1.9 2 2 2h14c1.1 0 2-.9 2-2V5c0-1.1-.9-2-2-2zM9 17H7v-7h2v7zm4 0h-2V7h2v10zm4 0h-2v-4h2v4z\"/>\n",
              "    </g>\n",
              "</svg>\n",
              "      </button>\n",
              "    </div>\n",
              "\n",
              "<style>\n",
              "  .colab-df-quickchart {\n",
              "    background-color: #E8F0FE;\n",
              "    border: none;\n",
              "    border-radius: 50%;\n",
              "    cursor: pointer;\n",
              "    display: none;\n",
              "    fill: #1967D2;\n",
              "    height: 32px;\n",
              "    padding: 0 0 0 0;\n",
              "    width: 32px;\n",
              "  }\n",
              "\n",
              "  .colab-df-quickchart:hover {\n",
              "    background-color: #E2EBFA;\n",
              "    box-shadow: 0px 1px 2px rgba(60, 64, 67, 0.3), 0px 1px 3px 1px rgba(60, 64, 67, 0.15);\n",
              "    fill: #174EA6;\n",
              "  }\n",
              "\n",
              "  [theme=dark] .colab-df-quickchart {\n",
              "    background-color: #3B4455;\n",
              "    fill: #D2E3FC;\n",
              "  }\n",
              "\n",
              "  [theme=dark] .colab-df-quickchart:hover {\n",
              "    background-color: #434B5C;\n",
              "    box-shadow: 0px 1px 3px 1px rgba(0, 0, 0, 0.15);\n",
              "    filter: drop-shadow(0px 1px 2px rgba(0, 0, 0, 0.3));\n",
              "    fill: #FFFFFF;\n",
              "  }\n",
              "</style>\n",
              "\n",
              "    <script>\n",
              "      async function quickchart(key) {\n",
              "        const containerElement = document.querySelector('#' + key);\n",
              "        const charts = await google.colab.kernel.invokeFunction(\n",
              "            'suggestCharts', [key], {});\n",
              "      }\n",
              "    </script>\n",
              "\n",
              "      <script>\n",
              "\n",
              "function displayQuickchartButton(domScope) {\n",
              "  let quickchartButtonEl =\n",
              "    domScope.querySelector('#df-7860ac95-3b1e-4228-95ae-ed65fd7da1f2 button.colab-df-quickchart');\n",
              "  quickchartButtonEl.style.display =\n",
              "    google.colab.kernel.accessAllowed ? 'block' : 'none';\n",
              "}\n",
              "\n",
              "        displayQuickchartButton(document);\n",
              "      </script>\n",
              "      <style>\n",
              "    .colab-df-container {\n",
              "      display:flex;\n",
              "      flex-wrap:wrap;\n",
              "      gap: 12px;\n",
              "    }\n",
              "\n",
              "    .colab-df-convert {\n",
              "      background-color: #E8F0FE;\n",
              "      border: none;\n",
              "      border-radius: 50%;\n",
              "      cursor: pointer;\n",
              "      display: none;\n",
              "      fill: #1967D2;\n",
              "      height: 32px;\n",
              "      padding: 0 0 0 0;\n",
              "      width: 32px;\n",
              "    }\n",
              "\n",
              "    .colab-df-convert:hover {\n",
              "      background-color: #E2EBFA;\n",
              "      box-shadow: 0px 1px 2px rgba(60, 64, 67, 0.3), 0px 1px 3px 1px rgba(60, 64, 67, 0.15);\n",
              "      fill: #174EA6;\n",
              "    }\n",
              "\n",
              "    [theme=dark] .colab-df-convert {\n",
              "      background-color: #3B4455;\n",
              "      fill: #D2E3FC;\n",
              "    }\n",
              "\n",
              "    [theme=dark] .colab-df-convert:hover {\n",
              "      background-color: #434B5C;\n",
              "      box-shadow: 0px 1px 3px 1px rgba(0, 0, 0, 0.15);\n",
              "      filter: drop-shadow(0px 1px 2px rgba(0, 0, 0, 0.3));\n",
              "      fill: #FFFFFF;\n",
              "    }\n",
              "  </style>\n",
              "\n",
              "      <script>\n",
              "        const buttonEl =\n",
              "          document.querySelector('#df-425e9307-e3c8-4cdf-9ea3-d6f543130d2f button.colab-df-convert');\n",
              "        buttonEl.style.display =\n",
              "          google.colab.kernel.accessAllowed ? 'block' : 'none';\n",
              "\n",
              "        async function convertToInteractive(key) {\n",
              "          const element = document.querySelector('#df-425e9307-e3c8-4cdf-9ea3-d6f543130d2f');\n",
              "          const dataTable =\n",
              "            await google.colab.kernel.invokeFunction('convertToInteractive',\n",
              "                                                     [key], {});\n",
              "          if (!dataTable) return;\n",
              "\n",
              "          const docLinkHtml = 'Like what you see? Visit the ' +\n",
              "            '<a target=\"_blank\" href=https://colab.research.google.com/notebooks/data_table.ipynb>data table notebook</a>'\n",
              "            + ' to learn more about interactive tables.';\n",
              "          element.innerHTML = '';\n",
              "          dataTable['output_type'] = 'display_data';\n",
              "          await google.colab.output.renderOutput(dataTable, element);\n",
              "          const docLink = document.createElement('div');\n",
              "          docLink.innerHTML = docLinkHtml;\n",
              "          element.appendChild(docLink);\n",
              "        }\n",
              "      </script>\n",
              "    </div>\n",
              "  </div>\n"
            ]
          },
          "metadata": {},
          "execution_count": 56
        }
      ]
    },
    {
      "cell_type": "code",
      "source": [],
      "metadata": {
        "id": "cP3sbTaq4YpJ"
      },
      "execution_count": null,
      "outputs": []
    },
    {
      "cell_type": "code",
      "source": [
        "# len(tfidf_pipeline.named_steps['main'].named_transformers['tfidf'].vocabulary_)"
      ],
      "metadata": {
        "id": "7tdmAln3Hnm1"
      },
      "execution_count": null,
      "outputs": []
    },
    {
      "cell_type": "code",
      "source": [
        "### to study the accuracy of the classification model (without any hyperparameter tuning)\n",
        "\n",
        "\n",
        "from sklearn import metrics\n",
        "from matplotlib import pyplot as plt\n",
        "\n",
        "X_train_to_use=X_train_transformed\n",
        "X_test_to_use=X_test_transformed\n",
        "y_train_to_use=y_train_nan_dropped\n",
        "y_test_to_use=y_test_nan_dropped\n",
        "\n",
        "### confusion matrix\n",
        "\n",
        "confusion_matrix= metrics.confusion_matrix(y_test_to_use,y_pred)\n",
        "# display_labels=[0,1] ## (manual)\n",
        "cm_display= metrics.ConfusionMatrixDisplay(confusion_matrix=confusion_matrix )\n",
        "cm_display.plot()\n",
        "plt.show()\n",
        "\n",
        "\n",
        "### accuracy metrics\n",
        "accuracy= metrics.accuracy_score(y_test_to_use,y_pred)\n",
        "recall= metrics.recall_score(y_test_to_use,y_pred,average='macro')\n",
        "# recall= metrics.recall_score(y_test_to_use,y_pred)\n",
        "recall0= metrics.recall_score(y_test_to_use,y_pred,pos_label=0,average='macro')\n",
        "\n",
        "precision= metrics.precision_score(y_test_to_use,y_pred,average='macro')\n",
        "precision0= metrics.precision_score(y_test_to_use,y_pred,pos_label=0,average='macro')\n",
        "\n",
        "f_score= 2*recall*precision/(recall+precision)\n",
        "\n",
        "print('accuracy is ',accuracy, '\\n')\n",
        "print('recall for class 1 is ',recall, '\\n')\n",
        "print('precision for class 1 is ',precision, '\\n')\n",
        "print('recall for class 0 is ',recall0, '\\n')\n",
        "print('precision for class 0 is ',precision0, '\\n')\n",
        "\n",
        "print('f_score is for class 1',f_score, '\\n')\n",
        "\n",
        "# result_dict.update({str(type(algo_class).__name__):{'accuracy':accuracy, 'recall':recall,'precision':precision,'f_score':f_score}})\n",
        "\n",
        "\n",
        "### bias and variance\n",
        "# error_rate=1-accuracy\n",
        "# train_accuracy=  metrics.accuracy_score(y_train_to_use,y_train_pred)\n",
        "# variance_measure=np.abs(train_accuracy - accuracy)\n",
        "# print('a measure of bias =',error_rate,'\\na measure of variance =',variance_measure)"
      ],
      "metadata": {
        "id": "JXMnTDD8XyKb"
      },
      "execution_count": null,
      "outputs": []
    },
    {
      "cell_type": "code",
      "execution_count": null,
      "metadata": {
        "id": "YnQOivwKoR_z"
      },
      "outputs": [],
      "source": []
    },
    {
      "cell_type": "code",
      "execution_count": null,
      "metadata": {
        "id": "IlmILIYed6A6"
      },
      "outputs": [],
      "source": []
    },
    {
      "cell_type": "code",
      "execution_count": null,
      "metadata": {
        "id": "o1SEra6McTXb",
        "colab": {
          "base_uri": "https://localhost:8080/"
        },
        "outputId": "25f8517a-54c8-41ca-8f81-dbf9c52b0bfc"
      },
      "outputs": [
        {
          "output_type": "stream",
          "name": "stderr",
          "text": [
            "/usr/local/lib/python3.10/dist-packages/ipykernel/ipkernel.py:283: DeprecationWarning: `should_run_async` will not call `transform_cell` automatically in the future. Please pass the result to `transformed_cell` argument and any exception that happen during thetransform in `preprocessing_exc_tuple` in IPython 7.17 and above.\n",
            "  and should_run_async(code)\n"
          ]
        }
      ],
      "source": [
        "import pickle\n",
        "from datetime import datetime\n",
        "\n",
        "# preprocessed_data=[X_train,X_test,y_train,y_test]\n",
        "# dbfile = open(f'{drive_project_folder_path}/preprocessed_data.pkl', 'wb')\n",
        "\n",
        "# pickle.dump(preprocessed_data, dbfile)\n",
        "# dbfile.close()\n",
        "\n",
        "# import pickle\n",
        "dbfile = open(f'{drive_project_folder_path}/result_dict_{datetime.today().strftime(\"%Y-%m-%d\")}.pkl', 'wb')\n",
        "pickle.dump(result_dict, dbfile)\n",
        "dbfile.close()\n"
      ]
    },
    {
      "cell_type": "markdown",
      "source": [
        "### NN models"
      ],
      "metadata": {
        "id": "8oj4D-lgfstn"
      }
    },
    {
      "cell_type": "code",
      "source": [],
      "metadata": {
        "id": "2amy10FrZfsq"
      },
      "execution_count": null,
      "outputs": []
    },
    {
      "cell_type": "code",
      "execution_count": null,
      "metadata": {
        "id": "XtD9EZJqKJkD"
      },
      "outputs": [],
      "source": [
        "nltk.download(\"punkt\")\n",
        "from nltk.tokenize import word_tokenize\n",
        "from nltk import FreqDist\n",
        "from tensorflow.keras.preprocessing.text import Tokenizer\n",
        "from tensorflow.keras.preprocessing import sequence\n",
        "\n",
        "# text_col=X[text_col_name]\n",
        "# all_words = \" \".join(text_col)\n",
        "# all_words = word_tokenize(all_words)\n",
        "# dist = FreqDist(all_words)\n",
        "# del all_words\n",
        "# num_unique_word = len(dist)\n",
        "\n",
        "# ### get max words per document\n",
        "# r_len = []\n",
        "\n",
        "# for text in X:\n",
        "#     words = word_tokenize(text)\n",
        "#     l = len(words)\n",
        "#     r_len.append(l)\n",
        "\n",
        "# MAX_TWEET_LEN = np.max(r_len)\n",
        "# del r_len\n",
        "# class TensorflowTokenizer(DummyTransformer):\n",
        "#     def transform(self,X=None):\n",
        "#         # text_col=X[text_col_name]\n",
        "#         text_col=X\n",
        "#         tokenizer = Tokenizer(num_words = num_unique_word)\n",
        "#         tokenizer.fit_on_texts(list(text_col))\n",
        "#         text_col= tokenizer.texts_to_sequences(text_col)\n",
        "#         text_col = sequence.pad_sequences(text_col, MAX_TWEET_LEN)\n",
        "#         return text_col\n",
        "\n",
        "class TensorflowTokenizer(DummyTransformer):\n",
        "    def fit(self,X):\n",
        "        self.text_col_name=text_col_name\n",
        "\n",
        "        if  len(X.shape)==1:\n",
        "            text_col=X\n",
        "        elif X.shape[1]==1 :\n",
        "            text_col=X\n",
        "\n",
        "\n",
        "        else:\n",
        "\n",
        "            text_col=X[self.text_col_name]\n",
        "\n",
        "        all_words = \" \".join(text_col)\n",
        "        all_words = word_tokenize(all_words)\n",
        "        dist = FreqDist(all_words)\n",
        "        del all_words\n",
        "        self.num_unique_word = len(dist)\n",
        "\n",
        "        ### get max words per document\n",
        "        r_len = []\n",
        "\n",
        "        for text in X:\n",
        "            words = word_tokenize(text)\n",
        "            l = len(words)\n",
        "            r_len.append(l)\n",
        "\n",
        "        self.MAX_TWEET_LEN = np.max(r_len)\n",
        "        del r_len\n",
        "        return self\n",
        "\n",
        "    def transform(self,X=None):\n",
        "        # text_col=X[text_col_name]\n",
        "        if  len(X.shape)==1:\n",
        "            text_col=X\n",
        "        elif X.shape[1]==1 :\n",
        "            text_col=X\n",
        "\n",
        "\n",
        "        else:\n",
        "            text_col=X[self.text_col_name]\n",
        "\n",
        "        tokenizer = Tokenizer(num_words = self.num_unique_word)\n",
        "        tokenizer.fit_on_texts(list(text_col))\n",
        "        text_col= tokenizer.texts_to_sequences(text_col)\n",
        "        text_col = sequence.pad_sequences(text_col, self.MAX_TWEET_LEN)\n",
        "        return text_col\n",
        "\n",
        "\n",
        "keras_pipe= Pipeline([('textpreprocessor',TextPreprocessor(method='rnn')),('tensorflowtokenizer',TensorflowTokenizer())])\n",
        "\n",
        "\n",
        "\n",
        "pipe = keras_pipe\n",
        "X_train_transformed=pipe.fit_transform(X_train)\n",
        "X_test_transformed=pipe.transform(X_test)\n",
        "X_train_to_use=X_train_transformed\n",
        "X_test_to_use=X_test_transformed\n",
        "y_train_to_use=y_train\n",
        "y_test_to_use=y_test\n",
        "\n",
        "\n",
        "num_unique_word=keras_pipe.named_steps['tensorflowtokenizer'].num_unique_word\n",
        "MAX_TWEET_LEN=keras_pipe.named_steps['tensorflowtokenizer'].MAX_TWEET_LEN\n"
      ]
    },
    {
      "cell_type": "code",
      "execution_count": null,
      "metadata": {
        "id": "KtZdgCwPPXCh"
      },
      "outputs": [],
      "source": [
        "# TensorflowTokenizer().fit_transform(X_train_basic_prepro)\n",
        "import tensorflow.keras as keras"
      ]
    },
    {
      "cell_type": "code",
      "execution_count": null,
      "metadata": {
        "id": "Orn-V3kEQ5hB"
      },
      "outputs": [],
      "source": [
        "from tensorflow.keras.models import Sequential\n",
        "from tensorflow.keras.layers import LSTM, Dense, Dropout, Embedding,Flatten ,Bidirectional ,Conv1D,MaxPooling1D, GlobalMaxPooling1D,SpatialDropout1D\n",
        "\n",
        "from tensorflow.keras import regularizers\n",
        "from tensorflow.keras import optimizers"
      ]
    },
    {
      "cell_type": "code",
      "execution_count": null,
      "metadata": {
        "id": "o53ZZIOWQvVq"
      },
      "outputs": [],
      "source": [
        "'''\n",
        "model = Sequential()\n",
        "model.add(Embedding(input_dim = num_unique_word, output_dim = 150, input_length = MAX_TWEET_LEN))\n",
        "\n",
        "# model.add(Bidirectional(LSTM(128, dropout = 0.1, kernel_regularizer=regularizers.L1L2(l1=0.01,l2=0.01) )))\n",
        "\n",
        "model.add(Bidirectional(LSTM(10))) ##[[2023-07-20]]-1202-25\n",
        "\n",
        "\n",
        "model.add(Dense(num_targets, activation = \"softmax\"))\n",
        "# model.add(Flatten())\n",
        "'''"
      ]
    },
    {
      "cell_type": "code",
      "source": [
        "# ### from https://www.analyticsvidhya.com/blog/2021/06/natural-language-processing-sentiment-analysis-using-/\n",
        "# ### train acc 99 test acc 65  after 20 epochs ; 1 min per epoch\n",
        "# model = Sequential()\n",
        "# model.add(Embedding(input_dim = num_unique_word, output_dim = 150, input_length = MAX_TWEET_LEN))\n",
        "\n",
        "# model.add(SpatialDropout1D(0.4))\n",
        "# model.add(LSTM(176, dropout=0.2, recurrent_dropout=0.2))\n",
        "# model.add(Dense(num_targets, activation = \"softmax\"))"
      ],
      "metadata": {
        "id": "541lWaTyRwuu"
      },
      "execution_count": null,
      "outputs": []
    },
    {
      "cell_type": "code",
      "source": [
        "### from https://www.analyticsvidhya.com/blog/2021/08/sentiment-analysis-using-bidirectional-stacked-lstm/\n",
        "model = Sequential()\n",
        "model.add(Embedding(input_dim = num_unique_word, output_dim = 150, input_length = MAX_TWEET_LEN))\n",
        "model.add(SpatialDropout1D(0.4))\n",
        "model.add(Bidirectional(LSTM(64, return_sequences=True, input_shape=(None, 1),dropout = 0.1, kernel_regularizer=regularizers.L1L2(l1=0.01,l2=0.01))))\n",
        "model.add(Dropout(0.3))\n",
        "model.add(Bidirectional(LSTM(32,dropout = 0.2, kernel_regularizer=regularizers.L1L2(l1=0.005,l2=0.005))))\n",
        "model.add(Dropout(0.3))\n",
        "model.add(Dense(64, activation='relu'))\n",
        "model.add(Dropout(0.1))\n",
        "model.add(Dense(num_targets, activation = \"softmax\"))"
      ],
      "metadata": {
        "id": "LwiHY13gWW8Q"
      },
      "execution_count": null,
      "outputs": []
    },
    {
      "cell_type": "code",
      "execution_count": null,
      "metadata": {
        "id": "hbaN-o8mZeuD"
      },
      "outputs": [],
      "source": [
        "y_train_to_use_ohe=y_train.astype(np.int).values.flatten() ## change y_train to y_train_to_use\n",
        "# y_train_to_use_ohe=y_train_to_use.astype(np.int).flatten()\n",
        "\n",
        "y_train_to_use=keras.utils.to_categorical(y_train_to_use_ohe,num_targets)\n",
        "model.compile(loss = \"categorical_crossentropy\", optimizer = optimizers.Adam(lr=0.01), metrics = ['accuracy'])\n",
        "# y_train_to_use = np.asarray(y_train_to_use).astype('float32').reshape((-1,1))\n",
        "# y_train_to_use"
      ]
    },
    {
      "cell_type": "code",
      "execution_count": null,
      "metadata": {
        "id": "-SZceDx-0O5v"
      },
      "outputs": [],
      "source": []
    },
    {
      "cell_type": "code",
      "source": [
        "model_name='analyticsvidhya_stacked_bilstm'\n",
        "with open(f'{internship_folder_path}/{model_name}_info.txt','w') as f:\n",
        "    f.write(f'''\n",
        "        bidirectional lstm with default kernel regularisation l1l2\n",
        "        optimizers.Adam(lr=0.01)\n",
        "        ### from https://www.analyticsvidhya.com/blog/2021/08/sentiment-analysis-using-bidirectional-stacked-lstm/\n",
        "\n",
        "    ''')\n",
        "    old_stdout= sys.stdout\n",
        "    sys.stdout = f\n",
        "    model.summary()\n",
        "    sys.stdout= old_stdout\n",
        "\n",
        "\n",
        "reduce_lr_plateau=keras.callbacks.ReduceLROnPlateau(min_lr=10**(-7),patience=15)\n",
        "csvlogger_callback=keras.callbacks.CSVLogger(\n",
        "    filename=f'{internship_folder_path}/{model_name}_CSV_epochs_stats.csv',\n",
        "    append=True\n",
        "    )\n"
      ],
      "metadata": {
        "id": "NLK0IeaoF8g7"
      },
      "execution_count": null,
      "outputs": []
    },
    {
      "cell_type": "code",
      "execution_count": null,
      "metadata": {
        "id": "kkyPNfz3RAlU"
      },
      "outputs": [],
      "source": [
        "y_test_to_use_ohe=keras.utils.to_categorical(y_test_to_use.astype(np.int).values.flatten(),num_targets)\n",
        "\n",
        "callbacks_list=[csvlogger_callback]\n",
        "history1 = model.fit(X_train_to_use,\n",
        "                    y_train_to_use,\n",
        "                    epochs = 70,\n",
        "                    batch_size = 32,\n",
        "                    callbacks=callbacks_list,\n",
        "                    validation_data=[X_test_to_use,y_test_to_use_ohe]\n",
        "                    )"
      ]
    },
    {
      "cell_type": "code",
      "execution_count": null,
      "metadata": {
        "id": "wqIH_RdGQi8g"
      },
      "outputs": [],
      "source": [
        "\n",
        "# dbfile = open(f'{drive_project_folder_path}/model_lstm_2023-07-19_airline.pkl', 'wb')\n",
        "\n",
        "# pickle.dump(model, dbfile)\n",
        "# dbfile.close()"
      ]
    },
    {
      "cell_type": "code",
      "execution_count": null,
      "metadata": {
        "id": "pzIFMTc2z0I7"
      },
      "outputs": [],
      "source": [
        "\n",
        "eval_result=model.evaluate(X_test_to_use,y_test_to_use_ohe)\n",
        "result_dict.update({f'keras':{'accuracy':eval_result[1]}})\n",
        "\n",
        "pd.DataFrame(result_dict).transpose()\n",
        "# pd.DataFrame(result_dict).transpose()"
      ]
    },
    {
      "cell_type": "code",
      "source": [
        "callbacks_list=[csvlogger_callback,reduce_lr_plateau]\n",
        "\n",
        "# callbacks_list=[csvlogger_callback]\n",
        "\n",
        "history1 = model.fit(X_train_to_use,\n",
        "                    y_train_to_use,\n",
        "                    epochs = 500,\n",
        "                    batch_size = 32,\n",
        "                    callbacks=callbacks_list,\n",
        "                    validation_data=[X_test_to_use,y_test_to_use_ohe]\n",
        "                    )"
      ],
      "metadata": {
        "id": "9HJr3hvMLqVQ"
      },
      "execution_count": null,
      "outputs": []
    },
    {
      "cell_type": "code",
      "execution_count": null,
      "metadata": {
        "id": "O29_9TloIiQl"
      },
      "outputs": [],
      "source": [
        "pd.DataFrame(result_dict).transpose()"
      ]
    },
    {
      "cell_type": "code",
      "execution_count": null,
      "metadata": {
        "id": "3X8ZvZ_7HN-z"
      },
      "outputs": [],
      "source": [
        "import pickle\n",
        "# dbfile = open(f'{drive_project_folder_path}/pipelines.pkl', 'wb')\n",
        "\n",
        "# pickle.dump(pipelines, dbfile)\n",
        "# dbfile.close()\n",
        "\n",
        "\n",
        "dbfile = open(f'{drive_project_folder_path}/result_dict_{datetime.today().strftime(\"%Y-%m-%d\")}.pkl', 'wb')\n",
        "\n",
        "pickle.dump(result_dict, dbfile)\n",
        "dbfile.close()\n",
        "\n",
        "\n",
        "# dbfile = open(f'{drive_project_folder_path}/history1.pkl', 'wb')\n",
        "\n",
        "# pickle.dump(history1, dbfile)\n",
        "# dbfile.close()"
      ]
    },
    {
      "cell_type": "code",
      "source": [
        "### debug\n",
        "\n",
        "# '/content/drive/MyDrive/ml-ai files arjun/result_dict_2023-07-19 05:14:23.609124.pkl'\n",
        "# filepath='/content/drive/MyDrive/ml-ai files arjun/history1.pkl'\n",
        "# dbfile = open(filepath, 'rb')\n",
        "\n",
        "# result_dict_from_pkl=pickle.load(dbfile)\n",
        "# dbfile.close()\n",
        "# result_dict_from_pkl"
      ],
      "metadata": {
        "id": "sFtS5wsUpfAw"
      },
      "execution_count": null,
      "outputs": []
    },
    {
      "cell_type": "code",
      "execution_count": null,
      "metadata": {
        "id": "v1yWYO0CiAfn"
      },
      "outputs": [],
      "source": [
        "def build_conv_model(num_unique_word, MAX_TWEET_LEN):\n",
        "    model3 = Sequential()\n",
        "    model3.add(Embedding(input_dim = num_unique_word, output_dim = 150, input_length = MAX_TWEET_LEN))\n",
        "\n",
        "    model3.add(Conv1D(64, kernel_size = 3, padding =\"same\", activation = \"relu\", strides = 1))\n",
        "    model3.add(Dropout(0.2))\n",
        "\n",
        "    model3.add(Conv1D(64, kernel_size = 3, padding =\"same\", activation = \"relu\", strides = 1))\n",
        "    model3.add(Dropout(0.2))\n",
        "\n",
        "    model3.add(GlobalMaxPooling1D())\n",
        "\n",
        "    model3.add(Dense(128, activation = \"relu\"))\n",
        "\n",
        "    model3.add(Dropout(0.2))\n",
        "\n",
        "    model3.add(Dense(num_targets, activation = \"softmax\"))\n",
        "\n",
        "\n",
        "    model3.compile(loss = \"binary_crossentropy\", optimizer = \"adam\", metrics = [\"accuracy\"])\n",
        "    return model3\n",
        "\n",
        "model2=build_conv_model(num_unique_word, MAX_TWEET_LEN)\n",
        "model2.fit(X_train_to_use, y_train_to_use, epochs = 50, batch_size = 32)"
      ]
    },
    {
      "cell_type": "code",
      "execution_count": null,
      "metadata": {
        "id": "IsKfXZzPTwEo"
      },
      "outputs": [],
      "source": [
        "# history1 = model.fit(X_train_to_use, y_train_to_use, epochs = 10, batch_size = 32)"
      ]
    },
    {
      "cell_type": "code",
      "execution_count": null,
      "metadata": {
        "id": "G-Swhu8_VAsc"
      },
      "outputs": [],
      "source": [
        "y_test_to_use_ohe=keras.utils.to_categorical(y_test_to_use.astype(np.int).values.flatten(),num_targets)\n",
        "\n",
        "eval_result=model2.evaluate(X_test_to_use,y_test_to_use_ohe)\n",
        "result_dict.update({f'keras_conv':{'accuracy':eval_result[1]}})\n",
        "\n",
        "pd.DataFrame(result_dict).transpose()"
      ]
    },
    {
      "cell_type": "code",
      "execution_count": null,
      "metadata": {
        "id": "FlWHN8o8Ty-L"
      },
      "outputs": [],
      "source": [
        "# eval_result=model.evaluate(X_test_to_use,y_test_to_use)\n",
        "# result_dict.update({f'keras':{'accuracy':eval_result}})\n",
        "\n",
        "# pd.DataFrame(result_dict).transpose()['accuracy'].max()"
      ]
    },
    {
      "cell_type": "code",
      "execution_count": null,
      "metadata": {
        "id": "Zh4ey5_uT1AM"
      },
      "outputs": [],
      "source": [
        "import pickle\n",
        "# dbfile = open(f'{drive_project_folder_path}/pipelines.pkl', 'wb')\n",
        "\n",
        "# pickle.dump(pipelines, dbfile)\n",
        "# dbfile.close()\n",
        "\n",
        "\n",
        "dbfile = open(f'{drive_project_folder_path}/result_dict.pkl', 'wb')\n",
        "\n",
        "pickle.dump(result_dict, dbfile)\n",
        "dbfile.close()\n",
        "\n",
        "\n",
        "# dbfile = open(f'{drive_project_folder_path}/history1.pkl', 'wb')\n",
        "\n",
        "# pickle.dump(history1, dbfile)\n",
        "# dbfile.close()\n"
      ]
    },
    {
      "cell_type": "markdown",
      "source": [
        "### NN models end"
      ],
      "metadata": {
        "id": "hvQGM4R-VXKh"
      }
    },
    {
      "cell_type": "markdown",
      "source": [
        "## DEBUG SNIPPETS"
      ],
      "metadata": {
        "id": "TZbuokWCEAgt"
      }
    },
    {
      "cell_type": "markdown",
      "metadata": {
        "id": "Ah_tapg_IZCn"
      },
      "source": [
        "#### debug spellcheck timeit"
      ]
    },
    {
      "cell_type": "code",
      "execution_count": null,
      "metadata": {
        "id": "Hof38D_z_Sqj"
      },
      "outputs": [],
      "source": [
        "# nltk.download('words')\n",
        "# SpellChecker().correction('evr')"
      ]
    },
    {
      "cell_type": "code",
      "execution_count": null,
      "metadata": {
        "id": "CqWT8jNuAdCP"
      },
      "outputs": [],
      "source": [
        "from functools import wraps\n",
        "import time\n",
        "\n",
        "\n",
        "def timeit(func):\n",
        "    @wraps(func)\n",
        "    def timeit_wrapper(*args, **kwargs):\n",
        "        start_time = time.perf_counter()\n",
        "        result = func(*args, **kwargs)\n",
        "        end_time = time.perf_counter()\n",
        "        total_time = end_time - start_time\n",
        "        print(f'Function {func.__name__}{args} {kwargs} Took {total_time:.4f} seconds')\n",
        "        return result\n",
        "    return timeit_wrapper"
      ]
    },
    {
      "cell_type": "code",
      "execution_count": null,
      "metadata": {
        "id": "HatAoPAeDok6"
      },
      "outputs": [],
      "source": [
        "# ! pip install pyspellchecker\n",
        "nltk.download('words')"
      ]
    },
    {
      "cell_type": "code",
      "execution_count": null,
      "metadata": {
        "id": "tmzL2sZnRliN"
      },
      "outputs": [],
      "source": [
        "## debug\n",
        "\n",
        "from nltk.corpus import words\n",
        "\n",
        "\n",
        "@timeit\n",
        "def word_exists_spellchecker(word): ##  0.1677 seconds\n",
        "    return (SpellChecker().unknown([word]))\n",
        "\n",
        "@timeit\n",
        "def word_exists_spellchecker(word): ##  0.1677 seconds\n",
        "    return (SpellChecker().unknown([word]))\n",
        "\n",
        "@timeit\n",
        "def word_exists_spellchecker_correction(word): ##  0.1677 seconds\n",
        "    return SpellChecker().correction(word)\n",
        "\n",
        "word_set=set(words.words())\n",
        "@timeit\n",
        "def word_exists(word): ## TAKES Under  a microsecond ## FASTEST METHOD\n",
        "    return (word in word_set)\n",
        "\n",
        "\n",
        "word_to_use='under'\n",
        "print(word_exists(word_to_use))\n",
        "print(word_exists_spellchecker(word_to_use))\n",
        "print(word_exists_spellchecker_correction(word_to_use))\n",
        "\n",
        "\n",
        "if word_exists_spellchecker(word_to_use):\n",
        "    print('word does not exist ')\n",
        "\n",
        "\n",
        "## WRONG -SpellChecker seems to be better on average.\n"
      ]
    },
    {
      "cell_type": "markdown",
      "metadata": {
        "id": "7bWXVIJwH4gh"
      },
      "source": [
        "#### debug spellcheck timeit ends"
      ]
    },
    {
      "cell_type": "markdown",
      "source": [
        "#### spacy testing"
      ],
      "metadata": {
        "id": "ExB9T2rnNY0J"
      }
    },
    {
      "cell_type": "code",
      "execution_count": null,
      "metadata": {
        "id": "njtXI-hUEQw8"
      },
      "outputs": [],
      "source": [
        "\n",
        "! pip install contextualSpellCheck\n",
        "\n",
        "import contextualSpellCheck"
      ]
    },
    {
      "cell_type": "code",
      "source": [
        "import pprint as pp"
      ],
      "metadata": {
        "id": "4FaWFfnUMx6i"
      },
      "execution_count": null,
      "outputs": []
    },
    {
      "cell_type": "code",
      "source": [
        "### try using https://pypi.org/project/contextualSpellCheck/ instead.\n",
        "\n",
        "## following doesn't work .. spacy_hunspell package is outdated i guess.\n",
        "\n",
        "# ! sudo apt-get install libhunspell-dev\n",
        "# ! pip install hunspell\n",
        "# ! pip install spacy_hunspell\n",
        "\n",
        "# import spacy\n",
        "# from spacy_hunspell import spaCyHunSpell\n",
        "\n",
        "# nlp = spacy.load('en_core_web_sm')\n",
        "# hunspell = spaCyHunSpell(nlp, 'linux')\n",
        "# nlp.add_pipe(hunspell)\n",
        "\n",
        "# doc = nlp('I can haz cheezeburger.')\n",
        "# haz = doc[2]\n",
        "# haz._.hunspell_spell  # False\n",
        "# haz._.hunspell_suggest"
      ],
      "metadata": {
        "id": "Y-dRZJ6mSsOy"
      },
      "execution_count": null,
      "outputs": []
    },
    {
      "cell_type": "code",
      "source": [
        "import spacy\n"
      ],
      "metadata": {
        "id": "wmucUgC_wdsQ"
      },
      "execution_count": null,
      "outputs": []
    },
    {
      "cell_type": "code",
      "source": [],
      "metadata": {
        "id": "I4-VyOOYMuwf"
      },
      "execution_count": null,
      "outputs": []
    },
    {
      "cell_type": "code",
      "source": [
        "\n",
        "nlp = spacy.load('en_core_web_sm')\n",
        "contextualSpellCheck.add_to_pipe(nlp)\n",
        "text='Income was $9.4 milion compared to the prior year of $2.7 milion.'\n",
        "%time doc = nlp(text)\n",
        "doc._.outcome_spellCheck"
      ],
      "metadata": {
        "id": "w96-5IHlljYi"
      },
      "execution_count": null,
      "outputs": []
    },
    {
      "cell_type": "code",
      "source": [
        "text='I can haz cheezeburger.'\n",
        "%time doc = nlp(text)\n",
        "doc._.outcome_spellCheck\n"
      ],
      "metadata": {
        "id": "V1kzWPpaSqXF"
      },
      "execution_count": null,
      "outputs": []
    },
    {
      "cell_type": "code",
      "source": [
        "text='I can haz cheezeburger.'\n",
        "\n",
        "nlp = spacy.load('en_core_web_sm')\n",
        "%time doc = nlp(text)\n"
      ],
      "metadata": {
        "id": "oNvvA3Wfwi9z"
      },
      "execution_count": null,
      "outputs": []
    },
    {
      "cell_type": "code",
      "execution_count": null,
      "metadata": {
        "id": "D0tWb5vXsym6"
      },
      "outputs": [],
      "source": [
        "import spacy\n",
        "nlp = spacy.load(\"en_core_web_sm\")\n",
        "text='firsthashtag oh ! must get ! ! ! laughingoutloud mum still isnt convinced'\n",
        "doc = nlp(text)\n",
        "for token in doc:\n",
        "    pp.pprint([token.text, token.lemma_, token.pos_, token.tag_, token.dep_,\n",
        "            token.shape_, token.is_alpha, token.is_stop])\n",
        "\n",
        "text='@joolzgirl oh no! u must get 1!!!lol mum still isnt convinced, and we have 3'\n",
        "doc = nlp(text)\n",
        "for token in doc:\n",
        "    pp.pprint([token.text, token.lemma_, token.pos_, token.tag_, token.dep_,\n",
        "            token.shape_, token.is_alpha, token.is_stop])\n"
      ]
    },
    {
      "cell_type": "markdown",
      "source": [
        "#### spacy testing ends"
      ],
      "metadata": {
        "id": "KxWMLm-UVjA-"
      }
    },
    {
      "cell_type": "markdown",
      "source": [
        "#### debug text preprocessing"
      ],
      "metadata": {
        "id": "BM7PZ5P0XJKy"
      }
    },
    {
      "cell_type": "code",
      "source": [],
      "metadata": {
        "id": "-D6u-OiPXQGj"
      },
      "execution_count": null,
      "outputs": []
    },
    {
      "cell_type": "code",
      "source": [
        "## debug\n",
        "samp_sent='hello, i like cake ! ! ! ? ? ha ha ha!'\n",
        "word_tokenize(samp_sent)"
      ],
      "metadata": {
        "id": "3WbO51-zB8Qp"
      },
      "execution_count": null,
      "outputs": []
    },
    {
      "cell_type": "code",
      "execution_count": null,
      "metadata": {
        "id": "7mVjjJF7T7fg"
      },
      "outputs": [],
      "source": [
        "orig=df[text_col_name][df.index[5]]\n",
        "print(orig)\n",
        "\n",
        "do_basic_text_preprocessing(orig,method='rnn')\n",
        "# remove_stopwords(orig)\n",
        "# fix_spelling_mistakes(df[text_col_name][57])"
      ]
    },
    {
      "cell_type": "markdown",
      "source": [
        "#### end of debug preprocessing"
      ],
      "metadata": {
        "id": "H0oAyQi8XSzY"
      }
    },
    {
      "cell_type": "markdown",
      "source": [
        "#### debug"
      ],
      "metadata": {
        "id": "JzmO3tzIE-Rl"
      }
    },
    {
      "cell_type": "code",
      "source": [
        "stopwords_raw_list=nltk.corpus.stopwords.words('english')\n",
        "from nltk import pos_tag\n",
        "pos_list=pos_tag(stopwords_raw_list)\n",
        "pos_list=[pos_tag([word]) for word in stopwords_raw_list]\n",
        "pos_list"
      ],
      "metadata": {
        "id": "592B45E5-J-p"
      },
      "execution_count": null,
      "outputs": []
    },
    {
      "cell_type": "code",
      "source": [
        "samp_sent=\"@FOX19Sara go girl ! ! Start your day out right ... you'll gotta love that!\"\n",
        "samp_sent=\"@Oblivion I know! I miss her...\"\n",
        "pos_tag(word_tokenize(samp_sent))"
      ],
      "metadata": {
        "id": "0t49cukOAOu1"
      },
      "execution_count": null,
      "outputs": []
    },
    {
      "cell_type": "code",
      "execution_count": null,
      "metadata": {
        "id": "wQaV_ZEFhy7s"
      },
      "outputs": [],
      "source": [
        "## debug\n",
        "text='Python is fun 👍  :P :S'\n",
        "convert_emojis_emoticons_to_text(text)"
      ]
    },
    {
      "cell_type": "markdown",
      "source": [
        "#### debug over"
      ],
      "metadata": {
        "id": "UD39DYdsFBpZ"
      }
    },
    {
      "cell_type": "code",
      "source": [],
      "metadata": {
        "id": "FtR3Q-onvCQP"
      },
      "execution_count": null,
      "outputs": []
    },
    {
      "cell_type": "code",
      "execution_count": null,
      "metadata": {
        "id": "7aBfVRLVQxQZ"
      },
      "outputs": [],
      "source": [
        "# ## debug\n",
        "# print(df['text_col_name'][57])\n",
        "# fix_spelling_mistakes(df['text_col_name'][57])"
      ]
    },
    {
      "cell_type": "code",
      "execution_count": null,
      "metadata": {
        "id": "xC9LDYm7R5Nj"
      },
      "outputs": [],
      "source": [
        "# if SpellChecker().unknown(['the']):\n",
        "#     print('inside if')"
      ]
    },
    {
      "cell_type": "code",
      "execution_count": null,
      "metadata": {
        "id": "p4g4VAFxQxXL"
      },
      "outputs": [],
      "source": [
        "### debug\n",
        "text='hello there! how you doing?... is it too late for you??'\n",
        "text.split()"
      ]
    },
    {
      "cell_type": "code",
      "source": [
        "    # algo_insts=[RandomForestClassifier(class_weight=class_weight_dict)] ##\n",
        "\n",
        "    # algo_insts=[DecisionTreeClassifier(class_weight=class_weight_dict),LogisticRegression(),XGBClassifier()] ##\n",
        "\n",
        "\n",
        "\n",
        "    ### without confusion matrix\n",
        "    # for algo_inst in algo_insts:\n",
        "    #     y_train_to_use=pd.DataFrame(y_train_to_use)\n",
        "    #     y_train_to_use=y_train_to_use.values.flatten()\n",
        "    #     algo_inst.fit(X_train_to_use, y_train_to_use)\n",
        "    #     y_pred=algo_inst.predict(X_test_to_use)\n",
        "    #     accuracy=accuracy_score(y_test_to_use,y_pred)\n",
        "    #     y_train_pred=algo_inst.predict(X_train_to_use)\n",
        "    #     train_acc=accuracy_score(y_train_to_use,y_train_pred)\n",
        "    #     result_dict.update({f'{pipe_name}_{type(algo_inst).__name__}':{'accuracy':accuracy}})\n",
        "    #     print(f'{pipe_name}_{type(algo_inst).__name__}   testing accuracy is  ',accuracy)\n",
        "    #     print(f'{pipe_name}_{type(algo_inst).__name__}   training accuracy is  ',train_acc)"
      ],
      "metadata": {
        "id": "_VoTpx6PIZUn"
      },
      "execution_count": null,
      "outputs": []
    },
    {
      "cell_type": "code",
      "source": [],
      "metadata": {
        "id": "e4ZARdRXvE3K"
      },
      "execution_count": null,
      "outputs": []
    }
  ],
  "metadata": {
    "colab": {
      "collapsed_sections": [
        "sKMeUnzk84pO",
        "33jkjgzDiwZg",
        "zoGA5fxAi9bq",
        "-poKFOg-n0Qf",
        "E6HfWsHNrPor",
        "BZpgaFDsXgqN",
        "990VXOQhVgco",
        "8oj4D-lgfstn",
        "TZbuokWCEAgt",
        "Ah_tapg_IZCn",
        "ExB9T2rnNY0J",
        "JzmO3tzIE-Rl"
      ],
      "provenance": [],
      "gpuType": "T4"
    },
    "kernelspec": {
      "display_name": "Python 3",
      "name": "python3"
    },
    "language_info": {
      "name": "python"
    },
    "accelerator": "GPU"
  },
  "nbformat": 4,
  "nbformat_minor": 0
}